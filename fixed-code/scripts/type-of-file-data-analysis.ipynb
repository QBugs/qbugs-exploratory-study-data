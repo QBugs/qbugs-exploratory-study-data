{
 "cells": [
  {
   "cell_type": "markdown",
   "id": "d0d80ed5",
   "metadata": {},
   "source": [
    "## This notebook preprocess the data in '../data/generated/files-fix-commits.csv' and returns a csv, namely : '../data/generated/type-of-file.csv'"
   ]
  },
  {
   "cell_type": "code",
   "execution_count": null,
   "id": "6dcfb0af",
   "metadata": {},
   "outputs": [],
   "source": [
    "import matplotlib.pyplot as plt\n",
    "import pandas as pd\n",
    "import numpy as np\n",
    "import os\n",
    "import math\n"
   ]
  },
  {
   "cell_type": "code",
   "execution_count": null,
   "id": "fc3c3cb6",
   "metadata": {},
   "outputs": [],
   "source": [
    "files = pd.read_csv('../data/generated/files-fix-commits.csv', sep=',')"
   ]
  },
  {
   "cell_type": "code",
   "execution_count": null,
   "id": "1f33a958",
   "metadata": {},
   "outputs": [],
   "source": [
    "files.shape"
   ]
  },
  {
   "cell_type": "code",
   "execution_count": null,
   "id": "2fc43fba",
   "metadata": {},
   "outputs": [],
   "source": [
    "files = files.dropna() "
   ]
  },
  {
   "cell_type": "code",
   "execution_count": null,
   "id": "c01eb66a",
   "metadata": {},
   "outputs": [],
   "source": [
    "def applySplit(x):\n",
    "    \n",
    "    return x.split('.')[-1]"
   ]
  },
  {
   "cell_type": "code",
   "execution_count": null,
   "id": "46c71387",
   "metadata": {},
   "outputs": [],
   "source": [
    "files['extension'] = files['file_path'].apply(applySplit)"
   ]
  },
  {
   "cell_type": "code",
   "execution_count": null,
   "id": "8be77417",
   "metadata": {},
   "outputs": [],
   "source": [
    "files.head()"
   ]
  },
  {
   "cell_type": "code",
   "execution_count": null,
   "id": "ce3869a9",
   "metadata": {},
   "outputs": [],
   "source": [
    "files['extension'].unique()"
   ]
  },
  {
   "cell_type": "code",
   "execution_count": null,
   "id": "a3d98dff",
   "metadata": {},
   "outputs": [],
   "source": [
    "def getTypeOfFile(x):\n",
    "    \n",
    "    if x == 'py':\n",
    "        typeOfFile = 'Source Code File'\n",
    "    elif x == 'hpp':\n",
    "        typeOfFile = 'Source Code File'\n",
    "    elif x == 'yaml':\n",
    "        typeOfFile = 'Configuration File'\n",
    "    elif x == 'md':\n",
    "        typeOfFile = 'Documentation File'\n",
    "    elif x == 'cpp':\n",
    "        typeOfFile = 'Source Code File'\n",
    "    elif x == 'yml':\n",
    "        typeOfFile = 'Configuration File'\n",
    "    elif x == 'rst':\n",
    "        typeOfFile = 'Text File'\n",
    "    elif x == 'qs':\n",
    "        typeOfFile = 'Data File'\n",
    "    elif x == 'fs':\n",
    "        typeOfFile = 'Source Code File'\n",
    "    elif x == 'cs':\n",
    "        typeOfFile = 'Source Code File'\n",
    "    elif x == 'csproj':\n",
    "        typeOfFile = 'Build File'\n",
    "    elif x == 'ps1':\n",
    "        typeOfFile = 'Text File'\n",
    "    elif x == 'll':\n",
    "        typeOfFile = 'Source Code File'\n",
    "    elif x == 'fsproj':\n",
    "        typeOfFile = 'Build File'\n",
    "    elif x == 'targets':\n",
    "        typeOfFile = 'Source Code File'\n",
    "    elif x == 'h':\n",
    "        typeOfFile = 'Source Code File'\n",
    "    elif x == 'txt':\n",
    "        typeOfFile = 'Text File'\n",
    "    elif x == 'makefile':\n",
    "        typeOfFile = 'Build File'\n",
    "    elif x == 'qisa':\n",
    "        typeOfFile = 'Source Code File'\n",
    "    elif x == 'json':\n",
    "        typeOfFile = 'Data File'\n",
    "    elif x == 'repr':\n",
    "        typeOfFile = 'Data File'\n",
    "    elif x == 'ini':\n",
    "        typeOfFile = 'Configuration File'\n",
    "    elif x == 'sh':\n",
    "        typeOfFile = 'Source Code File'\n",
    "    elif x == 'ipynb':\n",
    "        typeOfFile = 'Source Code File'\n",
    "    elif x == 'CODEOWNERS':\n",
    "        typeOfFile = 'Documentation File'\n",
    "    elif x == 'g4':\n",
    "        typeOfFile = 'Data File'\n",
    "    elif x == 'sln':\n",
    "        typeOfFile = 'Build File'\n",
    "    elif x == 'rs':\n",
    "        typeOfFile = 'Source Code File'\n",
    "    elif x == 'ini':\n",
    "        typeOfFile = 'Configuration File'\n",
    "    elif x == 'cfg':\n",
    "        typeOfFile = 'Configuration File'\n",
    "    elif x == 'toml'\n",
    "        typeOfFile = 'Configuration File'\n",
    "    else:\n",
    "        typeOfFile = 'Unknown'\n",
    "        \n",
    "    \n",
    "    return typeOfFile"
   ]
  },
  {
   "cell_type": "code",
   "execution_count": null,
   "id": "d4a2134f",
   "metadata": {},
   "outputs": [],
   "source": [
    "files['type_of_file'] = files['extension'].apply(getTypeOfFile)"
   ]
  },
  {
   "cell_type": "code",
   "execution_count": null,
   "id": "4db913ed",
   "metadata": {},
   "outputs": [],
   "source": [
    "files['type_of_file'].unique()"
   ]
  },
  {
   "cell_type": "code",
   "execution_count": null,
   "id": "f12cf4c5",
   "metadata": {},
   "outputs": [],
   "source": [
    "files.to_csv('../data/generated/type-of-file.csv',index=False)"
   ]
  }
 ],
 "metadata": {
  "kernelspec": {
   "display_name": "Python 3",
   "language": "python",
   "name": "python3"
  },
  "language_info": {
   "codemirror_mode": {
    "name": "ipython",
    "version": 3
   },
   "file_extension": ".py",
   "mimetype": "text/x-python",
   "name": "python",
   "nbconvert_exporter": "python",
   "pygments_lexer": "ipython3",
   "version": "3.8.8"
  }
 },
 "nbformat": 4,
 "nbformat_minor": 5
}
