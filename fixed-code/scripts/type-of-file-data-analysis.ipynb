{
 "cells": [
  {
   "cell_type": "code",
   "execution_count": null,
   "id": "6dcfb0af",
   "metadata": {},
   "outputs": [],
   "source": [
    "import matplotlib.pyplot as plt\n",
    "import pandas as pd\n",
    "import numpy as np\n",
    "import os\n",
    "import math"
   ]
  },
  {
   "cell_type": "code",
   "execution_count": null,
   "id": "fc3c3cb6",
   "metadata": {},
   "outputs": [],
   "source": [
    "files = pd.read_csv('../data/generated/RQ5_data.csv', sep=',')"
   ]
  },
  {
   "cell_type": "code",
   "execution_count": null,
   "id": "93101836",
   "metadata": {},
   "outputs": [],
   "source": [
    "files.head()"
   ]
  },
  {
   "cell_type": "code",
   "execution_count": null,
   "id": "aa4b4c13",
   "metadata": {},
   "outputs": [],
   "source": [
    "files['Type Of File'] = ''"
   ]
  },
  {
   "cell_type": "code",
   "execution_count": null,
   "id": "10ac4fd7",
   "metadata": {},
   "outputs": [],
   "source": [
    "length = files.shape[0]\n",
    "\n",
    "for i in range(length):\n",
    "    \n",
    "     files.at[i,'Type Of File'] = files.iloc[i]['File'].split('.')[-1]"
   ]
  },
  {
   "cell_type": "code",
   "execution_count": null,
   "id": "ce3869a9",
   "metadata": {},
   "outputs": [],
   "source": [
    "files['Type Of File'].unique()"
   ]
  },
  {
   "cell_type": "code",
   "execution_count": null,
   "id": "bdda767d",
   "metadata": {},
   "outputs": [],
   "source": [
    "quantum_bug_dataframe = files.loc[((files['Bug Type'] == 'Quantum'))]\n",
    "classical_bug_dataframe = files.loc[((files['Bug Type'] == 'Classical'))]"
   ]
  },
  {
   "cell_type": "code",
   "execution_count": null,
   "id": "411f6e5b",
   "metadata": {},
   "outputs": [],
   "source": [
    "quantum_groupbyExtension_df = quantum_bug_dataframe.groupby(by=[\"Type Of File\"]).agg({'Type Of File' : ['count']})\n",
    "classical_groupbyExtension_df = classical_bug_dataframe.groupby(by=[\"Type Of File\"]).agg({'Type Of File' : ['count']})"
   ]
  },
  {
   "cell_type": "code",
   "execution_count": null,
   "id": "d23f6726",
   "metadata": {},
   "outputs": [],
   "source": [
    "fig, (ax1, ax2) = plt.subplots(nrows=2, figsize = (25,25))\n",
    "\n",
    "quantum_groupbyExtension_df.plot.barh(figsize=(25,25),ax = ax1, color = 'black', legend=False)\n",
    "\n",
    "classical_groupbyExtension_df.plot.barh(figsize=(25,25), ax = ax2, color = 'black', legend=False)\n",
    "\n",
    "for p in ax1.patches:\n",
    "    \n",
    "    ax1.annotate(str(p.get_width()), (p.get_x() + p.get_width(), p.get_y()), xytext=(2, 2), textcoords='offset points', size = 6, fontsize=9)\n",
    "\n",
    "for p in ax2.patches:\n",
    "    \n",
    "    ax2.annotate(str(p.get_width()), (p.get_x() + p.get_width(), p.get_y()), xytext=(2, 2), textcoords='offset points', size = 6, fontsize=9)\n",
    "\n",
    "plt.title('')\n",
    "plt.suptitle('')\n",
    "ax1.set_title('Quantum');\n",
    "ax1.set_xlabel(\"\");\n",
    "ax1.set_ylabel(\"\");\n",
    "ax2.set_title('Classical');\n",
    "ax2.set_xlabel(\"\");\n",
    "ax2.set_ylabel(\"\");\n"
   ]
  },
  {
   "cell_type": "code",
   "execution_count": null,
   "id": "e99f2a9d",
   "metadata": {},
   "outputs": [],
   "source": []
  }
 ],
 "metadata": {
  "kernelspec": {
   "display_name": "Python 3",
   "language": "python",
   "name": "python3"
  },
  "language_info": {
   "codemirror_mode": {
    "name": "ipython",
    "version": 3
   },
   "file_extension": ".py",
   "mimetype": "text/x-python",
   "name": "python",
   "nbconvert_exporter": "python",
   "pygments_lexer": "ipython3",
   "version": "3.8.8"
  }
 },
 "nbformat": 4,
 "nbformat_minor": 5
}
