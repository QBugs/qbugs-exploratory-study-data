{
 "cells": [
  {
   "cell_type": "code",
   "execution_count": null,
   "id": "775809a0",
   "metadata": {},
   "outputs": [],
   "source": [
    "import matplotlib.pyplot as plt\n",
    "import pandas as pd\n",
    "import numpy as np\n",
    "import os\n",
    "import math\n",
    "from datetime import datetime as dt\n",
    "from datetime import timedelta as td\n",
    "#import qiskit\n",
    "#from qiskit.tools.visualization import plot_histogram\n"
   ]
  },
  {
   "cell_type": "code",
   "execution_count": null,
   "id": "1f6cac02",
   "metadata": {},
   "outputs": [],
   "source": [
    "buggy_elements = pd.read_csv('../data/RQ2_Data.csv')"
   ]
  },
  {
   "cell_type": "code",
   "execution_count": null,
   "id": "5fd38710",
   "metadata": {
    "scrolled": false
   },
   "outputs": [],
   "source": [
    "buggy_elements.head()"
   ]
  },
  {
   "cell_type": "code",
   "execution_count": null,
   "id": "1dc27fc3",
   "metadata": {},
   "outputs": [],
   "source": [
    "buggy_elements.shape"
   ]
  },
  {
   "cell_type": "markdown",
   "id": "a8f99637",
   "metadata": {},
   "source": [
    "## Convert to timedelta"
   ]
  },
  {
   "cell_type": "code",
   "execution_count": null,
   "id": "3ffc31cc",
   "metadata": {},
   "outputs": [],
   "source": [
    "buggy_elements['Lifetime']= pd.to_timedelta(buggy_elements['Lifetime'])"
   ]
  },
  {
   "cell_type": "code",
   "execution_count": null,
   "id": "089dae3d",
   "metadata": {},
   "outputs": [],
   "source": [
    "buggy_elements.info()"
   ]
  },
  {
   "cell_type": "code",
   "execution_count": null,
   "id": "67512985",
   "metadata": {},
   "outputs": [],
   "source": [
    "buggy_elements['Lifetime'] = buggy_elements['Lifetime'].dt.total_seconds()"
   ]
  },
  {
   "cell_type": "markdown",
   "id": "3f1ca5a1",
   "metadata": {},
   "source": [
    "for i in buggy_elements['Lifetime']:\n",
    "    \n",
    "    print(i)"
   ]
  },
  {
   "cell_type": "markdown",
   "id": "54866d93",
   "metadata": {},
   "source": [
    "## Average Bug lifetime, Nº of times modified and Number of Authors for each type of component- Overall Distribution"
   ]
  },
  {
   "cell_type": "code",
   "execution_count": null,
   "id": "786eecad",
   "metadata": {},
   "outputs": [],
   "source": [
    "code_element_component = ['Return','Function Call','Del keyword','Assignment','Augmented Assignment','Annotated assignment','For loop','Async For Loop','While loop','If statement','With keyword','Async With keyword','Match keyword','Raise exception','Try exception','Assertion','Import keyword','ImportFrom keyword','Global Variable','Non Local Variable','Break','Continue','Pass','Boolean operator','Named expression','Binary operator','Unitary Operator','Lambda','Conditional expression','List comprehension','Set comprehension','Dictionary comprehension','Object generator','Await expression','Yield expression','YieldFrom expression','Comparison expression','Constant','Tuple','List','Attribute']"
   ]
  },
  {
   "cell_type": "code",
   "execution_count": null,
   "id": "ac1c03fc",
   "metadata": {},
   "outputs": [],
   "source": [
    "component_author_average = []\n",
    "component_modified_average = []\n",
    "component_lifetime_average = []\n",
    "\n",
    "\n",
    "for component in code_element_component:\n",
    "    \n",
    "    rslt_df = buggy_elements[buggy_elements['Components'].str.contains(component, regex=False)]\n",
    "    \n",
    "    \n",
    "    component_author_average.append(rslt_df[\"Number of Authors\"].mean())\n",
    "    component_modified_average.append(rslt_df[\"Number of times modified\"].mean())\n",
    "    component_lifetime_average.append(rslt_df[\"Lifetime\"].mean())\n",
    "\n",
    "    "
   ]
  },
  {
   "cell_type": "code",
   "execution_count": null,
   "id": "a9941047",
   "metadata": {},
   "outputs": [],
   "source": [
    "component_author_average = [0 if math.isnan(x) else x for x in component_author_average]"
   ]
  },
  {
   "cell_type": "code",
   "execution_count": null,
   "id": "f7b67c89",
   "metadata": {},
   "outputs": [],
   "source": [
    "component_modified_average = [0 if math.isnan(x) else x for x in component_modified_average]"
   ]
  },
  {
   "cell_type": "code",
   "execution_count": null,
   "id": "94ab4643",
   "metadata": {},
   "outputs": [],
   "source": [
    "component_lifetime_average = [0 if math.isnan(x) else x for x in component_lifetime_average]"
   ]
  },
  {
   "cell_type": "code",
   "execution_count": null,
   "id": "c38f93aa",
   "metadata": {},
   "outputs": [],
   "source": [
    "print(component_author_average)"
   ]
  },
  {
   "cell_type": "code",
   "execution_count": null,
   "id": "025ae15e",
   "metadata": {},
   "outputs": [],
   "source": [
    "print(component_modified_average)"
   ]
  },
  {
   "cell_type": "code",
   "execution_count": null,
   "id": "4c9931b3",
   "metadata": {},
   "outputs": [],
   "source": [
    "print(component_lifetime_average)"
   ]
  },
  {
   "cell_type": "code",
   "execution_count": null,
   "id": "fe65defd",
   "metadata": {
    "scrolled": true
   },
   "outputs": [],
   "source": [
    "# Figure Size\n",
    "fig, ax = plt.subplots(figsize =(16, 9))\n",
    " \n",
    "# Horizontal Bar Plot\n",
    "ax.barh(code_element_component, component_author_average, color = 'grey')\n",
    " \n",
    "# Remove axes splines\n",
    "for s in ['top', 'bottom', 'left', 'right']:\n",
    "    ax.spines[s].set_visible(False)\n",
    " \n",
    "# Remove x, y Ticks\n",
    "ax.xaxis.set_ticks_position('none')\n",
    "ax.yaxis.set_ticks_position('none')\n",
    " \n",
    "# Add padding between axes and labels\n",
    "ax.xaxis.set_tick_params(pad = 5)\n",
    "ax.yaxis.set_tick_params(pad = 10)\n",
    " \n",
    "# Add x, y gridlines\n",
    "ax.grid(b = True, color ='grey',\n",
    "        linestyle ='-.', linewidth = 0.5,\n",
    "        alpha = 0.2)\n",
    " \n",
    "# Show top values\n",
    "ax.invert_yaxis()\n",
    " \n",
    "# Add annotation to bars\n",
    "for i in ax.patches:\n",
    "    plt.text(i.get_width()+0.2, i.get_y()+0.5,\n",
    "             str(round((i.get_width()), 2)),\n",
    "             fontsize = 10, fontweight ='bold',\n",
    "             color ='grey')\n",
    " \n",
    "# Add Plot Title\n",
    "ax.set_title('Number of Authors on average for each component ',\n",
    "             loc ='left', )\n",
    "# Show Plot\n",
    "plt.show()"
   ]
  },
  {
   "cell_type": "code",
   "execution_count": null,
   "id": "4a3d0469",
   "metadata": {},
   "outputs": [],
   "source": [
    "# Figure Size\n",
    "fig, ax = plt.subplots(figsize =(16, 9))\n",
    " \n",
    "# Horizontal Bar Plot\n",
    "ax.barh(code_element_component, component_modified_average, color = 'grey')\n",
    " \n",
    "# Remove axes splines\n",
    "for s in ['top', 'bottom', 'left', 'right']:\n",
    "    ax.spines[s].set_visible(False)\n",
    " \n",
    "# Remove x, y Ticks\n",
    "ax.xaxis.set_ticks_position('none')\n",
    "ax.yaxis.set_ticks_position('none')\n",
    " \n",
    "# Add padding between axes and labels\n",
    "ax.xaxis.set_tick_params(pad = 5)\n",
    "ax.yaxis.set_tick_params(pad = 10)\n",
    " \n",
    "# Add x, y gridlines\n",
    "ax.grid(b = True, color ='grey',\n",
    "        linestyle ='-.', linewidth = 0.5,\n",
    "        alpha = 0.2)\n",
    " \n",
    "# Show top values\n",
    "ax.invert_yaxis()\n",
    " \n",
    "# Add annotation to bars\n",
    "for i in ax.patches:\n",
    "    plt.text(i.get_width()+0.2, i.get_y()+0.5,\n",
    "             str(round((i.get_width()), 2)),\n",
    "             fontsize = 10, fontweight ='bold',\n",
    "             color ='grey')\n",
    " \n",
    "# Add Plot Title\n",
    "ax.set_title('Number of times on average each component was modified ',\n",
    "             loc ='left', )\n",
    "# Show Plot\n",
    "plt.show()"
   ]
  },
  {
   "cell_type": "code",
   "execution_count": null,
   "id": "2836ef94",
   "metadata": {
    "scrolled": true
   },
   "outputs": [],
   "source": [
    "# Figure Size\n",
    "fig, ax = plt.subplots(figsize =(16, 9))\n",
    " \n",
    "# Horizontal Bar Plot\n",
    "ax.barh(code_element_component, component_lifetime_average, color = 'grey')\n",
    " \n",
    "# Remove axes splines\n",
    "for s in ['top', 'bottom', 'left', 'right']:\n",
    "    ax.spines[s].set_visible(False)\n",
    " \n",
    "# Remove x, y Ticks\n",
    "ax.xaxis.set_ticks_position('none')\n",
    "ax.yaxis.set_ticks_position('none')\n",
    " \n",
    "# Add padding between axes and labels\n",
    "ax.xaxis.set_tick_params(pad = 5)\n",
    "ax.yaxis.set_tick_params(pad = 10)\n",
    " \n",
    "# Add x, y gridlines\n",
    "ax.grid(b = True, color ='grey',\n",
    "        linestyle ='-.', linewidth = 0.5,\n",
    "        alpha = 0.2)\n",
    " \n",
    "# Show top values\n",
    "ax.invert_yaxis()\n",
    " \n",
    "# Add annotation to bars\n",
    "for i in ax.patches:\n",
    "    plt.text(i.get_width()+0.2, i.get_y()+0.5,\n",
    "             str(round((i.get_width()), 2)),\n",
    "             fontsize = 10, fontweight ='bold',\n",
    "             color ='grey')\n",
    " \n",
    "# Add Plot Title\n",
    "ax.set_title('Average bug lifetime in seconds',\n",
    "             loc ='left', )\n",
    "# Show Plot\n",
    "plt.show()"
   ]
  },
  {
   "cell_type": "markdown",
   "id": "203f0db8",
   "metadata": {},
   "source": [
    "plot_histogram([result1.get_counts(), result1.get_counts(),result3.get_counts()], sort='desc', figsize=(15,12),\n",
    "               color=['orange', 'red', 'blue'])\n"
   ]
  },
  {
   "cell_type": "markdown",
   "id": "e7ef33f5",
   "metadata": {},
   "source": [
    "## Quantum Distribution"
   ]
  },
  {
   "cell_type": "code",
   "execution_count": null,
   "id": "7c597e08",
   "metadata": {},
   "outputs": [],
   "source": [
    "quantum_bug_dataframe = buggy_elements.loc[((buggy_elements['Bug Type'] == 'Quantum'))]"
   ]
  },
  {
   "cell_type": "code",
   "execution_count": null,
   "id": "495170be",
   "metadata": {},
   "outputs": [],
   "source": [
    "quantum_bug_dataframe.head()"
   ]
  },
  {
   "cell_type": "code",
   "execution_count": null,
   "id": "aa50a31c",
   "metadata": {},
   "outputs": [],
   "source": [
    "quantum_bug_dataframe.shape"
   ]
  },
  {
   "cell_type": "code",
   "execution_count": null,
   "id": "0b533dc6",
   "metadata": {},
   "outputs": [],
   "source": [
    "quantum_component_author_average = []\n",
    "quantum_component_modified_average = []\n",
    "quantum_component_lifetime_average = []\n",
    "\n",
    "for component in code_element_component:\n",
    "    \n",
    "    quantum_rslt_df = quantum_bug_dataframe[quantum_bug_dataframe['Components'].str.contains(component, regex=False)]\n",
    "   \n",
    "    \n",
    "    quantum_component_author_average.append(quantum_rslt_df[\"Number of Authors\"].mean())\n",
    "    quantum_component_modified_average.append(quantum_rslt_df[\"Number of times modified\"].mean())\n",
    "    quantum_component_lifetime_average.append(quantum_rslt_df[\"Lifetime\"].mean())"
   ]
  },
  {
   "cell_type": "code",
   "execution_count": null,
   "id": "6e4caafa",
   "metadata": {},
   "outputs": [],
   "source": [
    "quantum_component_modified_average = [0 if math.isnan(x) else x for x in quantum_component_modified_average]"
   ]
  },
  {
   "cell_type": "code",
   "execution_count": null,
   "id": "8da84e64",
   "metadata": {},
   "outputs": [],
   "source": [
    "quantum_component_author_average = [0 if math.isnan(x) else x for x in quantum_component_author_average]"
   ]
  },
  {
   "cell_type": "code",
   "execution_count": null,
   "id": "2cfe4476",
   "metadata": {},
   "outputs": [],
   "source": [
    "quantum_component_lifetime_average = [0 if math.isnan(x) else x for x in quantum_component_lifetime_average]"
   ]
  },
  {
   "cell_type": "code",
   "execution_count": null,
   "id": "9ded1e60",
   "metadata": {},
   "outputs": [],
   "source": [
    "print(quantum_component_author_average)"
   ]
  },
  {
   "cell_type": "code",
   "execution_count": null,
   "id": "01e7aa41",
   "metadata": {},
   "outputs": [],
   "source": [
    "print(quantum_component_modified_average)"
   ]
  },
  {
   "cell_type": "code",
   "execution_count": null,
   "id": "7f4e2dff",
   "metadata": {},
   "outputs": [],
   "source": [
    "print(quantum_component_lifetime_average)"
   ]
  },
  {
   "cell_type": "code",
   "execution_count": null,
   "id": "0a3394de",
   "metadata": {},
   "outputs": [],
   "source": [
    "# Figure Size\n",
    "fig, ax = plt.subplots(figsize =(16, 9))\n",
    " \n",
    "# Horizontal Bar Plot\n",
    "ax.barh(code_element_component, quantum_component_author_average, color = 'grey')\n",
    " \n",
    "# Remove axes splines\n",
    "for s in ['top', 'bottom', 'left', 'right']:\n",
    "    ax.spines[s].set_visible(False)\n",
    " \n",
    "# Remove x, y Ticks\n",
    "ax.xaxis.set_ticks_position('none')\n",
    "ax.yaxis.set_ticks_position('none')\n",
    " \n",
    "# Add padding between axes and labels\n",
    "ax.xaxis.set_tick_params(pad = 5)\n",
    "ax.yaxis.set_tick_params(pad = 10)\n",
    " \n",
    "# Add x, y gridlines\n",
    "ax.grid(b = True, color ='grey',\n",
    "        linestyle ='-.', linewidth = 0.5,\n",
    "        alpha = 0.2)\n",
    " \n",
    "# Show top values\n",
    "ax.invert_yaxis()\n",
    " \n",
    "# Add annotation to bars\n",
    "for i in ax.patches:\n",
    "    plt.text(i.get_width()+0.2, i.get_y()+0.5,\n",
    "             str(round((i.get_width()), 2)),\n",
    "             fontsize = 10, fontweight ='bold',\n",
    "             color ='grey')\n",
    " \n",
    "# Add Plot Title\n",
    "ax.set_title('Number of Authors on average for each component over Quantum bugs ',\n",
    "             loc ='left', )\n",
    "# Show Plot\n",
    "plt.show()"
   ]
  },
  {
   "cell_type": "code",
   "execution_count": null,
   "id": "f8557cca",
   "metadata": {},
   "outputs": [],
   "source": [
    "# Figure Size\n",
    "fig, ax = plt.subplots(figsize =(16, 9))\n",
    " \n",
    "# Horizontal Bar Plot\n",
    "ax.barh(code_element_component, quantum_component_modified_average, color = 'grey')\n",
    " \n",
    "# Remove axes splines\n",
    "for s in ['top', 'bottom', 'left', 'right']:\n",
    "    ax.spines[s].set_visible(False)\n",
    " \n",
    "# Remove x, y Ticks\n",
    "ax.xaxis.set_ticks_position('none')\n",
    "ax.yaxis.set_ticks_position('none')\n",
    " \n",
    "# Add padding between axes and labels\n",
    "ax.xaxis.set_tick_params(pad = 5)\n",
    "ax.yaxis.set_tick_params(pad = 10)\n",
    " \n",
    "# Add x, y gridlines\n",
    "ax.grid(b = True, color ='grey',\n",
    "        linestyle ='-.', linewidth = 0.5,\n",
    "        alpha = 0.2)\n",
    " \n",
    "# Show top values\n",
    "ax.invert_yaxis()\n",
    " \n",
    "# Add annotation to bars\n",
    "for i in ax.patches:\n",
    "    plt.text(i.get_width()+0.2, i.get_y()+0.5,\n",
    "             str(round((i.get_width()), 2)),\n",
    "             fontsize = 10, fontweight ='bold',\n",
    "             color ='grey')\n",
    " \n",
    "# Add Plot Title\n",
    "ax.set_title('Number of times on average each component was modified over Quantum bugs ',\n",
    "             loc ='left', )\n",
    "# Show Plot\n",
    "plt.show()"
   ]
  },
  {
   "cell_type": "code",
   "execution_count": null,
   "id": "982f623b",
   "metadata": {},
   "outputs": [],
   "source": [
    "# Figure Size\n",
    "fig, ax = plt.subplots(figsize =(16, 9))\n",
    " \n",
    "# Horizontal Bar Plot\n",
    "ax.barh(code_element_component, quantum_component_lifetime_average, color = 'grey')\n",
    " \n",
    "# Remove axes splines\n",
    "for s in ['top', 'bottom', 'left', 'right']:\n",
    "    ax.spines[s].set_visible(False)\n",
    " \n",
    "# Remove x, y Ticks\n",
    "ax.xaxis.set_ticks_position('none')\n",
    "ax.yaxis.set_ticks_position('none')\n",
    " \n",
    "# Add padding between axes and labels\n",
    "ax.xaxis.set_tick_params(pad = 5)\n",
    "ax.yaxis.set_tick_params(pad = 10)\n",
    " \n",
    "# Add x, y gridlines\n",
    "ax.grid(b = True, color ='grey',\n",
    "        linestyle ='-.', linewidth = 0.5,\n",
    "        alpha = 0.2)\n",
    " \n",
    "# Show top values\n",
    "ax.invert_yaxis()\n",
    " \n",
    "# Add annotation to bars\n",
    "for i in ax.patches:\n",
    "    plt.text(i.get_width()+0.2, i.get_y()+0.5,\n",
    "             str(round((i.get_width()), 2)),\n",
    "             fontsize = 10, fontweight ='bold',\n",
    "             color ='grey')\n",
    " \n",
    "# Add Plot Title\n",
    "ax.set_title('Buggy code element lifetime over Quantum bugs',\n",
    "             loc ='left', )\n",
    "# Show Plot\n",
    "plt.show()"
   ]
  },
  {
   "cell_type": "markdown",
   "id": "d6993605",
   "metadata": {},
   "source": [
    "## Classical Distribution"
   ]
  },
  {
   "cell_type": "code",
   "execution_count": null,
   "id": "d3caac26",
   "metadata": {},
   "outputs": [],
   "source": [
    "classical_bug_dataframe = buggy_elements.loc[((buggy_elements['Bug Type'] == 'Classical'))]"
   ]
  },
  {
   "cell_type": "code",
   "execution_count": null,
   "id": "dd43b883",
   "metadata": {},
   "outputs": [],
   "source": [
    "classical_bug_dataframe.head()"
   ]
  },
  {
   "cell_type": "code",
   "execution_count": null,
   "id": "191c71f1",
   "metadata": {},
   "outputs": [],
   "source": [
    "classical_bug_dataframe.shape"
   ]
  },
  {
   "cell_type": "code",
   "execution_count": null,
   "id": "bb200656",
   "metadata": {},
   "outputs": [],
   "source": [
    "classical_component_author_average = []\n",
    "classical_component_modified_average = []\n",
    "classical_component_lifetime_average = []\n",
    "\n",
    "for component in code_element_component:\n",
    "    \n",
    "    classical_rslt_df = classical_bug_dataframe[classical_bug_dataframe['Components'].str.contains(component, regex=False)]\n",
    "   \n",
    "    \n",
    "    classical_component_author_average.append(classical_rslt_df[\"Number of Authors\"].mean())\n",
    "    classical_component_modified_average.append(classical_rslt_df[\"Number of times modified\"].mean())\n",
    "    classical_component_lifetime_average.append(classical_rslt_df[\"Lifetime\"].mean())"
   ]
  },
  {
   "cell_type": "code",
   "execution_count": null,
   "id": "0cde9987",
   "metadata": {},
   "outputs": [],
   "source": [
    "classical_component_author_average = [0 if math.isnan(x) else x for x in classical_component_author_average]"
   ]
  },
  {
   "cell_type": "code",
   "execution_count": null,
   "id": "b7f5023c",
   "metadata": {},
   "outputs": [],
   "source": [
    "classical_component_modified_average = [0 if math.isnan(x) else x for x in classical_component_modified_average]"
   ]
  },
  {
   "cell_type": "code",
   "execution_count": null,
   "id": "862f7f06",
   "metadata": {},
   "outputs": [],
   "source": [
    "classical_component_lifetime_average = [0 if math.isnan(x) else x for x in classical_component_lifetime_average]"
   ]
  },
  {
   "cell_type": "code",
   "execution_count": null,
   "id": "82060be7",
   "metadata": {},
   "outputs": [],
   "source": [
    "print(classical_component_author_average)"
   ]
  },
  {
   "cell_type": "code",
   "execution_count": null,
   "id": "e1605f37",
   "metadata": {},
   "outputs": [],
   "source": [
    "print(classical_component_modified_average)"
   ]
  },
  {
   "cell_type": "code",
   "execution_count": null,
   "id": "d8bdb7af",
   "metadata": {},
   "outputs": [],
   "source": [
    "print(classical_component_lifetime_average)"
   ]
  },
  {
   "cell_type": "code",
   "execution_count": null,
   "id": "7857b321",
   "metadata": {},
   "outputs": [],
   "source": [
    "# Figure Size\n",
    "fig, ax = plt.subplots(figsize =(16, 9))\n",
    " \n",
    "# Horizontal Bar Plot\n",
    "ax.barh(code_element_component, classical_component_author_average, color = 'grey')\n",
    " \n",
    "# Remove axes splines\n",
    "for s in ['top', 'bottom', 'left', 'right']:\n",
    "    ax.spines[s].set_visible(False)\n",
    " \n",
    "# Remove x, y Ticks\n",
    "ax.xaxis.set_ticks_position('none')\n",
    "ax.yaxis.set_ticks_position('none')\n",
    " \n",
    "# Add padding between axes and labels\n",
    "ax.xaxis.set_tick_params(pad = 5)\n",
    "ax.yaxis.set_tick_params(pad = 10)\n",
    " \n",
    "# Add x, y gridlines\n",
    "ax.grid(b = True, color ='grey',\n",
    "        linestyle ='-.', linewidth = 0.5,\n",
    "        alpha = 0.2)\n",
    " \n",
    "# Show top values\n",
    "ax.invert_yaxis()\n",
    " \n",
    "# Add annotation to bars\n",
    "for i in ax.patches:\n",
    "    plt.text(i.get_width()+0.2, i.get_y()+0.5,\n",
    "             str(round((i.get_width()), 2)),\n",
    "             fontsize = 10, fontweight ='bold',\n",
    "             color ='grey')\n",
    " \n",
    "# Add Plot Title\n",
    "ax.set_title('Number of Authors on average for each component over Classical bugs ',\n",
    "             loc ='left', )\n",
    "# Show Plot\n",
    "plt.show()"
   ]
  },
  {
   "cell_type": "code",
   "execution_count": null,
   "id": "f2c56eeb",
   "metadata": {
    "scrolled": true
   },
   "outputs": [],
   "source": [
    "# Figure Size\n",
    "fig, ax = plt.subplots(figsize =(16, 9))\n",
    " \n",
    "# Horizontal Bar Plot\n",
    "ax.barh(code_element_component, classical_component_modified_average, color = 'grey')\n",
    " \n",
    "# Remove axes splines\n",
    "for s in ['top', 'bottom', 'left', 'right']:\n",
    "    ax.spines[s].set_visible(False)\n",
    " \n",
    "# Remove x, y Ticks\n",
    "ax.xaxis.set_ticks_position('none')\n",
    "ax.yaxis.set_ticks_position('none')\n",
    " \n",
    "# Add padding between axes and labels\n",
    "ax.xaxis.set_tick_params(pad = 5)\n",
    "ax.yaxis.set_tick_params(pad = 10)\n",
    " \n",
    "# Add x, y gridlines\n",
    "ax.grid(b = True, color ='grey',\n",
    "        linestyle ='-.', linewidth = 0.5,\n",
    "        alpha = 0.2)\n",
    " \n",
    "# Show top values\n",
    "ax.invert_yaxis()\n",
    " \n",
    "# Add annotation to bars\n",
    "for i in ax.patches:\n",
    "    plt.text(i.get_width()+0.2, i.get_y()+0.5,\n",
    "             str(round((i.get_width()), 2)),\n",
    "             fontsize = 10, fontweight ='bold',\n",
    "             color ='grey')\n",
    " \n",
    "# Add Plot Title\n",
    "ax.set_title('Number of times on average each component was modified over Classical bugs ',\n",
    "             loc ='left', )\n",
    "# Show Plot\n",
    "plt.show()"
   ]
  },
  {
   "cell_type": "code",
   "execution_count": null,
   "id": "fa80bc67",
   "metadata": {},
   "outputs": [],
   "source": [
    "# Figure Size\n",
    "fig, ax = plt.subplots(figsize =(16, 9))\n",
    " \n",
    "# Horizontal Bar Plot\n",
    "ax.barh(code_element_component, classical_component_lifetime_average, color = 'grey')\n",
    " \n",
    "# Remove axes splines\n",
    "for s in ['top', 'bottom', 'left', 'right']:\n",
    "    ax.spines[s].set_visible(False)\n",
    " \n",
    "# Remove x, y Ticks\n",
    "ax.xaxis.set_ticks_position('none')\n",
    "ax.yaxis.set_ticks_position('none')\n",
    " \n",
    "# Add padding between axes and labels\n",
    "ax.xaxis.set_tick_params(pad = 5)\n",
    "ax.yaxis.set_tick_params(pad = 10)\n",
    " \n",
    "# Add x, y gridlines\n",
    "ax.grid(b = True, color ='grey',\n",
    "        linestyle ='-.', linewidth = 0.5,\n",
    "        alpha = 0.2)\n",
    " \n",
    "# Show top values\n",
    "ax.invert_yaxis()\n",
    " \n",
    "# Add annotation to bars\n",
    "for i in ax.patches:\n",
    "    plt.text(i.get_width()+0.2, i.get_y()+0.5,\n",
    "             str(round((i.get_width()), 2)),\n",
    "             fontsize = 10, fontweight ='bold',\n",
    "             color ='grey')\n",
    " \n",
    "# Add Plot Title\n",
    "ax.set_title('Buggy code element lifetime over Classical bugs ',\n",
    "             loc ='left', )\n",
    "# Show Plot\n",
    "plt.show()"
   ]
  },
  {
   "cell_type": "markdown",
   "id": "aa3ca389",
   "metadata": {},
   "source": [
    "## Overall distribution per project"
   ]
  },
  {
   "cell_type": "code",
   "execution_count": null,
   "id": "ac8ad78d",
   "metadata": {},
   "outputs": [],
   "source": [
    "def buggy_code_element_project(project):\n",
    "    project_bug_dataframe = buggy_elements.loc[((buggy_elements['Repo'] == project))]\n",
    "                                                \n",
    "    return project_bug_dataframe"
   ]
  },
  {
   "cell_type": "code",
   "execution_count": null,
   "id": "2bc7563a",
   "metadata": {},
   "outputs": [],
   "source": [
    "def BugAuthorDistributionPerRepo(project_name,values):\n",
    "        # Figure Size\n",
    "    fig, ax = plt.subplots(figsize =(16, 9))\n",
    "\n",
    "    # Horizontal Bar Plot\n",
    "    ax.barh(code_element_component, values, color = 'gray')\n",
    "\n",
    "    # Remove axes splines\n",
    "    for s in ['top', 'bottom', 'left', 'right']:\n",
    "        ax.spines[s].set_visible(False)\n",
    "\n",
    "    # Remove x, y Ticks\n",
    "    ax.xaxis.set_ticks_position('none')\n",
    "    ax.yaxis.set_ticks_position('none')\n",
    "\n",
    "    # Add padding between axes and labels\n",
    "    ax.xaxis.set_tick_params(pad = 5)\n",
    "    ax.yaxis.set_tick_params(pad = 10)\n",
    "\n",
    "    # Add x, y gridlines\n",
    "    ax.grid(b = True, color ='grey',\n",
    "            linestyle ='-.', linewidth = 0.5,\n",
    "            alpha = 0.2)\n",
    "\n",
    "    # Show top values\n",
    "    ax.invert_yaxis()\n",
    "\n",
    "    # Add annotation to bars\n",
    "    for i in ax.patches:\n",
    "        plt.text(i.get_width()+0.2, i.get_y()+0.5,\n",
    "                 str(round((i.get_width()), 2)),\n",
    "                 fontsize = 10, fontweight ='bold',\n",
    "                 color ='grey')\n",
    "\n",
    "    # Add Plot Title\n",
    "    #ax.set_title('Threshold distribution per project - ' + project_name,loc ='left', )\n",
    "    # Show Plot\n",
    "    plt.show()\n",
    "    \n",
    "    #fig.savefig(\"RQ1_\" + project_name + \"_Code_Element_Distribution.pdf\", bbox_inches='tight',)\n",
    "    "
   ]
  },
  {
   "cell_type": "code",
   "execution_count": null,
   "id": "644a732b",
   "metadata": {},
   "outputs": [],
   "source": [
    "def BugModifiedDistributionPerRepo(project_name,values):\n",
    "        # Figure Size\n",
    "    fig, ax = plt.subplots(figsize =(16, 9))\n",
    "\n",
    "    # Horizontal Bar Plot\n",
    "    ax.barh(code_element_component, values, color = 'gray')\n",
    "\n",
    "    # Remove axes splines\n",
    "    for s in ['top', 'bottom', 'left', 'right']:\n",
    "        ax.spines[s].set_visible(False)\n",
    "\n",
    "    # Remove x, y Ticks\n",
    "    ax.xaxis.set_ticks_position('none')\n",
    "    ax.yaxis.set_ticks_position('none')\n",
    "\n",
    "    # Add padding between axes and labels\n",
    "    ax.xaxis.set_tick_params(pad = 5)\n",
    "    ax.yaxis.set_tick_params(pad = 10)\n",
    "\n",
    "    # Add x, y gridlines\n",
    "    ax.grid(b = True, color ='grey',\n",
    "            linestyle ='-.', linewidth = 0.5,\n",
    "            alpha = 0.2)\n",
    "\n",
    "    # Show top values\n",
    "    ax.invert_yaxis()\n",
    "\n",
    "    # Add annotation to bars\n",
    "    for i in ax.patches:\n",
    "        plt.text(i.get_width()+0.2, i.get_y()+0.5,\n",
    "                 str(round((i.get_width()), 2)),\n",
    "                 fontsize = 10, fontweight ='bold',\n",
    "                 color ='grey')\n",
    "\n",
    "    # Add Plot Title\n",
    "    #ax.set_title('Threshold distribution per project - ' + project_name,loc ='left', )\n",
    "    # Show Plot\n",
    "    plt.show()\n",
    "    \n",
    "    #fig.savefig(\"RQ1_\" + project_name + \"_Code_Element_Distribution.pdf\", bbox_inches='tight',)"
   ]
  },
  {
   "cell_type": "code",
   "execution_count": null,
   "id": "2bf4e415",
   "metadata": {},
   "outputs": [],
   "source": [
    "def BugLifetimeDistributionPerRepo(project_name,values):\n",
    "        # Figure Size\n",
    "    fig, ax = plt.subplots(figsize =(16, 9))\n",
    "\n",
    "    # Horizontal Bar Plot\n",
    "    ax.barh(code_element_component, values, color = 'gray')\n",
    "\n",
    "    # Remove axes splines\n",
    "    for s in ['top', 'bottom', 'left', 'right']:\n",
    "        ax.spines[s].set_visible(False)\n",
    "\n",
    "    # Remove x, y Ticks\n",
    "    ax.xaxis.set_ticks_position('none')\n",
    "    ax.yaxis.set_ticks_position('none')\n",
    "\n",
    "    # Add padding between axes and labels\n",
    "    ax.xaxis.set_tick_params(pad = 5)\n",
    "    ax.yaxis.set_tick_params(pad = 10)\n",
    "\n",
    "    # Add x, y gridlines\n",
    "    ax.grid(b = True, color ='grey',\n",
    "            linestyle ='-.', linewidth = 0.5,\n",
    "            alpha = 0.2)\n",
    "\n",
    "    # Show top values\n",
    "    ax.invert_yaxis()\n",
    "\n",
    "    # Add annotation to bars\n",
    "    for i in ax.patches:\n",
    "        plt.text(i.get_width()+0.2, i.get_y()+0.5,\n",
    "                 str(round((i.get_width()), 2)),\n",
    "                 fontsize = 10, fontweight ='bold',\n",
    "                 color ='grey')\n",
    "\n",
    "    # Add Plot Title\n",
    "    #ax.set_title('Threshold distribution per project - ' + project_name,loc ='left', )\n",
    "    # Show Plot\n",
    "    plt.show()\n",
    "    \n",
    "    #fig.savefig(\"RQ1_\" + project_name + \"_Code_Element_Distribution.pdf\", bbox_inches='tight',)"
   ]
  },
  {
   "cell_type": "code",
   "execution_count": null,
   "id": "9b12716b",
   "metadata": {},
   "outputs": [],
   "source": [
    "uniqueRepo = buggy_elements['Repo'].unique()\n",
    "print(uniqueRepo)"
   ]
  },
  {
   "cell_type": "code",
   "execution_count": null,
   "id": "ab2e39a9",
   "metadata": {},
   "outputs": [],
   "source": [
    "for repo in uniqueRepo:\n",
    "    \n",
    "    component_author_average_repo = []\n",
    "    component_modified_average_repo = []\n",
    "    component_lifetime_average_repo = []\n",
    "\n",
    "    for component in code_element_component:\n",
    "        \n",
    "        repo_df = buggy_code_element_project(repo)\n",
    "        \n",
    "        rslt_df = repo_df[repo_df['Components'].str.contains(component, regex=False)]\n",
    "    \n",
    "        component_author_average_repo.append(rslt_df[\"Number of Authors\"].mean())\n",
    "        component_modified_average_repo.append(rslt_df[\"Number of times modified\"].mean())\n",
    "        component_lifetime_average_repo.append(rslt_df[\"Lifetime\"].mean())\n",
    "        \n",
    "        component_author_average_repo = [0 if math.isnan(x) else x for x in component_author_average_repo]\n",
    "        component_modified_average_repo = [0 if math.isnan(x) else x for x in component_modified_average_repo]\n",
    "        component_lifetime_average_repo = [0 if math.isnan(x) else x for x in component_lifetime_average_repo]\n",
    "        \n",
    "    BugAuthorDistributionPerRepo(repo,component_author_average_repo)\n",
    "    BugModifiedDistributionPerRepo(repo,component_modified_average_repo)\n",
    "    BugLifetimeDistributionPerRepo(repo,component_lifetime_average_repo)\n",
    "\n"
   ]
  }
 ],
 "metadata": {
  "kernelspec": {
   "display_name": "Python 3",
   "language": "python",
   "name": "python3"
  },
  "language_info": {
   "codemirror_mode": {
    "name": "ipython",
    "version": 3
   },
   "file_extension": ".py",
   "mimetype": "text/x-python",
   "name": "python",
   "nbconvert_exporter": "python",
   "pygments_lexer": "ipython3",
   "version": "3.8.8"
  }
 },
 "nbformat": 4,
 "nbformat_minor": 5
}
