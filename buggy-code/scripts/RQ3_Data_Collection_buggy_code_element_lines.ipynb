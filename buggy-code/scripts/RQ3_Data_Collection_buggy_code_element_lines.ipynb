{
 "cells": [
  {
   "cell_type": "code",
   "execution_count": null,
   "id": "0481d559",
   "metadata": {},
   "outputs": [],
   "source": [
    "import subprocess\n",
    "from subprocess import Popen\n",
    "import pandas as pd\n",
    "import numpy as np\n",
    "import glob\n",
    "import sys\n",
    "from pathlib import Path"
   ]
  },
  {
   "cell_type": "markdown",
   "id": "ed3bf2ec",
   "metadata": {},
   "source": [
    "## Obtain bug prediction scores"
   ]
  },
  {
   "cell_type": "code",
   "execution_count": null,
   "id": "a17b5362",
   "metadata": {},
   "outputs": [],
   "source": [
    "bugs = pd.read_csv(r'C:/Users/migue/Downloads/ruben-demo-code-lifetime-data.csv',  lineterminator='\\n')"
   ]
  },
  {
   "cell_type": "code",
   "execution_count": null,
   "id": "6a2a8284",
   "metadata": {},
   "outputs": [],
   "source": [
    "bugs.head()"
   ]
  },
  {
   "cell_type": "code",
   "execution_count": null,
   "id": "4ef9c8a7",
   "metadata": {},
   "outputs": [],
   "source": [
    "bugs['bug_fix'].unique()"
   ]
  },
  {
   "cell_type": "code",
   "execution_count": null,
   "id": "655b3894",
   "metadata": {},
   "outputs": [],
   "source": [
    "groupdf = bugs.groupby(by=[\"bug_id\",'line_number'])"
   ]
  },
  {
   "cell_type": "code",
   "execution_count": null,
   "id": "037cdf0c",
   "metadata": {},
   "outputs": [],
   "source": [
    "groupdf.head()"
   ]
  },
  {
   "cell_type": "code",
   "execution_count": null,
   "id": "032de484",
   "metadata": {},
   "outputs": [],
   "source": [
    "import math\n",
    "\n",
    "bugScore = pd.DataFrame()\n",
    "\n",
    "\n",
    "j = 0\n",
    "for i in groupdf:\n",
    "        \n",
    "    print(i[1].shape)\n",
    "    i[1]['author_commit_date'] = (i[1]['author_commit_date'] - i[1]['author_commit_date'].min()) / (i[1]['author_commit_date'].max() - i[1]['author_commit_date'].min())\n",
    "    i[1]['author_commit_date'] = 1/ (1 + math.e**(-12* i[1]['author_commit_date'] + 12))\n",
    "    \n",
    "    sumdf = i[1].groupby(by=[\"bug_fix\"]).agg({'author_commit_date' : ['sum']})\n",
    "    \n",
    "    if sumdf.size == 1:\n",
    "        \n",
    "        twrrevisions = float((sumdf.iloc[0])['author_commit_date'])\n",
    "        Bc = 0.35 * twrrevisions\n",
    "        print(Bc)\n",
    "        defectC = 1 -math.e**(-Bc)\n",
    "        print(defectC)\n",
    "    else :\n",
    "        \n",
    "        twrRevisions = float((sumdf.iloc[0])['author_commit_date'])\n",
    "        twrFixRevisions = float((sumdf.iloc[1])['author_commit_date'])\n",
    "        Bc = 0.35 * twrRevisions + 0.65 * twrFixRevisions\n",
    "        print(Bc)\n",
    "        defectC = 1 -math.e**(-Bc)\n",
    "        print(defectC)\n",
    "    \n",
    "    bug_id = int(i[0][0])\n",
    "    line = int(i[0][1])\n",
    "    print(bug_id)\n",
    "    print(line)\n",
    "    bugScore.at[j,'bug_probability'] = defectC\n",
    "    bugScore.at[j,'bug_id'] = bug_id\n",
    "    bugScore.at[j,'line_number'] = line\n",
    "    bugScore.at[j,'fix_commit_hash'] = i[1].iloc[0]['fix_commit_hash']\n",
    "    bugScore.at[j,'project_full_name'] = i[1].iloc[0]['project_full_name']\n",
    "    bugScore.at[j,'bug_type'] = i[1].iloc[0]['bug_type']\n",
    "    #bugScore.at[j,'file_path'] =  i[0][2]\n",
    "    \n",
    "    j= j + 1\n",
    " \n",
    "        \n",
    "        \n"
   ]
  },
  {
   "cell_type": "code",
   "execution_count": null,
   "id": "9a4e585a",
   "metadata": {},
   "outputs": [],
   "source": [
    "bugScore.head()"
   ]
  },
  {
   "cell_type": "code",
   "execution_count": null,
   "id": "623b22d6",
   "metadata": {},
   "outputs": [],
   "source": [
    "bugScore.shape"
   ]
  },
  {
   "cell_type": "code",
   "execution_count": null,
   "id": "f7321114",
   "metadata": {},
   "outputs": [],
   "source": [
    "bugScore['bug_probability'].unique()"
   ]
  },
  {
   "cell_type": "code",
   "execution_count": null,
   "id": "8797b8bf",
   "metadata": {},
   "outputs": [],
   "source": [
    "bugScore.head(5)"
   ]
  },
  {
   "cell_type": "code",
   "execution_count": null,
   "id": "546f6e9b",
   "metadata": {},
   "outputs": [],
   "source": [
    "#bugs.to_csv('..\\data\\RQ3_Data.csv', index=False, encoding=\"utf8\" )"
   ]
  },
  {
   "cell_type": "code",
   "execution_count": null,
   "id": "46692f86",
   "metadata": {},
   "outputs": [],
   "source": [
    "bugScore = bugScore.sort_values(by=['bug_probability'],ascending=False)"
   ]
  },
  {
   "cell_type": "code",
   "execution_count": null,
   "id": "3c1392ad",
   "metadata": {},
   "outputs": [],
   "source": [
    "length = bugScore.shape[0]\n",
    "counter = 0\n",
    "for i in range(length):\n",
    "    \n",
    "    bugScore.at[i,'ranking_position']= counter + 1 \n",
    "    counter = counter + 1"
   ]
  },
  {
   "cell_type": "code",
   "execution_count": null,
   "id": "0a4b37e3",
   "metadata": {},
   "outputs": [],
   "source": [
    "bugs2 = buggy_elements_df = pd.read_csv('../data/generated/buggy-code-lifetime-data.csv', sep=',')"
   ]
  },
  {
   "cell_type": "code",
   "execution_count": null,
   "id": "3ae6e695",
   "metadata": {},
   "outputs": [],
   "source": [
    "bugs2.head()"
   ]
  },
  {
   "cell_type": "code",
   "execution_count": null,
   "id": "dd505a55",
   "metadata": {},
   "outputs": [],
   "source": [
    "bugs2 = bugs2.rename(columns={\"buggy_line_number\": \"line_number\"})"
   ]
  },
  {
   "cell_type": "code",
   "execution_count": null,
   "id": "26996e66",
   "metadata": {},
   "outputs": [],
   "source": [
    "bugs2.shape"
   ]
  },
  {
   "cell_type": "code",
   "execution_count": null,
   "id": "f7f14f68",
   "metadata": {},
   "outputs": [],
   "source": [
    "bugs2.dtypes"
   ]
  },
  {
   "cell_type": "code",
   "execution_count": null,
   "id": "ccd90300",
   "metadata": {},
   "outputs": [],
   "source": [
    "bugScore.dtypes"
   ]
  },
  {
   "cell_type": "code",
   "execution_count": null,
   "id": "3801bb31",
   "metadata": {},
   "outputs": [],
   "source": [
    "bugs2['bug_id']=bugs2['bug_id'].astype(str)\n",
    "bugs2['line_number']=bugs2['line_number'].astype(str)\n",
    "bugScore['bug_id']=bugScore['bug_id'].astype(str)\n",
    "bugScore['line_number']=bugScore['line_number'].astype(str)\n",
    "bugScore['ranking_position']=bugScore['ranking_position'].astype(int)"
   ]
  },
  {
   "cell_type": "code",
   "execution_count": null,
   "id": "02007150",
   "metadata": {},
   "outputs": [],
   "source": [
    "def removeZero(x):\n",
    "    \n",
    "    return x.split('.')[0]"
   ]
  },
  {
   "cell_type": "code",
   "execution_count": null,
   "id": "a5ae5228",
   "metadata": {},
   "outputs": [],
   "source": [
    "bugScore['bug_id'] = bugScore['bug_id'].apply(removeZero)\n",
    "bugScore['line_number'] = bugScore['line_number'].apply(removeZero)"
   ]
  },
  {
   "cell_type": "code",
   "execution_count": null,
   "id": "6b1dea85",
   "metadata": {},
   "outputs": [],
   "source": [
    "final_df = pd.merge(bugScore,bugs2, on=[\"bug_id\",'line_number'], how=\"inner\")"
   ]
  },
  {
   "cell_type": "code",
   "execution_count": null,
   "id": "bd393914",
   "metadata": {},
   "outputs": [],
   "source": [
    "final_df.head()"
   ]
  },
  {
   "cell_type": "code",
   "execution_count": null,
   "id": "b8f56e8b",
   "metadata": {},
   "outputs": [],
   "source": [
    "final_df['ranking_position'].unique()"
   ]
  },
  {
   "cell_type": "code",
   "execution_count": null,
   "id": "6ebf5aab",
   "metadata": {},
   "outputs": [],
   "source": [
    "#top_30_df = buggy_elements.sort_values(by=['Bug Probability'],ascending=False).head(30)\n",
    "#delete duplicated rows with repeated line,id and file_path ( different buggy code elements)"
   ]
  },
  {
   "cell_type": "code",
   "execution_count": null,
   "id": "077b042e",
   "metadata": {},
   "outputs": [],
   "source": []
  }
 ],
 "metadata": {
  "kernelspec": {
   "display_name": "Python 3",
   "language": "python",
   "name": "python3"
  },
  "language_info": {
   "codemirror_mode": {
    "name": "ipython",
    "version": 3
   },
   "file_extension": ".py",
   "mimetype": "text/x-python",
   "name": "python",
   "nbconvert_exporter": "python",
   "pygments_lexer": "ipython3",
   "version": "3.8.8"
  }
 },
 "nbformat": 4,
 "nbformat_minor": 5
}
