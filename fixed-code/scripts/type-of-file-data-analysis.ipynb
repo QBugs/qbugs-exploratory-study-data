{
 "cells": [
  {
   "cell_type": "markdown",
   "id": "d0d80ed5",
   "metadata": {},
   "source": [
    "## This notebook preprocess the data in '../data/generated/files-fix-commits.csv' and returns a csv, namely : '../data/generated/type-of-file.csv'"
   ]
  },
  {
   "cell_type": "code",
   "execution_count": 1,
   "id": "6dcfb0af",
   "metadata": {},
   "outputs": [],
   "source": [
    "import matplotlib.pyplot as plt\n",
    "import pandas as pd\n",
    "import numpy as np\n",
    "import os\n",
    "import math\n"
   ]
  },
  {
   "cell_type": "code",
   "execution_count": 2,
   "id": "fc3c3cb6",
   "metadata": {},
   "outputs": [],
   "source": [
    "files = pd.read_csv('../data/generated/files-fix-commits.csv', sep=',')"
   ]
  },
  {
   "cell_type": "code",
   "execution_count": 3,
   "id": "1f33a958",
   "metadata": {},
   "outputs": [
    {
     "data": {
      "text/plain": [
       "(935, 5)"
      ]
     },
     "execution_count": 3,
     "metadata": {},
     "output_type": "execute_result"
    }
   ],
   "source": [
    "files.shape"
   ]
  },
  {
   "cell_type": "code",
   "execution_count": 4,
   "id": "2fc43fba",
   "metadata": {},
   "outputs": [],
   "source": [
    "files = files.dropna() "
   ]
  },
  {
   "cell_type": "code",
   "execution_count": 5,
   "id": "c01eb66a",
   "metadata": {},
   "outputs": [],
   "source": [
    "def applySplit(x):\n",
    "    \n",
    "    return x.split('.')[-1]"
   ]
  },
  {
   "cell_type": "code",
   "execution_count": 6,
   "id": "46c71387",
   "metadata": {},
   "outputs": [],
   "source": [
    "files['extension'] = files['file_path'].apply(applySplit)"
   ]
  },
  {
   "cell_type": "code",
   "execution_count": 7,
   "id": "8be77417",
   "metadata": {},
   "outputs": [
    {
     "data": {
      "text/html": [
       "<div>\n",
       "<style scoped>\n",
       "    .dataframe tbody tr th:only-of-type {\n",
       "        vertical-align: middle;\n",
       "    }\n",
       "\n",
       "    .dataframe tbody tr th {\n",
       "        vertical-align: top;\n",
       "    }\n",
       "\n",
       "    .dataframe thead th {\n",
       "        text-align: right;\n",
       "    }\n",
       "</style>\n",
       "<table border=\"1\" class=\"dataframe\">\n",
       "  <thead>\n",
       "    <tr style=\"text-align: right;\">\n",
       "      <th></th>\n",
       "      <th>fix_commit_hash</th>\n",
       "      <th>bug_id</th>\n",
       "      <th>bug_type</th>\n",
       "      <th>file_path</th>\n",
       "      <th>project_name</th>\n",
       "      <th>extension</th>\n",
       "    </tr>\n",
       "  </thead>\n",
       "  <tbody>\n",
       "    <tr>\n",
       "      <th>0</th>\n",
       "      <td>ec1b4ce759f1fb8ba0242dd6c4a309fa1b586666</td>\n",
       "      <td>1</td>\n",
       "      <td>Classical</td>\n",
       "      <td>qiskit_ignis/tomography/fitters/cvx_fit.py</td>\n",
       "      <td>qiskit-ignis</td>\n",
       "      <td>py</td>\n",
       "    </tr>\n",
       "    <tr>\n",
       "      <th>1</th>\n",
       "      <td>e696fee3e52550f50fb240a4c6356c61c9f01725</td>\n",
       "      <td>10</td>\n",
       "      <td>Quantum</td>\n",
       "      <td>qiskit/ignis/characterization/calibrations/ibm...</td>\n",
       "      <td>qiskit-ignis</td>\n",
       "      <td>py</td>\n",
       "    </tr>\n",
       "    <tr>\n",
       "      <th>2</th>\n",
       "      <td>dc7a2413e6c373455c00cff51e37eaaa17a4a7ac</td>\n",
       "      <td>1010</td>\n",
       "      <td>Quantum</td>\n",
       "      <td>src/controllers/controller.hpp</td>\n",
       "      <td>qiskit-aer</td>\n",
       "      <td>hpp</td>\n",
       "    </tr>\n",
       "    <tr>\n",
       "      <th>3</th>\n",
       "      <td>dc7a2413e6c373455c00cff51e37eaaa17a4a7ac</td>\n",
       "      <td>1010</td>\n",
       "      <td>Quantum</td>\n",
       "      <td>src/controllers/qasm_controller.hpp</td>\n",
       "      <td>qiskit-aer</td>\n",
       "      <td>hpp</td>\n",
       "    </tr>\n",
       "    <tr>\n",
       "      <th>4</th>\n",
       "      <td>7de864cc989b354d0ad1febbd62b891270927b6b</td>\n",
       "      <td>1012</td>\n",
       "      <td>Classical</td>\n",
       "      <td>releasenotes/notes/fix-diagonal-unitary-check-...</td>\n",
       "      <td>qiskit-aer</td>\n",
       "      <td>yaml</td>\n",
       "    </tr>\n",
       "  </tbody>\n",
       "</table>\n",
       "</div>"
      ],
      "text/plain": [
       "                            fix_commit_hash bug_id   bug_type  \\\n",
       "0  ec1b4ce759f1fb8ba0242dd6c4a309fa1b586666      1  Classical   \n",
       "1  e696fee3e52550f50fb240a4c6356c61c9f01725     10    Quantum   \n",
       "2  dc7a2413e6c373455c00cff51e37eaaa17a4a7ac   1010    Quantum   \n",
       "3  dc7a2413e6c373455c00cff51e37eaaa17a4a7ac   1010    Quantum   \n",
       "4  7de864cc989b354d0ad1febbd62b891270927b6b   1012  Classical   \n",
       "\n",
       "                                           file_path  project_name extension  \n",
       "0         qiskit_ignis/tomography/fitters/cvx_fit.py  qiskit-ignis        py  \n",
       "1  qiskit/ignis/characterization/calibrations/ibm...  qiskit-ignis        py  \n",
       "2                     src/controllers/controller.hpp    qiskit-aer       hpp  \n",
       "3                src/controllers/qasm_controller.hpp    qiskit-aer       hpp  \n",
       "4  releasenotes/notes/fix-diagonal-unitary-check-...    qiskit-aer      yaml  "
      ]
     },
     "execution_count": 7,
     "metadata": {},
     "output_type": "execute_result"
    }
   ],
   "source": [
    "files.head()"
   ]
  },
  {
   "cell_type": "code",
   "execution_count": 8,
   "id": "ce3869a9",
   "metadata": {},
   "outputs": [
    {
     "data": {
      "text/plain": [
       "array(['py', 'hpp', 'yaml', 'md', 'cpp', 'yml', 'rst', 'toml', 'cfg',\n",
       "       'qs', 'fs', 'cs', 'csproj', 'ps1', 'll', 'fsproj', 'targets', 'h',\n",
       "       'txt', 'makefile', 'qisa', 'json', 'repr', 'ini', 'sh', 'ipynb',\n",
       "       'CODEOWNERS', 'g4', 'sln', 'rs'], dtype=object)"
      ]
     },
     "execution_count": 8,
     "metadata": {},
     "output_type": "execute_result"
    }
   ],
   "source": [
    "files['extension'].unique()"
   ]
  },
  {
   "cell_type": "code",
   "execution_count": null,
   "id": "a3d98dff",
   "metadata": {},
   "outputs": [],
   "source": [
    "def getTypeOfFile(x):\n",
    "    \n",
    "    if x == 'py':\n",
    "        typeOfFile = 'Source Code File'\n",
    "    elif x == 'hpp':\n",
    "        typeOfFile = 'Source Code File'\n",
    "    elif x == 'yaml':\n",
    "        typeOfFile = 'Configuration File'\n",
    "    elif x == 'md':\n",
    "        typeOfFile = 'Documentation File'\n",
    "    elif x == 'cpp':\n",
    "        typeOfFile = 'Source Code File'\n",
    "    elif x == 'yml':\n",
    "        typeOfFile = 'Configuration File'\n",
    "    elif x == 'rst':\n",
    "        typeOfFile = 'Text File'\n",
    "    elif x == 'qs':\n",
    "        typeOfFile = 'Data File'\n",
    "    elif x == 'fs':\n",
    "        typeOfFile = 'Source Code File'\n",
    "    elif x == 'cs':\n",
    "        typeOfFile = 'Source Code File'\n",
    "    elif x == 'csproj':\n",
    "        typeOfFile = 'Build File'\n",
    "    elif x == 'ps1':\n",
    "        typeOfFile = 'Text File'\n",
    "    elif x == 'll':\n",
    "        typeOfFile = 'Source Code File'\n",
    "    elif x == 'fsproj':\n",
    "        typeOfFile = 'Build File'\n",
    "    elif x == 'targets':\n",
    "        typeOfFile = 'Source Code File'\n",
    "    elif x == 'h':\n",
    "        typeOfFile = 'Source Code File'\n",
    "    elif x == 'txt':\n",
    "        typeOfFile = 'Text File'\n",
    "    elif x == 'makefile':\n",
    "        typeOfFile = 'Build File'\n",
    "    elif x == 'qisa':\n",
    "        typeOfFile = 'Source Code File'\n",
    "    elif x == 'json':\n",
    "        typeOfFile = 'Data File'\n",
    "    elif x == 'repr':\n",
    "        typeOfFile = 'Data File'\n",
    "    elif x == 'ini':\n",
    "        typeOfFile = 'Configuration File'\n",
    "    elif x == 'sh':\n",
    "        typeOfFile = 'Source Code File'\n",
    "    elif x == 'ipynb':\n",
    "        typeOfFile = 'Source Code File'\n",
    "    elif x == 'CODEOWNERS':\n",
    "        typeOfFile = 'Documentation File'\n",
    "    elif x == 'g4':\n",
    "        typeOfFile = 'Data File'\n",
    "    elif x == 'sln':\n",
    "        typeOfFile = 'Build File'\n",
    "    elif x == 'rs':\n",
    "        typeOfFile = 'Source Code File'\n",
    "    elif x == 'ini':\n",
    "        typeOfFile = 'Configuration File'\n",
    "    elif x == 'cfg':\n",
    "        typeOfFile = 'Configuration File'\n",
    "    elif x == 'toml'\n",
    "        typeOfFile = 'Configuration File'\n",
    "    else:\n",
    "        typeOfFile = 'Unknown'\n",
    "        \n",
    "    \n",
    "    return typeOfFile"
   ]
  },
  {
   "cell_type": "code",
   "execution_count": null,
   "id": "d4a2134f",
   "metadata": {},
   "outputs": [],
   "source": [
    "files['type_of_file'] = files['extension'].apply(getTypeOfFile)"
   ]
  },
  {
   "cell_type": "code",
   "execution_count": null,
   "id": "4db913ed",
   "metadata": {},
   "outputs": [],
   "source": [
    "files['type_of_file'].unique()"
   ]
  },
  {
   "cell_type": "code",
   "execution_count": null,
   "id": "f12cf4c5",
   "metadata": {},
   "outputs": [],
   "source": [
    "files.to_csv('../data/generated/type-of-file.csv',index=False)"
   ]
  }
 ],
 "metadata": {
  "kernelspec": {
   "display_name": "Python 3",
   "language": "python",
   "name": "python3"
  },
  "language_info": {
   "codemirror_mode": {
    "name": "ipython",
    "version": 3
   },
   "file_extension": ".py",
   "mimetype": "text/x-python",
   "name": "python",
   "nbconvert_exporter": "python",
   "pygments_lexer": "ipython3",
   "version": "3.8.8"
  }
 },
 "nbformat": 4,
 "nbformat_minor": 5
}
