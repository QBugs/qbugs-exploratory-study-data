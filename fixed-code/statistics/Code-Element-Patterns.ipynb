{
 "cells": [
  {
   "cell_type": "markdown",
   "id": "e639f55e",
   "metadata": {},
   "source": [
    "##  This notebook aggregates all code elements and edit_actions by bug_id and file, producing association rules through pattern mining.\n",
    "## This notebook outputs 2 csv files, 1 containing the association rules for bugs labelled as 'Quantum' and the other one containing the association rules for bugs labelled as 'Classical'"
   ]
  },
  {
   "cell_type": "code",
   "execution_count": null,
   "id": "80b61c59",
   "metadata": {},
   "outputs": [],
   "source": [
    "import pandas as pd\n",
    "import numpy as np\n",
    "import matplotlib as plt\n",
    "from mlxtend.preprocessing import TransactionEncoder\n",
    "from mlxtend.frequent_patterns import apriori\n",
    "from mlxtend.frequent_patterns import association_rules\n",
    "from mlxtend.frequent_patterns import fpmax\n",
    "from mlxtend.frequent_patterns import fpgrowth\n",
    "import datetime\n",
    "import warnings\n",
    "warnings.filterwarnings(\"ignore\")"
   ]
  },
  {
   "cell_type": "markdown",
   "id": "bb8d3f29",
   "metadata": {},
   "source": [
    "### Data cleaning and merging"
   ]
  },
  {
   "cell_type": "code",
   "execution_count": null,
   "id": "6ffc2f98",
   "metadata": {},
   "outputs": [],
   "source": [
    "fixElements = pd.read_csv(r'..\\data\\generated\\fixed-code-data.csv',header=None, sep=',')"
   ]
  },
  {
   "cell_type": "code",
   "execution_count": null,
   "id": "38f36ff9",
   "metadata": {},
   "outputs": [],
   "source": [
    "BuggyElements = pd.read_csv(r'..\\..\\buggy-code\\data\\generated\\buggy-code-data.csv',header=None, sep=',')"
   ]
  },
  {
   "cell_type": "code",
   "execution_count": null,
   "id": "afea2554",
   "metadata": {},
   "outputs": [],
   "source": [
    "fixElements.head()"
   ]
  },
  {
   "cell_type": "code",
   "execution_count": null,
   "id": "0aa8ace1",
   "metadata": {},
   "outputs": [],
   "source": [
    "fixElements.columns = [\"project_full_name\", \"fix_commit_hash\", \"buggy_commit_hash\", \"bug_id\", \"bug_type\", \"file_path\",\"line_number\",\"component\",\"edit_action\"]\n",
    "fixElements.drop(index=fixElements.index[0], axis=0, inplace=True)\n",
    "fixElements = fixElements.drop(columns=['project_full_name', 'fix_commit_hash','buggy_commit_hash','line_number'])\n"
   ]
  },
  {
   "cell_type": "code",
   "execution_count": null,
   "id": "4635c779",
   "metadata": {},
   "outputs": [],
   "source": [
    "fixElements.head()"
   ]
  },
  {
   "cell_type": "code",
   "execution_count": null,
   "id": "63328048",
   "metadata": {},
   "outputs": [],
   "source": [
    "fixElements = fixElements.sort_values(by=['bug_id', 'file_path'])\n",
    "fixElements = fixElements.reset_index(drop=True)"
   ]
  },
  {
   "cell_type": "code",
   "execution_count": null,
   "id": "8776f9a4",
   "metadata": {},
   "outputs": [],
   "source": [
    "fixElements.shape"
   ]
  },
  {
   "cell_type": "code",
   "execution_count": null,
   "id": "a9669e55",
   "metadata": {},
   "outputs": [],
   "source": [
    "BuggyElements.head()"
   ]
  },
  {
   "cell_type": "code",
   "execution_count": null,
   "id": "875a1d9d",
   "metadata": {},
   "outputs": [],
   "source": [
    "BuggyElements.columns = [\"project_full_name\", \"fix_commit_hash\", \"buggy_commit_hash\", \"bug_id\", \"bug_type\", \"file_path\",\"line_number\",\"component\",\"edit_action\"]\n",
    "BuggyElements.drop(index=fixElements.index[0], axis=0, inplace=True)\n",
    "BuggyElements = BuggyElements.drop(columns=['project_full_name', 'fix_commit_hash','buggy_commit_hash','line_number'])"
   ]
  },
  {
   "cell_type": "code",
   "execution_count": null,
   "id": "45226b3e",
   "metadata": {},
   "outputs": [],
   "source": [
    "BuggyElements.head()"
   ]
  },
  {
   "cell_type": "code",
   "execution_count": null,
   "id": "5e182dcc",
   "metadata": {},
   "outputs": [],
   "source": [
    "BuggyElements = BuggyElements.sort_values(by=['bug_id', 'file_path'])\n",
    "BuggyElements = BuggyElements.reset_index(drop=True)"
   ]
  },
  {
   "cell_type": "code",
   "execution_count": null,
   "id": "6a80910e",
   "metadata": {},
   "outputs": [],
   "source": [
    "BuggyElements.shape"
   ]
  },
  {
   "cell_type": "code",
   "execution_count": null,
   "id": "7cc3877a",
   "metadata": {},
   "outputs": [],
   "source": [
    "Elements = BuggyElements.append(fixElements)"
   ]
  },
  {
   "cell_type": "code",
   "execution_count": null,
   "id": "7d3a1926",
   "metadata": {},
   "outputs": [],
   "source": [
    "Elements.head()"
   ]
  },
  {
   "cell_type": "code",
   "execution_count": null,
   "id": "c59bc12e",
   "metadata": {},
   "outputs": [],
   "source": [
    "Elements.shape"
   ]
  },
  {
   "cell_type": "markdown",
   "id": "f9eccc1b",
   "metadata": {},
   "source": [
    "### Replacing M and U edit actions by E edit action and merging component with edit action to ease mining algorithm"
   ]
  },
  {
   "cell_type": "code",
   "execution_count": null,
   "id": "59357bfd",
   "metadata": {},
   "outputs": [],
   "source": [
    "Elements[\"edit_action\"].replace({\"M\": \"E\", \"U\": \"E\"}, inplace=True)\n",
    "Elements[\"component-edit_action\"] = Elements['component'].astype(str) +\"-\"+ Elements[\"edit_action\"]\n",
    "Elements = Elements.drop(columns=['component', 'edit_action'])"
   ]
  },
  {
   "cell_type": "code",
   "execution_count": null,
   "id": "9457856a",
   "metadata": {},
   "outputs": [],
   "source": [
    "Elements.head()"
   ]
  },
  {
   "cell_type": "markdown",
   "id": "b60d933d",
   "metadata": {},
   "source": [
    "### Splitting dataframe into bug_type == Quantum and bug_type == Classical"
   ]
  },
  {
   "cell_type": "code",
   "execution_count": null,
   "id": "e0d5015f",
   "metadata": {},
   "outputs": [],
   "source": [
    "quantum_elements = Elements[Elements['bug_type'] == 'Quantum']\n",
    "quantum_elements = quantum_elements.reset_index(drop=True)"
   ]
  },
  {
   "cell_type": "code",
   "execution_count": null,
   "id": "dd289a95",
   "metadata": {},
   "outputs": [],
   "source": [
    "classical_elements = Elements[Elements['bug_type'] == 'Classical'] \n",
    "classical_elements = classical_elements.reset_index(drop=True)"
   ]
  },
  {
   "cell_type": "markdown",
   "id": "b5f2a521",
   "metadata": {},
   "source": [
    "### Creating list of transactions to feed to mining algorithm"
   ]
  },
  {
   "cell_type": "code",
   "execution_count": null,
   "id": "2b6959df",
   "metadata": {},
   "outputs": [],
   "source": [
    "quantum_elements['id'] = quantum_elements.groupby(['bug_id','file_path']).ngroup()"
   ]
  },
  {
   "cell_type": "code",
   "execution_count": null,
   "id": "35742add",
   "metadata": {},
   "outputs": [],
   "source": [
    "classical_elements['id'] = classical_elements.groupby(['bug_id','file_path']).ngroup()"
   ]
  },
  {
   "cell_type": "code",
   "execution_count": null,
   "id": "2df30711",
   "metadata": {},
   "outputs": [],
   "source": [
    "quantum_elements.head()"
   ]
  },
  {
   "cell_type": "code",
   "execution_count": null,
   "id": "e4c9ea07",
   "metadata": {},
   "outputs": [],
   "source": [
    "seen = set()\n",
    "quantum_transactions = []\n",
    "i = 0\n",
    "\n",
    "while i < len(quantum_elements['id']):\n",
    "    if quantum_elements['id'][i] not in seen:\n",
    "        seen.add(quantum_elements['id'][i])\n",
    "        quantum_transactions.append([quantum_elements['component-edit_action'][i]])\n",
    "    else:\n",
    "        quantum_transactions[-1].append(quantum_elements['component-edit_action'][i])\n",
    "    i += 1"
   ]
  },
  {
   "cell_type": "code",
   "execution_count": null,
   "id": "de1bc6ae",
   "metadata": {},
   "outputs": [],
   "source": [
    "seen = set()\n",
    "classical_transactions = []\n",
    "i = 0\n",
    "\n",
    "while i < len(classical_elements['id']):\n",
    "    if classical_elements['id'][i] not in seen:\n",
    "        seen.add(classical_elements['id'][i])\n",
    "        classical_transactions.append([classical_elements['component-edit_action'][i]])\n",
    "    else:\n",
    "        classical_transactions[-1].append(classical_elements['component-edit_action'][i])\n",
    "    i += 1"
   ]
  },
  {
   "cell_type": "code",
   "execution_count": null,
   "id": "3450d060",
   "metadata": {},
   "outputs": [],
   "source": [
    "#Compute binary database for the quantum transactions\n",
    "tr_enc = TransactionEncoder()\n",
    "trans_array = tr_enc.fit(quantum_transactions).transform(quantum_transactions)\n",
    "binary_database_quantum = pd.DataFrame(trans_array, columns=tr_enc.columns_)\n",
    "binary_database_quantum"
   ]
  },
  {
   "cell_type": "code",
   "execution_count": null,
   "id": "7383a2a6",
   "metadata": {
    "scrolled": true
   },
   "outputs": [],
   "source": [
    "#Compute binary database for the classical transactions\n",
    "tr_enc = TransactionEncoder()\n",
    "trans_array = tr_enc.fit(classical_transactions).transform(classical_transactions)\n",
    "binary_database_classical = pd.DataFrame(trans_array, columns=tr_enc.columns_)\n",
    "binary_database_classical"
   ]
  },
  {
   "cell_type": "markdown",
   "id": "c2be486d",
   "metadata": {},
   "source": [
    "### Metrics for association rules and/or frequent itemsets"
   ]
  },
  {
   "cell_type": "markdown",
   "id": "8c0f6a65",
   "metadata": {},
   "source": [
    "#### Support:\n",
    "Probability of item A occurring, i.e, how many transactions contain item A - P(A)\n",
    "#### Confidence:\n",
    "Likeliness of occurrence of a consequent B given the antecedents A - p(A and B) / p(A)\n",
    "#### Lift:\n",
    "Confidence/Support\n",
    "\n",
    "Lift is the strongest metric to assess associations betwen consequent and antecedent: Lift > 1"
   ]
  },
  {
   "cell_type": "markdown",
   "id": "85ffe5ac",
   "metadata": {},
   "source": [
    "### Create list of frequent itemsets for quantum and classical binary databases"
   ]
  },
  {
   "cell_type": "code",
   "execution_count": null,
   "id": "7bfc0dc3",
   "metadata": {},
   "outputs": [],
   "source": [
    "frequent_itemsets_quantum = fpgrowth(binary_database_quantum, min_support=0.2, use_colnames=True)\n",
    "frequent_itemsets_quantum.sort_values('2')"
   ]
  },
  {
   "cell_type": "code",
   "execution_count": null,
   "id": "40aee86b",
   "metadata": {},
   "outputs": [],
   "source": [
    "frequent_itemsets_classical= fpgrowth(binary_database_classical, min_support=0.2, use_colnames=True)\n",
    "frequent_itemsets_classical"
   ]
  },
  {
   "cell_type": "markdown",
   "id": "c58a0320",
   "metadata": {},
   "source": [
    "### Computing Association rules using lift metric"
   ]
  },
  {
   "cell_type": "code",
   "execution_count": null,
   "id": "22d6fdb0",
   "metadata": {
    "scrolled": true
   },
   "outputs": [],
   "source": [
    "quantum_association_rules = association_rules(frequent_itemsets_quantum, metric=\"lift\", min_threshold=1.2)\n",
    "quantum_association_rules.sort_values(by=['lift'], ascending=True)"
   ]
  },
  {
   "cell_type": "code",
   "execution_count": null,
   "id": "41c39ad6",
   "metadata": {},
   "outputs": [],
   "source": [
    "classical_association_rules = association_rules(frequent_itemsets_classical, metric=\"lift\", min_threshold=1.2)\n",
    "classical_association_rules.sort_values(by=['lift'], ascending=True)"
   ]
  },
  {
   "cell_type": "markdown",
   "id": "9b263dbc",
   "metadata": {},
   "source": [
    "## Sending dataframes to csv files"
   ]
  },
  {
   "cell_type": "code",
   "execution_count": null,
   "id": "fbdc67ff",
   "metadata": {},
   "outputs": [],
   "source": [
    "classical_association_rules.sort_values(by=['lift'], ascending=False).to_csv('classical-patterns.csv', index=False)\n",
    "quantum_association_rules.sort_values(by=['lift'], ascending=False).to_csv('quantum-patterns.csv', index=False) "
   ]
  }
 ],
 "metadata": {
  "kernelspec": {
   "display_name": "Python 3 (ipykernel)",
   "language": "python",
   "name": "python3"
  },
  "language_info": {
   "codemirror_mode": {
    "name": "ipython",
    "version": 3
   },
   "file_extension": ".py",
   "mimetype": "text/x-python",
   "name": "python",
   "nbconvert_exporter": "python",
   "pygments_lexer": "ipython3",
   "version": "3.8.8"
  }
 },
 "nbformat": 4,
 "nbformat_minor": 5
}
