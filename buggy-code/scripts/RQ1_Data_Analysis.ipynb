{
 "cells": [
  {
   "cell_type": "code",
   "execution_count": null,
   "id": "0c0ff38a",
   "metadata": {},
   "outputs": [],
   "source": [
    "import matplotlib.pyplot as plt\n",
    "import pandas as pd\n",
    "import numpy as np\n",
    "import os\n",
    "import math"
   ]
  },
  {
   "cell_type": "code",
   "execution_count": null,
   "id": "cbfc96a1",
   "metadata": {},
   "outputs": [],
   "source": [
    "buggy_elements = pd.read_csv('../data/RQ1_Data_Processed.csv')"
   ]
  },
  {
   "cell_type": "markdown",
   "id": "3b4ec2ed",
   "metadata": {},
   "source": [
    "## Total amount of buggy code elements spread through the quantum projects"
   ]
  },
  {
   "cell_type": "code",
   "execution_count": null,
   "id": "a6630f2c",
   "metadata": {},
   "outputs": [],
   "source": [
    "code_elements = ['<class \\'_ast.Return\\'>','<class \\'_ast.Call\\'>','<class \\'_ast.Delete\\'>','<class \\'_ast.Assign\\'>','<class \\'_ast.AugAssign\\'>','<class \\'_ast.AnnAssign\\'>','<class \\'_ast.For\\'>','<class \\'_ast.AsyncFor\\'>','<class \\'_ast.While\\'>','<class \\'_ast.If\\'>','<class \\'_ast.With\\'>','<class \\'_ast.AsyncWith\\'>','<class \\'_ast.Match\\'>','<class \\'_ast.Raise\\'>','<class \\'_ast.Try\\'>','<class \\'_ast.Assert\\'>','<class \\'_ast.Import\\'>','<class \\'_ast.ImportFrom\\'>','<class \\'_ast.Global\\'>','<class \\'_ast.NonLocal\\'>','<class \\'_ast.Break\\'>','<class \\'_ast.Continue\\'>','<class \\'_ast.Pass\\'>','<class \\'_ast.BoolOp\\'>','<class \\'_ast.NamedExpr\\'>','<class \\'_ast.BinOp\\'>','<class \\'_ast.UnaryOp\\'>','<class \\'_ast.Lambda\\'>','<class \\'_ast.IfExp\\'>','<class \\'_ast.ListComp\\'>','<class \\'_ast.SetComp\\'>','<class \\'_ast.DictComp\\'>','<class \\'_ast.GeneratorExp\\'>','<class \\'_ast.Await\\'>','<class \\'_ast.Yield\\'>','<class \\'_ast.YieldFrom\\'>','<class \\'_ast.Compare\\'>','<class \\'_ast.Constant\\'>','<class \\'_ast.Tuple\\'>','<class \\'_ast.List\\'>','<class \\'_ast.Attribute\\'>' ]"
   ]
  },
  {
   "cell_type": "code",
   "execution_count": null,
   "id": "ae946576",
   "metadata": {},
   "outputs": [],
   "source": [
    "code_element_count = []\n",
    "\n",
    "for code_element in code_elements:\n",
    "    counter = 0\n",
    "    for values in buggy_elements['Values']:\n",
    "       \n",
    "        if code_element in values:\n",
    "            counter = counter +1\n",
    "            \n",
    "    code_element_count.append(counter)"
   ]
  },
  {
   "cell_type": "code",
   "execution_count": null,
   "id": "6ecfc800",
   "metadata": {},
   "outputs": [],
   "source": [
    "print(code_element_count)"
   ]
  },
  {
   "cell_type": "code",
   "execution_count": null,
   "id": "b114ac6e",
   "metadata": {},
   "outputs": [],
   "source": [
    "code_element_description = ['Return','Function call','Del keyword','Assignment','Augmented Assignment','Annotated assignment','For Loop','Async For Loop','While Loop','If statement','With keyword','Async With keyword','Match keyword','Raise Exception','Try exception','Assertion','Import Keyword','ImportFrom Keyword','Global Variable','Non Local Variable','Break','Continue','Pass','Boolean operator','Named expression','Binary operator','Unitary Operator','Lambda','Conditional Expression','List comprehension','Set Comprehension','Dictionary Comprehension','Object Generator','Await expression','Yield expression','YieldFrom expression','Comparison Expression','Constant','Tuple','List','Attribute']"
   ]
  },
  {
   "cell_type": "code",
   "execution_count": null,
   "id": "248993e4",
   "metadata": {},
   "outputs": [],
   "source": [
    "print(len(code_element_description))\n",
    "print(len(code_element_count))"
   ]
  },
  {
   "cell_type": "code",
   "execution_count": null,
   "id": "1ec2aeeb",
   "metadata": {},
   "outputs": [],
   "source": [
    "# Figure Size\n",
    "fig, ax = plt.subplots(figsize =(16, 9))\n",
    " \n",
    "# Horizontal Bar Plot\n",
    "ax.barh(code_element_description, code_element_count, color = 'yellow')\n",
    " \n",
    "# Remove axes splines\n",
    "for s in ['top', 'bottom', 'left', 'right']:\n",
    "    ax.spines[s].set_visible(False)\n",
    " \n",
    "# Remove x, y Ticks\n",
    "ax.xaxis.set_ticks_position('none')\n",
    "ax.yaxis.set_ticks_position('none')\n",
    " \n",
    "# Add padding between axes and labels\n",
    "ax.xaxis.set_tick_params(pad = 5)\n",
    "ax.yaxis.set_tick_params(pad = 10)\n",
    " \n",
    "# Add x, y gridlines\n",
    "ax.grid(b = True, color ='grey',\n",
    "        linestyle ='-.', linewidth = 0.5,\n",
    "        alpha = 0.2)\n",
    " \n",
    "# Show top values\n",
    "ax.invert_yaxis()\n",
    " \n",
    "# Add annotation to bars\n",
    "for i in ax.patches:\n",
    "    plt.text(i.get_width()+0.2, i.get_y()+0.5,\n",
    "             str(round((i.get_width()), 2)),\n",
    "             fontsize = 10, fontweight ='bold',\n",
    "             color ='grey')\n",
    " \n",
    "# Add Plot Title\n",
    "ax.set_title('Buggy Code Element Distribution ',\n",
    "             loc ='left', )\n",
    "# Show Plot\n",
    "plt.show()"
   ]
  },
  {
   "cell_type": "code",
   "execution_count": null,
   "id": "68f99cea",
   "metadata": {},
   "outputs": [],
   "source": [
    "fig.savefig(\"RQ1_Code_Element_Distribution.pdf\", bbox_inches='tight',)"
   ]
  },
  {
   "cell_type": "markdown",
   "id": "92d10c96",
   "metadata": {},
   "source": [
    "Answer :  As we can see from the plot bar above, the most common buggy elements are function calls, assignments to variables and importFrom statements. It is interesting to note that just import statements have a way less probability of being buggy when compared to importFrom statements, this might prelude us ot the fact that usually developers import modules that may not be totally necessary to the code's good function or whether they need to import the whole library instead. Secondly, function calls are the statement that usually causes a more buggy behaviour. If statements also tend to be slighty buggy, as we can see from the plot bar. Nevertheless, there are not many changes in iterators such as loops or while statements, which means these statements are most of the times correct. More specific statements, like declaring global variables, non local variables, asyncchronous events are not used at all in quantum projects. We can also see that comparison operators like != and == tend to be way more buggy than binary operators, such as aritmetric ones ( +,-,*,/ and so forth)."
   ]
  },
  {
   "cell_type": "markdown",
   "id": "c61a68ea",
   "metadata": {},
   "source": [
    "## Average buggy code element distribution"
   ]
  },
  {
   "cell_type": "code",
   "execution_count": null,
   "id": "815142de",
   "metadata": {},
   "outputs": [],
   "source": [
    "average_code_element_count = []\n",
    "\n",
    "for counter in code_element_count:\n",
    "    average_code_element_count.append(round(counter/14))\n",
    "    \n",
    "print(len(average_code_element_count))\n",
    "    "
   ]
  },
  {
   "cell_type": "code",
   "execution_count": null,
   "id": "ff097011",
   "metadata": {},
   "outputs": [],
   "source": [
    "# Figure Size\n",
    "fig, ax = plt.subplots(figsize =(16, 9))\n",
    " \n",
    "# Horizontal Bar Plot\n",
    "ax.barh(code_element_description,average_code_element_count, color = 'orange')\n",
    " \n",
    "# Remove axes splines\n",
    "for s in ['top', 'bottom', 'left', 'right']:\n",
    "    ax.spines[s].set_visible(False)\n",
    " \n",
    "# Remove x, y Ticks\n",
    "ax.xaxis.set_ticks_position('none')\n",
    "ax.yaxis.set_ticks_position('none')\n",
    " \n",
    "# Add padding between axes and labels\n",
    "ax.xaxis.set_tick_params(pad = 5)\n",
    "ax.yaxis.set_tick_params(pad = 10)\n",
    " \n",
    "# Add x, y gridlines\n",
    "ax.grid(b = True, color ='grey',\n",
    "        linestyle ='-.', linewidth = 0.5,\n",
    "        alpha = 0.2)\n",
    " \n",
    "# Show top values\n",
    "ax.invert_yaxis()\n",
    " \n",
    "# Add annotation to bars\n",
    "for i in ax.patches:\n",
    "    plt.text(i.get_width()+0.2, i.get_y()+0.5,\n",
    "             str(round((i.get_width()), 2)),\n",
    "             fontsize = 10, fontweight ='bold',\n",
    "             color ='grey')\n",
    " \n",
    "# Add Plot Title\n",
    "ax.set_title('Buggy Code Element Distribution Over Classical bugs ',\n",
    "             loc ='left', )\n",
    "# Show Plot\n",
    "plt.show()"
   ]
  },
  {
   "cell_type": "code",
   "execution_count": null,
   "id": "10ca687f",
   "metadata": {},
   "outputs": [],
   "source": [
    "fig.savefig(\"RQ1_Average_Code_Element_Distribution.pdf\", bbox_inches='tight',)"
   ]
  },
  {
   "cell_type": "markdown",
   "id": "5e50e3d4",
   "metadata": {},
   "source": [
    "## Total amount of buggy code elements in quantum bugs"
   ]
  },
  {
   "cell_type": "code",
   "execution_count": null,
   "id": "6e3ff038",
   "metadata": {},
   "outputs": [],
   "source": [
    "quantum_bug_dataframe = buggy_elements.loc[((buggy_elements['Bug Type'] == 'Quantum'))]"
   ]
  },
  {
   "cell_type": "code",
   "execution_count": null,
   "id": "ab9af378",
   "metadata": {},
   "outputs": [],
   "source": [
    "code_element_count_quantum = []\n",
    "\n",
    "for code_element in code_elements:\n",
    "    counter = 0\n",
    "    for values in quantum_bug_dataframe['Values']:\n",
    "       \n",
    "        if code_element in values:\n",
    "            counter = counter +1\n",
    "            \n",
    "    code_element_count_quantum.append(counter)"
   ]
  },
  {
   "cell_type": "code",
   "execution_count": null,
   "id": "da4b78a8",
   "metadata": {},
   "outputs": [],
   "source": [
    "# Figure Size\n",
    "fig, ax = plt.subplots(figsize =(16, 9))\n",
    " \n",
    "# Horizontal Bar Plot\n",
    "ax.barh(code_element_description, code_element_count_quantum, color = 'green')\n",
    " \n",
    "# Remove axes splines\n",
    "for s in ['top', 'bottom', 'left', 'right']:\n",
    "    ax.spines[s].set_visible(False)\n",
    " \n",
    "# Remove x, y Ticks\n",
    "ax.xaxis.set_ticks_position('none')\n",
    "ax.yaxis.set_ticks_position('none')\n",
    " \n",
    "# Add padding between axes and labels\n",
    "ax.xaxis.set_tick_params(pad = 5)\n",
    "ax.yaxis.set_tick_params(pad = 10)\n",
    " \n",
    "# Add x, y gridlines\n",
    "ax.grid(b = True, color ='grey',\n",
    "        linestyle ='-.', linewidth = 0.5,\n",
    "        alpha = 0.2)\n",
    " \n",
    "# Show top values\n",
    "ax.invert_yaxis()\n",
    " \n",
    "# Add annotation to bars\n",
    "for i in ax.patches:\n",
    "    plt.text(i.get_width()+0.2, i.get_y()+0.5,\n",
    "             str(round((i.get_width()), 2)),\n",
    "             fontsize = 10, fontweight ='bold',\n",
    "             color ='grey')\n",
    " \n",
    "# Add Plot Title\n",
    "ax.set_title('Buggy Code Element Distribution Over Quantum bugs ',\n",
    "             loc ='left', )\n",
    "# Show Plot\n",
    "plt.show()"
   ]
  },
  {
   "cell_type": "code",
   "execution_count": null,
   "id": "b9b3d562",
   "metadata": {},
   "outputs": [],
   "source": [
    "fig.savefig(\"RQ1_Quantum_Code_Element_Distribution.pdf\", bbox_inches='tight',)"
   ]
  },
  {
   "cell_type": "markdown",
   "id": "f994962e",
   "metadata": {},
   "source": [
    "Answer: As for buggy elements in quantum, we can see the the results yield , for the most part, from the overall buggy element results. Function calls, if statements,assigns and importFrom continue to be the most common buggy elements followed by changes in data structure expressions such as tuples, lists or even attributes. It is interesting to note that although there are less quantum bugs than classical bugs, most of the changes actually apply to quantum bugs, which suggests that the quantum behaviour and thus how it affects the code( requiring quantum knowledge to develop a particular functionality), is still not very clear to developers. Furthermore, its also interesting to note that in quantum bugs, the are not many buggy occurence for the 'for' statement."
   ]
  },
  {
   "cell_type": "markdown",
   "id": "454076e0",
   "metadata": {},
   "source": [
    "## Total amount of buggy code elements in classical bugs"
   ]
  },
  {
   "cell_type": "code",
   "execution_count": null,
   "id": "b6f70e92",
   "metadata": {},
   "outputs": [],
   "source": [
    "classical_bug_dataframe = buggy_elements.loc[((buggy_elements['Bug Type'] == 'Classical'))]"
   ]
  },
  {
   "cell_type": "code",
   "execution_count": null,
   "id": "8ea07aca",
   "metadata": {},
   "outputs": [],
   "source": [
    "code_element_count_classical = []\n",
    "\n",
    "for code_element in code_elements:\n",
    "    counter = 0\n",
    "    for values in classical_bug_dataframe['Values']:\n",
    "       \n",
    "        if code_element in values:\n",
    "            counter = counter +1\n",
    "            \n",
    "    code_element_count_classical.append(counter)"
   ]
  },
  {
   "cell_type": "code",
   "execution_count": null,
   "id": "cc02178a",
   "metadata": {},
   "outputs": [],
   "source": [
    "# Figure Size\n",
    "fig, ax = plt.subplots(figsize =(16, 9))\n",
    " \n",
    "# Horizontal Bar Plot\n",
    "ax.barh(code_element_description, code_element_count_classical, color = 'red')\n",
    " \n",
    "# Remove axes splines\n",
    "for s in ['top', 'bottom', 'left', 'right']:\n",
    "    ax.spines[s].set_visible(False)\n",
    " \n",
    "# Remove x, y Ticks\n",
    "ax.xaxis.set_ticks_position('none')\n",
    "ax.yaxis.set_ticks_position('none')\n",
    " \n",
    "# Add padding between axes and labels\n",
    "ax.xaxis.set_tick_params(pad = 5)\n",
    "ax.yaxis.set_tick_params(pad = 10)\n",
    " \n",
    "# Add x, y gridlines\n",
    "ax.grid(b = True, color ='grey',\n",
    "        linestyle ='-.', linewidth = 0.5,\n",
    "        alpha = 0.2)\n",
    " \n",
    "# Show top values\n",
    "ax.invert_yaxis()\n",
    " \n",
    "# Add annotation to bars\n",
    "for i in ax.patches:\n",
    "    plt.text(i.get_width()+0.2, i.get_y()+0.5,\n",
    "             str(round((i.get_width()), 2)),\n",
    "             fontsize = 10, fontweight ='bold',\n",
    "             color ='grey')\n",
    " \n",
    "# Add Plot Title\n",
    "ax.set_title('Buggy Code Element Distribution Over Classical bugs ',\n",
    "             loc ='left', )\n",
    "# Show Plot\n",
    "plt.show()"
   ]
  },
  {
   "cell_type": "code",
   "execution_count": null,
   "id": "107f70d3",
   "metadata": {},
   "outputs": [],
   "source": [
    "fig.savefig(\"RQ1_Classic_Code_Element_Distribution.pdf\", bbox_inches='tight',)"
   ]
  },
  {
   "cell_type": "markdown",
   "id": "e5fda81e",
   "metadata": {},
   "source": [
    "Answer: Unlike the quantum bugs, classical bugs hold way less buggy code elements, even though these quantum projects have more classical bugs than quantum bugs. That being said, the most buggy code elements still remain the same, i.e ( function calls, assigns, importFrom, and if statements). However, it's in classical bugs that we have the highest distribution of ' for' statement assignments."
   ]
  },
  {
   "cell_type": "markdown",
   "id": "cc1af201",
   "metadata": {},
   "source": [
    "## Buggy code elements per project "
   ]
  },
  {
   "cell_type": "code",
   "execution_count": null,
   "id": "44b54303",
   "metadata": {},
   "outputs": [],
   "source": [
    "def buggy_code_element_project(project):\n",
    "    project_bug_dataframe = buggy_elements.loc[((buggy_elements['Repo'] == project))]\n",
    "                                                \n",
    "    return project_bug_dataframe\n",
    "    "
   ]
  },
  {
   "cell_type": "code",
   "execution_count": null,
   "id": "cbeaa9b3",
   "metadata": {},
   "outputs": [],
   "source": [
    "def BugDistributionPerRepo(project_name,values):\n",
    "        # Figure Size\n",
    "    fig, ax = plt.subplots(figsize =(16, 9))\n",
    "\n",
    "    # Horizontal Bar Plot\n",
    "    ax.barh(code_element_description, values, color = 'red')\n",
    "\n",
    "    # Remove axes splines\n",
    "    for s in ['top', 'bottom', 'left', 'right']:\n",
    "        ax.spines[s].set_visible(False)\n",
    "\n",
    "    # Remove x, y Ticks\n",
    "    ax.xaxis.set_ticks_position('none')\n",
    "    ax.yaxis.set_ticks_position('none')\n",
    "\n",
    "    # Add padding between axes and labels\n",
    "    ax.xaxis.set_tick_params(pad = 5)\n",
    "    ax.yaxis.set_tick_params(pad = 10)\n",
    "\n",
    "    # Add x, y gridlines\n",
    "    ax.grid(b = True, color ='grey',\n",
    "            linestyle ='-.', linewidth = 0.5,\n",
    "            alpha = 0.2)\n",
    "\n",
    "    # Show top values\n",
    "    ax.invert_yaxis()\n",
    "\n",
    "    # Add annotation to bars\n",
    "    for i in ax.patches:\n",
    "        plt.text(i.get_width()+0.2, i.get_y()+0.5,\n",
    "                 str(round((i.get_width()), 2)),\n",
    "                 fontsize = 10, fontweight ='bold',\n",
    "                 color ='grey')\n",
    "\n",
    "    # Add Plot Title\n",
    "    ax.set_title('Threshold distribution per project - ' + project_name,\n",
    "                 loc ='left', )\n",
    "    # Show Plot\n",
    "    plt.show()\n",
    "    \n",
    "    fig.savefig(\"RQ1_\" + project_name + \"_Code_Element_Distribution.pdf\", bbox_inches='tight',)\n",
    "    "
   ]
  },
  {
   "cell_type": "code",
   "execution_count": null,
   "id": "ffd4d60f",
   "metadata": {},
   "outputs": [],
   "source": [
    "uniqueRepo = buggy_elements['Repo'].unique()\n",
    "print(uniqueRepo)"
   ]
  },
  {
   "cell_type": "code",
   "execution_count": null,
   "id": "90fc38ea",
   "metadata": {},
   "outputs": [],
   "source": [
    "for repo in uniqueRepo:\n",
    "    \n",
    "    code_element_count_repo = []\n",
    "\n",
    "    for code_element in code_elements:\n",
    "        counter = 0\n",
    "        repo_df = buggy_code_element_project(repo)\n",
    "        for values in repo_df['Values']:\n",
    "\n",
    "            if code_element in values:\n",
    "                counter = counter +1\n",
    "\n",
    "        code_element_count_repo.append(counter)\n",
    "        \n",
    "    BugDistributionPerRepo(repo,code_element_count_repo)\n",
    "        \n",
    "    \n",
    "    \n",
    "    \n",
    "    "
   ]
  },
  {
   "cell_type": "markdown",
   "id": "b55c1a70",
   "metadata": {},
   "source": [
    "Answer:"
   ]
  },
  {
   "cell_type": "markdown",
   "id": "8fd457eb",
   "metadata": {},
   "source": [
    "In this plot bar we have the distribution of the buggy code elements per project. We can see that the majority of the buggy code elements are spread through ProjectQ, this means that in particular, this quantum project was the one that had more changes throughout it's life cycle ( may possibly be an outlier). The remaining projects are a similar buggy code element distribution whose numbers of each buggy code element usually don't go higher than a 1000. Projects like amazong-skt-python,pennylane,qiskit-aer,Strawberry fields, hold more buggy code elements than the remaining projects( values ranging from 0 to 1000 for each buggy code element). Next up, we have cirq,qiskit-ignis and qiskit-terra whose values range from 0 to 200( very interesting as qiskit-terra is a huge repository and yet doesn't have many changes). And finally we have projects such as qsharp,tequila,mitiq and OpenQL that barely have any buggy code elements. The distribution of the most common buggy code elements is for most of the projects the same as for the overall. However, with some singularities, as we can see pennylane uses a lot the with keyword on buggy behaviour, unlike other projects, where the with keyword is barely used. "
   ]
  },
  {
   "cell_type": "markdown",
   "id": "96f444a0",
   "metadata": {},
   "source": [
    "## Short Conclusion"
   ]
  },
  {
   "cell_type": "markdown",
   "id": "cd83c911",
   "metadata": {},
   "source": [
    "All in all, although we have less quantum bugs than classical bugs, the majority of the buggy code elements  can be found at quantum bugs. Comparing both these type of bugs, we can see the they share the most buggy code elements, however classical bugs tend to have more buggy behaviour in for loops than quantum bugs, which lead us to conclude that either developers are using for loops properly when working with quantum phenomenom (such as qubits) or that for loops are not used at all when we're coding something that is quantum specific. The most common buggy elements are function calls, if statements,assignments, importFrom which means these should be the targets for future quantum software testing development."
   ]
  },
  {
   "cell_type": "code",
   "execution_count": null,
   "id": "0da231a3",
   "metadata": {},
   "outputs": [],
   "source": [
    "# elementos aparecem à direita e não à esquerda e vice versa"
   ]
  }
 ],
 "metadata": {
  "kernelspec": {
   "display_name": "Python 3",
   "language": "python",
   "name": "python3"
  },
  "language_info": {
   "codemirror_mode": {
    "name": "ipython",
    "version": 3
   },
   "file_extension": ".py",
   "mimetype": "text/x-python",
   "name": "python",
   "nbconvert_exporter": "python",
   "pygments_lexer": "ipython3",
   "version": "3.8.8"
  }
 },
 "nbformat": 4,
 "nbformat_minor": 5
}
