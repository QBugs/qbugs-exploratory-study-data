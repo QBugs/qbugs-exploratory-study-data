{
 "cells": [
  {
   "cell_type": "code",
   "execution_count": null,
   "id": "cdf141a0",
   "metadata": {},
   "outputs": [],
   "source": [
    "import subprocess\n",
    "from subprocess import Popen\n",
    "import pandas as pd\n",
    "import numpy as np\n",
    "import glob\n",
    "import sys\n",
    "from pathlib import Path\n"
   ]
  },
  {
   "cell_type": "code",
   "execution_count": null,
   "id": "f8cb1650",
   "metadata": {},
   "outputs": [],
   "source": [
    "bugs = pd.read_csv('../../subjects/data/generated/bugs-in-quantum-computing-platforms.csv', sep=',')"
   ]
  },
  {
   "cell_type": "code",
   "execution_count": null,
   "id": "3b96971e",
   "metadata": {},
   "outputs": [],
   "source": [
    "bugs['fix_commit_hash']= pd.Series(bugs['fix_commit_hash'], dtype=\"string\")\n",
    "bugs['bug_id']= pd.Series(bugs['bug_id'], dtype=\"string\")\n",
    "bugs['bug_type']= pd.Series(bugs['bug_type'], dtype=\"string\")\n",
    "bugs['project_repository_url']= pd.Series(bugs['project_repository_url'], dtype=\"string\")"
   ]
  },
  {
   "cell_type": "code",
   "execution_count": null,
   "id": "a4534955",
   "metadata": {},
   "outputs": [],
   "source": [
    "buggy_elements_df = pd.DataFrame()\n",
    "\n",
    "length = bugs.shape[0]\n",
    "j = 0\n",
    "\n",
    "\n",
    "\n",
    "for i in range(length):\n",
    "    sha1 = (bugs['fix_commit_hash'].iloc[i])\n",
    "    bug_id = (bugs['bug_id'].iloc[i])\n",
    "    bug_type = bugs['bug_type'].iloc[i]\n",
    "    if ( sha1 == '1c07475ad9dbc30baedddf78fddafa96112ffcdc'):\n",
    "        continue\n",
    "    repo_url = (bugs['project_repository_url'].iloc[i])\n",
    "    #repo_url = 'https://github.com/' + bugs['repo'].iloc[i] +'.git'\n",
    "    sub_repo_url = (repo_url.split('/')[-1]).split('.')[0]\n",
    "    print(sha1)\n",
    "    print(repo_url)\n",
    "    print(sub_repo_url)\n",
    "    \n",
    "     \n",
    "    process2 = subprocess.Popen(['git','checkout',sha1],cwd = r'C:\\Users\\migue\\OneDrive\\Ambiente de Trabalho\\teste' + '\\\\' + str(sub_repo_url), stdout=subprocess.PIPE, stderr=subprocess.PIPE, universal_newlines=True, shell = True)\n",
    "    output, errors = process2.communicate()\n",
    "\n",
    "    ### Obter somente os ficheiros modificados no dado commit\n",
    "    \n",
    "    process3 = subprocess.Popen(['git','diff-tree','--no-commit-id','--name-only','-r',sha1],cwd = r'C:\\Users\\migue\\OneDrive\\Ambiente de Trabalho\\teste' + '\\\\' + str(sub_repo_url), stdout=subprocess.PIPE, stderr=subprocess.PIPE, universal_newlines=True, shell = True)\n",
    "    output3, errors = process3.communicate()\n",
    "\n",
    "    for filepath in output3.splitlines():\n",
    "        \n",
    "        print(filepath)\n",
    "        \n",
    "        file = filepath.split('/')[-1]\n",
    "        \n",
    "        row  = {'Bug ID': bug_id,'Hash': sha1,'Bug Type': bug_type ,'Repo' :  str(sub_repo_url) ,'File': file}\n",
    "\n",
    "        buggy_elements_df = buggy_elements_df.append(row, ignore_index = True)\n",
    "                            "
   ]
  },
  {
   "cell_type": "code",
   "execution_count": null,
   "id": "41294ce2",
   "metadata": {},
   "outputs": [],
   "source": [
    "buggy_elements_df.head(30)"
   ]
  },
  {
   "cell_type": "code",
   "execution_count": null,
   "id": "7e105de1",
   "metadata": {},
   "outputs": [],
   "source": [
    "buggy_elements_df.shape"
   ]
  },
  {
   "cell_type": "code",
   "execution_count": null,
   "id": "f8c5b080",
   "metadata": {},
   "outputs": [],
   "source": [
    "buggy_elements_df.to_csv('..\\data\\RQ5_Data.csv', index=False, encoding=\"utf8\" )\n"
   ]
  },
  {
   "cell_type": "code",
   "execution_count": null,
   "id": "7c4b9519",
   "metadata": {},
   "outputs": [],
   "source": []
  }
 ],
 "metadata": {
  "kernelspec": {
   "display_name": "Python 3",
   "language": "python",
   "name": "python3"
  },
  "language_info": {
   "codemirror_mode": {
    "name": "ipython",
    "version": 3
   },
   "file_extension": ".py",
   "mimetype": "text/x-python",
   "name": "python",
   "nbconvert_exporter": "python",
   "pygments_lexer": "ipython3",
   "version": "3.8.8"
  }
 },
 "nbformat": 4,
 "nbformat_minor": 5
}
