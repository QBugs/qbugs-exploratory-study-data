{
 "cells": [
  {
   "cell_type": "code",
   "execution_count": null,
   "id": "0481d559",
   "metadata": {},
   "outputs": [],
   "source": [
    "import subprocess\n",
    "from subprocess import Popen\n",
    "import pandas as pd\n",
    "import numpy as np\n",
    "import glob\n",
    "import sys\n",
    "from pathlib import Path"
   ]
  },
  {
   "cell_type": "markdown",
   "id": "ed3bf2ec",
   "metadata": {},
   "source": [
    "## Obtain bug prediction scores"
   ]
  },
  {
   "cell_type": "code",
   "execution_count": null,
   "id": "a17b5362",
   "metadata": {},
   "outputs": [],
   "source": [
    "bugs = pd.read_csv(r'C:/Users/migue/Downloads/ruben-demo-code-lifetime-data.csv',  lineterminator='\\n')"
   ]
  },
  {
   "cell_type": "code",
   "execution_count": null,
   "id": "457dea54",
   "metadata": {},
   "outputs": [],
   "source": [
    "#bugs = pd.read_csv('../data/generated/code-lifetime-data.csv.gz', compression='gzip',error_bad_lines=False,sep=' ')\n"
   ]
  },
  {
   "cell_type": "code",
   "execution_count": null,
   "id": "ec1b702e",
   "metadata": {},
   "outputs": [],
   "source": [
    "bugs.shape"
   ]
  },
  {
   "cell_type": "code",
   "execution_count": null,
   "id": "6a2a8284",
   "metadata": {},
   "outputs": [],
   "source": [
    "bugs.head()"
   ]
  },
  {
   "cell_type": "code",
   "execution_count": null,
   "id": "4ef9c8a7",
   "metadata": {},
   "outputs": [],
   "source": [
    "bugs['bug_fix'].unique()"
   ]
  },
  {
   "cell_type": "code",
   "execution_count": null,
   "id": "923d8ae4",
   "metadata": {},
   "outputs": [],
   "source": [
    "bugs['bug_id'].unique()"
   ]
  },
  {
   "cell_type": "code",
   "execution_count": null,
   "id": "655b3894",
   "metadata": {},
   "outputs": [],
   "source": [
    "groupdf = bugs.groupby(by=[\"bug_id\",'line_number','file_path'])"
   ]
  },
  {
   "cell_type": "code",
   "execution_count": null,
   "id": "037cdf0c",
   "metadata": {},
   "outputs": [],
   "source": [
    "groupdf.head()"
   ]
  },
  {
   "cell_type": "code",
   "execution_count": null,
   "id": "032de484",
   "metadata": {
    "scrolled": false
   },
   "outputs": [],
   "source": [
    "import math\n",
    "\n",
    "bugScore = pd.DataFrame()\n",
    "\n",
    "\n",
    "j = 0\n",
    "for i in groupdf:\n",
    "        \n",
    "    #print(i[1].shape)\n",
    "    \n",
    "    if(len(i[1]['author_commit_date']) == 1):\n",
    "        \n",
    "        i[1]['author_commit_date'] = i[1].iloc[0]['author_commit_date'] / i[1].iloc[0]['author_commit_date']\n",
    "    \n",
    "    else:\n",
    "        \n",
    "        i[1]['author_commit_date'] = (i[1]['author_commit_date'] - i[1]['author_commit_date'].min()) / (i[1]['author_commit_date'].max() - i[1]['author_commit_date'].min())\n",
    "        \n",
    "    \n",
    "    i[1]['author_commit_date'] = 1/ (1 + math.e**(-12* i[1]['author_commit_date'] + 12))\n",
    "   \n",
    "    \n",
    "    sumdf = i[1].groupby(by=[\"bug_fix\"]).agg({'author_commit_date' : ['sum']})\n",
    "    \n",
    "    if sumdf.size == 1:\n",
    "        \n",
    "        twrrevisions = float((sumdf.iloc[0])['author_commit_date'])\n",
    "        Bc = 0.35 * twrrevisions\n",
    "        #print(Bc)\n",
    "        defectC = 1 -math.e**(-Bc)\n",
    "        #print(defectC)\n",
    "    else :\n",
    "        \n",
    "        twrRevisions = float((sumdf.iloc[0])['author_commit_date'])\n",
    "        twrFixRevisions = float((sumdf.iloc[1])['author_commit_date'])\n",
    "        Bc = 0.35 * (twrRevisions + twrFixRevisions) + 0.65 * twrFixRevisions\n",
    "        #print(Bc)\n",
    "        defectC = 1 -math.e**(-Bc)\n",
    "        #print(defectC)\n",
    "    \n",
    "    bug_id = int(i[0][0])\n",
    "    line = int(i[0][1])\n",
    "    #print(bug_id)\n",
    "    #print(line)\n",
    "    bugScore.at[j,'bug_probability'] = defectC\n",
    "    bugScore.at[j,'bug_id'] = bug_id\n",
    "    bugScore.at[j,'line_number'] = line\n",
    "    bugScore.at[j,'fix_commit_hash'] = i[1].iloc[0]['fix_commit_hash']\n",
    "    bugScore.at[j,'project_full_name'] = i[1].iloc[0]['project_full_name']\n",
    "    bugScore.at[j,'bug_type'] = i[1].iloc[0]['bug_type']\n",
    "    bugScore.at[j,'file_path'] =  i[0][2]\n",
    "    \n",
    "    j= j + 1\n",
    " \n",
    "        \n",
    "        \n"
   ]
  },
  {
   "cell_type": "code",
   "execution_count": null,
   "id": "82280009",
   "metadata": {},
   "outputs": [],
   "source": [
    "#bugScore.to_csv('teste.csv',index=False)"
   ]
  },
  {
   "cell_type": "code",
   "execution_count": null,
   "id": "9a4e585a",
   "metadata": {},
   "outputs": [],
   "source": [
    "bugScore.head()"
   ]
  },
  {
   "cell_type": "code",
   "execution_count": null,
   "id": "623b22d6",
   "metadata": {},
   "outputs": [],
   "source": [
    "bugScore.shape"
   ]
  },
  {
   "cell_type": "code",
   "execution_count": null,
   "id": "f7321114",
   "metadata": {},
   "outputs": [],
   "source": [
    "bugScore['bug_probability'].unique()"
   ]
  },
  {
   "cell_type": "code",
   "execution_count": null,
   "id": "8797b8bf",
   "metadata": {},
   "outputs": [],
   "source": [
    "bugScore.head(5)"
   ]
  },
  {
   "cell_type": "code",
   "execution_count": null,
   "id": "02007150",
   "metadata": {},
   "outputs": [],
   "source": [
    "def removeZero(x):\n",
    "    \n",
    "    return x.split('.')[0]"
   ]
  },
  {
   "cell_type": "code",
   "execution_count": null,
   "id": "0a4b37e3",
   "metadata": {},
   "outputs": [],
   "source": [
    "bugs2 = buggy_elements_df = pd.read_csv('../data/generated/buggy-code-lifetime-data.csv', sep=',')\n",
    "bugs2 = bugs2.rename(columns={\"buggy_line_number\": \"line_number\"})\n",
    "bugs2['bug_id'].unique()\n",
    "bugs2['bug_id']=bugs2['bug_id'].astype(str)\n",
    "bugs2['line_number']=bugs2['line_number'].astype(str)"
   ]
  },
  {
   "cell_type": "code",
   "execution_count": null,
   "id": "9a4415eb",
   "metadata": {},
   "outputs": [],
   "source": [
    "groupid = bugScore.groupby(by=[\"bug_id\"])"
   ]
  },
  {
   "cell_type": "code",
   "execution_count": null,
   "id": "23f84e06",
   "metadata": {},
   "outputs": [],
   "source": [
    "RQ3_df = pd.DataFrame()\n",
    "for k, gp in groupid:\n",
    "    print('key=' + str(k))\n",
    "    gp['ranking_position'] = ''\n",
    "    gp = gp.sort_values(by=['bug_probability'],ascending=False)\n",
    "    gp.reset_index(inplace = True, drop = True)\n",
    "    \n",
    "    length = gp.shape[0]\n",
    "    counter = 0\n",
    "    for i in range(length):\n",
    "        \n",
    "        if(i == 0):\n",
    "            gp.at[i,'ranking_position']= counter + 1\n",
    "            counter = counter + 1\n",
    "        elif((gp.iloc[i]['bug_probability']) == (gp.iloc[i-1]['bug_probability'])):\n",
    "            gp.at[i,'ranking_position']= gp.iloc[i-1]['ranking_position']\n",
    "        else:\n",
    "            gp.at[i,'ranking_position']= counter + 1 \n",
    "            counter = counter + 1\n",
    "    \n",
    "    \n",
    "    gp['bug_id']=gp['bug_id'].astype(str)\n",
    "    gp['line_number']=gp['line_number'].astype(str)\n",
    "    gp['ranking_position']=gp['ranking_position'].astype(int)\n",
    "    \n",
    "    gp['bug_id'] = gp['bug_id'].apply(removeZero)\n",
    "    gp['line_number'] = gp['line_number'].apply(removeZero)\n",
    "    \n",
    "    merge_df = pd.merge(gp,bugs2, on=[\"bug_id\",'line_number'], how=\"inner\")\n",
    "    RQ3_df = RQ3_df.append(merge_df, ignore_index=True)\n",
    "    #print(merge_df)\n",
    "    #print(gp)\n",
    "    \n",
    "    "
   ]
  },
  {
   "cell_type": "code",
   "execution_count": null,
   "id": "a7035cab",
   "metadata": {},
   "outputs": [],
   "source": [
    "#bugs2 = bugs2.drop_duplicates(subset=[\"bug_id\", \"line_number\",'buggy_file_path'], keep='first')\n"
   ]
  },
  {
   "cell_type": "code",
   "execution_count": null,
   "id": "ccd90300",
   "metadata": {},
   "outputs": [],
   "source": [
    "#bugScore.dtypes"
   ]
  },
  {
   "cell_type": "code",
   "execution_count": null,
   "id": "3801bb31",
   "metadata": {},
   "outputs": [],
   "source": [
    "RQ3_df.head()"
   ]
  },
  {
   "cell_type": "code",
   "execution_count": null,
   "id": "a5ae5228",
   "metadata": {},
   "outputs": [],
   "source": [
    "RQ3_df.shape"
   ]
  },
  {
   "cell_type": "code",
   "execution_count": null,
   "id": "21ce4116",
   "metadata": {},
   "outputs": [],
   "source": [
    "final_df = RQ3_df.groupby(by=[\"buggy_component\"])"
   ]
  },
  {
   "cell_type": "code",
   "execution_count": null,
   "id": "8bbb567b",
   "metadata": {
    "scrolled": true
   },
   "outputs": [],
   "source": [
    "RQ3_df = pd.DataFrame()\n",
    "\n",
    "j = 0\n",
    "\n",
    "for i in final_df:\n",
    "    \n",
    "    print(i[0])\n",
    "    mean = int(round(i[1]['ranking_position'].mean(),0))\n",
    "    median = int(round(i[1]['ranking_position'].median(),0))\n",
    "    first = int(round(i[1].iloc[0]['ranking_position']))\n",
    "    last = int(round(i[1].iloc[-1]['ranking_position']))\n",
    "    top1 = sum(i[1]['ranking_position'] <= 1)\n",
    "    top10 = sum(i[1]['ranking_position'] <= 10)\n",
    "    top200 = sum(i[1]['ranking_position'] <= 200)\n",
    "    print(mean)\n",
    "    print(median)\n",
    "    print(first)\n",
    "    print(last)\n",
    "    print(top1)\n",
    "    print(top10)\n",
    "    print(top200)\n",
    "    \n",
    "    RQ3_df.at[j,'buggy_component'] = i[0]\n",
    "    RQ3_df.at[j,'mean'] =  mean\n",
    "    RQ3_df.at[j,'median'] = median\n",
    "    RQ3_df.at[j,'first'] = first\n",
    "    RQ3_df.at[j,'last'] = last\n",
    "    RQ3_df.at[j,'top1'] = top1\n",
    "    RQ3_df.at[j,'top10'] = top10\n",
    "    RQ3_df.at[j,'top200'] = top200\n",
    "    \n",
    "    j = j + 1\n",
    "    \n",
    "    \n",
    "    \n",
    "    \n"
   ]
  },
  {
   "cell_type": "code",
   "execution_count": null,
   "id": "83c76c94",
   "metadata": {},
   "outputs": [],
   "source": [
    "RQ3_df.head(30)"
   ]
  },
  {
   "cell_type": "markdown",
   "id": "e9a06b53",
   "metadata": {},
   "source": [
    "Top1, Top10 and Top200 being the number of times a given buggy code element was found within topX in every ranking(rankings were grouped by bug_id hence more than 1 ranking. Previously we had only 1 ranking) \n"
   ]
  },
  {
   "cell_type": "code",
   "execution_count": null,
   "id": "546f6e9b",
   "metadata": {},
   "outputs": [],
   "source": [
    "#bugs.to_csv('..\\data\\RQ3_Data.csv', index=False, encoding=\"utf8\" )"
   ]
  }
 ],
 "metadata": {
  "kernelspec": {
   "display_name": "Python 3",
   "language": "python",
   "name": "python3"
  },
  "language_info": {
   "codemirror_mode": {
    "name": "ipython",
    "version": 3
   },
   "file_extension": ".py",
   "mimetype": "text/x-python",
   "name": "python",
   "nbconvert_exporter": "python",
   "pygments_lexer": "ipython3",
   "version": "3.8.8"
  }
 },
 "nbformat": 4,
 "nbformat_minor": 5
}
