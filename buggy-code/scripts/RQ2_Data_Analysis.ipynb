{
 "cells": [
  {
   "cell_type": "code",
   "execution_count": null,
   "id": "775809a0",
   "metadata": {},
   "outputs": [],
   "source": [
    "import matplotlib.pyplot as plt\n",
    "import pandas as pd\n",
    "import numpy as np\n",
    "import os\n",
    "import math\n",
    "from datetime import datetime as dt\n",
    "from datetime import timedelta as td"
   ]
  },
  {
   "cell_type": "code",
   "execution_count": null,
   "id": "1f6cac02",
   "metadata": {},
   "outputs": [],
   "source": [
    "buggy_elements = pd.read_csv('../data/RQ2_Data.csv')"
   ]
  },
  {
   "cell_type": "code",
   "execution_count": null,
   "id": "5fd38710",
   "metadata": {
    "scrolled": false
   },
   "outputs": [],
   "source": [
    "buggy_elements.head()"
   ]
  },
  {
   "cell_type": "code",
   "execution_count": null,
   "id": "1dc27fc3",
   "metadata": {},
   "outputs": [],
   "source": [
    "buggy_elements.shape"
   ]
  },
  {
   "cell_type": "markdown",
   "id": "a8f99637",
   "metadata": {},
   "source": [
    "## Convert to timedelta"
   ]
  },
  {
   "cell_type": "code",
   "execution_count": null,
   "id": "29dc90f9",
   "metadata": {},
   "outputs": [],
   "source": [
    "length = buggy_elements.shape[0]\n",
    "\n",
    "for i in range(1):\n",
    "    \n",
    "    lifetime = str(buggy_elements.loc[i,['Lifetime']])\n",
    "    print(type(lifetime))\n",
    "    print(lifetime)\n",
    "    pd.Timedelta(lifetime)\n",
    "    #buggy_elements.loc[i,['Lifetime']] = pd.Timedelta(lifetime)"
   ]
  },
  {
   "cell_type": "code",
   "execution_count": null,
   "id": "9bf8a297",
   "metadata": {},
   "outputs": [],
   "source": [
    "pd.Timedelta('166 days, 0:25:52')"
   ]
  },
  {
   "cell_type": "markdown",
   "id": "54866d93",
   "metadata": {},
   "source": [
    "## Average Bug lifetime, Nº of times modified and Number of Authors for each type of component"
   ]
  },
  {
   "cell_type": "code",
   "execution_count": null,
   "id": "786eecad",
   "metadata": {},
   "outputs": [],
   "source": [
    "code_element_component = ['Return','Function Call','Del keyword','Assignment','Augmented Assignment','Annotated assignment','For loop','Async For Loop','While loop','If statement','With keyword','Async With keyword','Match keyword','Raise exception','Try exception','Assertion','Import keyword','ImportFrom keyword','Global Variable','Non Local Variable','Break','Continue','Pass','Boolean operator','Named expression','Binary operator','Unitary Operator','Lambda','Conditional expression','List comprehension','Set comprehension','Dictionary comprehension','Object generator','Await expression','Yield expression','YieldFrom expression','Comparison expression','Constant','Tuple','List','Attribute']"
   ]
  },
  {
   "cell_type": "code",
   "execution_count": null,
   "id": "ac1c03fc",
   "metadata": {},
   "outputs": [],
   "source": [
    "component_author_average = []\n",
    "component_modified_average = []\n",
    "\n",
    "for component in code_element_component:\n",
    "    \n",
    "    rslt_df = buggy_elements[buggy_elements['Components'].str.contains(component, regex=False)]\n",
    "    \n",
    "    \n",
    "    component_author_average.append(rslt_df[\"Number of Authors\"].mean())\n",
    "    component_modified_average.append(rslt_df[\"Number of times modified\"].mean())\n",
    "\n",
    "    "
   ]
  },
  {
   "cell_type": "code",
   "execution_count": null,
   "id": "a9941047",
   "metadata": {},
   "outputs": [],
   "source": [
    "component_author_average = [0 if math.isnan(x) else x for x in component_author_average]"
   ]
  },
  {
   "cell_type": "code",
   "execution_count": null,
   "id": "f7b67c89",
   "metadata": {},
   "outputs": [],
   "source": [
    "component_modified_average = [0 if math.isnan(x) else x for x in component_modified_average]"
   ]
  },
  {
   "cell_type": "code",
   "execution_count": null,
   "id": "c38f93aa",
   "metadata": {},
   "outputs": [],
   "source": [
    "print(component_author_average)"
   ]
  },
  {
   "cell_type": "code",
   "execution_count": null,
   "id": "025ae15e",
   "metadata": {},
   "outputs": [],
   "source": [
    "print(component_modified_average)"
   ]
  },
  {
   "cell_type": "code",
   "execution_count": null,
   "id": "fe65defd",
   "metadata": {
    "scrolled": true
   },
   "outputs": [],
   "source": [
    "# Figure Size\n",
    "fig, ax = plt.subplots(figsize =(16, 9))\n",
    " \n",
    "# Horizontal Bar Plot\n",
    "ax.barh(code_element_component, component_author_average, color = 'orange')\n",
    " \n",
    "# Remove axes splines\n",
    "for s in ['top', 'bottom', 'left', 'right']:\n",
    "    ax.spines[s].set_visible(False)\n",
    " \n",
    "# Remove x, y Ticks\n",
    "ax.xaxis.set_ticks_position('none')\n",
    "ax.yaxis.set_ticks_position('none')\n",
    " \n",
    "# Add padding between axes and labels\n",
    "ax.xaxis.set_tick_params(pad = 5)\n",
    "ax.yaxis.set_tick_params(pad = 10)\n",
    " \n",
    "# Add x, y gridlines\n",
    "ax.grid(b = True, color ='grey',\n",
    "        linestyle ='-.', linewidth = 0.5,\n",
    "        alpha = 0.2)\n",
    " \n",
    "# Show top values\n",
    "ax.invert_yaxis()\n",
    " \n",
    "# Add annotation to bars\n",
    "for i in ax.patches:\n",
    "    plt.text(i.get_width()+0.2, i.get_y()+0.5,\n",
    "             str(round((i.get_width()), 2)),\n",
    "             fontsize = 10, fontweight ='bold',\n",
    "             color ='grey')\n",
    " \n",
    "# Add Plot Title\n",
    "ax.set_title('Number of Authors on average for each component ',\n",
    "             loc ='left', )\n",
    "# Show Plot\n",
    "plt.show()"
   ]
  },
  {
   "cell_type": "code",
   "execution_count": null,
   "id": "4a3d0469",
   "metadata": {},
   "outputs": [],
   "source": [
    "# Figure Size\n",
    "fig, ax = plt.subplots(figsize =(16, 9))\n",
    " \n",
    "# Horizontal Bar Plot\n",
    "ax.barh(code_element_component, component_modified_average, color = 'blue')\n",
    " \n",
    "# Remove axes splines\n",
    "for s in ['top', 'bottom', 'left', 'right']:\n",
    "    ax.spines[s].set_visible(False)\n",
    " \n",
    "# Remove x, y Ticks\n",
    "ax.xaxis.set_ticks_position('none')\n",
    "ax.yaxis.set_ticks_position('none')\n",
    " \n",
    "# Add padding between axes and labels\n",
    "ax.xaxis.set_tick_params(pad = 5)\n",
    "ax.yaxis.set_tick_params(pad = 10)\n",
    " \n",
    "# Add x, y gridlines\n",
    "ax.grid(b = True, color ='grey',\n",
    "        linestyle ='-.', linewidth = 0.5,\n",
    "        alpha = 0.2)\n",
    " \n",
    "# Show top values\n",
    "ax.invert_yaxis()\n",
    " \n",
    "# Add annotation to bars\n",
    "for i in ax.patches:\n",
    "    plt.text(i.get_width()+0.2, i.get_y()+0.5,\n",
    "             str(round((i.get_width()), 2)),\n",
    "             fontsize = 10, fontweight ='bold',\n",
    "             color ='grey')\n",
    " \n",
    "# Add Plot Title\n",
    "ax.set_title('Number of times on average each component was modified ',\n",
    "             loc ='left', )\n",
    "# Show Plot\n",
    "plt.show()"
   ]
  },
  {
   "cell_type": "code",
   "execution_count": null,
   "id": "2836ef94",
   "metadata": {},
   "outputs": [],
   "source": [
    "## Lifetime plot"
   ]
  },
  {
   "cell_type": "markdown",
   "id": "e7ef33f5",
   "metadata": {},
   "source": [
    "## Quantum Distribution"
   ]
  },
  {
   "cell_type": "code",
   "execution_count": null,
   "id": "7c597e08",
   "metadata": {},
   "outputs": [],
   "source": [
    "quantum_bug_dataframe = buggy_elements.loc[((buggy_elements['Bug Type'] == 'Quantum'))]"
   ]
  },
  {
   "cell_type": "code",
   "execution_count": null,
   "id": "495170be",
   "metadata": {},
   "outputs": [],
   "source": [
    "quantum_bug_dataframe.head()"
   ]
  },
  {
   "cell_type": "code",
   "execution_count": null,
   "id": "aa50a31c",
   "metadata": {},
   "outputs": [],
   "source": [
    "quantum_bug_dataframe.shape"
   ]
  },
  {
   "cell_type": "code",
   "execution_count": null,
   "id": "0b533dc6",
   "metadata": {},
   "outputs": [],
   "source": [
    "quantum_component_author_average = []\n",
    "quantum_component_modified_average = []\n",
    "\n",
    "for component in code_element_component:\n",
    "    \n",
    "    quantum_rslt_df = quantum_bug_dataframe[quantum_bug_dataframe['Components'].str.contains(component, regex=False)]\n",
    "   \n",
    "    \n",
    "    quantum_component_author_average.append(quantum_rslt_df[\"Number of Authors\"].mean())\n",
    "    quantum_component_modified_average.append(quantum_rslt_df[\"Number of times modified\"].mean())"
   ]
  },
  {
   "cell_type": "code",
   "execution_count": null,
   "id": "6e4caafa",
   "metadata": {},
   "outputs": [],
   "source": [
    "quantum_component_modified_average = [0 if math.isnan(x) else x for x in component_modified_average]"
   ]
  },
  {
   "cell_type": "code",
   "execution_count": null,
   "id": "8da84e64",
   "metadata": {},
   "outputs": [],
   "source": [
    "quantum_component_author_average = [0 if math.isnan(x) else x for x in component_modified_average]"
   ]
  },
  {
   "cell_type": "code",
   "execution_count": null,
   "id": "9ded1e60",
   "metadata": {},
   "outputs": [],
   "source": [
    "print(quantum_component_author_average)"
   ]
  },
  {
   "cell_type": "code",
   "execution_count": null,
   "id": "01e7aa41",
   "metadata": {},
   "outputs": [],
   "source": [
    "print(quantum_component_modified_average)"
   ]
  },
  {
   "cell_type": "code",
   "execution_count": null,
   "id": "0a3394de",
   "metadata": {},
   "outputs": [],
   "source": [
    "# Figure Size\n",
    "fig, ax = plt.subplots(figsize =(16, 9))\n",
    " \n",
    "# Horizontal Bar Plot\n",
    "ax.barh(code_element_component, quantum_component_author_average, color = 'red')\n",
    " \n",
    "# Remove axes splines\n",
    "for s in ['top', 'bottom', 'left', 'right']:\n",
    "    ax.spines[s].set_visible(False)\n",
    " \n",
    "# Remove x, y Ticks\n",
    "ax.xaxis.set_ticks_position('none')\n",
    "ax.yaxis.set_ticks_position('none')\n",
    " \n",
    "# Add padding between axes and labels\n",
    "ax.xaxis.set_tick_params(pad = 5)\n",
    "ax.yaxis.set_tick_params(pad = 10)\n",
    " \n",
    "# Add x, y gridlines\n",
    "ax.grid(b = True, color ='grey',\n",
    "        linestyle ='-.', linewidth = 0.5,\n",
    "        alpha = 0.2)\n",
    " \n",
    "# Show top values\n",
    "ax.invert_yaxis()\n",
    " \n",
    "# Add annotation to bars\n",
    "for i in ax.patches:\n",
    "    plt.text(i.get_width()+0.2, i.get_y()+0.5,\n",
    "             str(round((i.get_width()), 2)),\n",
    "             fontsize = 10, fontweight ='bold',\n",
    "             color ='grey')\n",
    " \n",
    "# Add Plot Title\n",
    "ax.set_title('Number of Authors on average for each component over Quantum bugs ',\n",
    "             loc ='left', )\n",
    "# Show Plot\n",
    "plt.show()"
   ]
  },
  {
   "cell_type": "code",
   "execution_count": null,
   "id": "f8557cca",
   "metadata": {},
   "outputs": [],
   "source": [
    "# Figure Size\n",
    "fig, ax = plt.subplots(figsize =(16, 9))\n",
    " \n",
    "# Horizontal Bar Plot\n",
    "ax.barh(code_element_component, quantum_component_modified_average, color = 'blue')\n",
    " \n",
    "# Remove axes splines\n",
    "for s in ['top', 'bottom', 'left', 'right']:\n",
    "    ax.spines[s].set_visible(False)\n",
    " \n",
    "# Remove x, y Ticks\n",
    "ax.xaxis.set_ticks_position('none')\n",
    "ax.yaxis.set_ticks_position('none')\n",
    " \n",
    "# Add padding between axes and labels\n",
    "ax.xaxis.set_tick_params(pad = 5)\n",
    "ax.yaxis.set_tick_params(pad = 10)\n",
    " \n",
    "# Add x, y gridlines\n",
    "ax.grid(b = True, color ='grey',\n",
    "        linestyle ='-.', linewidth = 0.5,\n",
    "        alpha = 0.2)\n",
    " \n",
    "# Show top values\n",
    "ax.invert_yaxis()\n",
    " \n",
    "# Add annotation to bars\n",
    "for i in ax.patches:\n",
    "    plt.text(i.get_width()+0.2, i.get_y()+0.5,\n",
    "             str(round((i.get_width()), 2)),\n",
    "             fontsize = 10, fontweight ='bold',\n",
    "             color ='grey')\n",
    " \n",
    "# Add Plot Title\n",
    "ax.set_title('Number of times on average each component was modified over Quantum bugs ',\n",
    "             loc ='left', )\n",
    "# Show Plot\n",
    "plt.show()"
   ]
  },
  {
   "cell_type": "markdown",
   "id": "d6993605",
   "metadata": {},
   "source": [
    "## Classical Distribution"
   ]
  },
  {
   "cell_type": "code",
   "execution_count": null,
   "id": "d3caac26",
   "metadata": {},
   "outputs": [],
   "source": [
    "classical_bug_dataframe = buggy_elements.loc[((buggy_elements['Bug Type'] == 'Classical'))]"
   ]
  },
  {
   "cell_type": "code",
   "execution_count": null,
   "id": "dd43b883",
   "metadata": {},
   "outputs": [],
   "source": [
    "classical_bug_dataframe.head()"
   ]
  },
  {
   "cell_type": "code",
   "execution_count": null,
   "id": "191c71f1",
   "metadata": {},
   "outputs": [],
   "source": [
    "classical_bug_dataframe.shape"
   ]
  },
  {
   "cell_type": "code",
   "execution_count": null,
   "id": "bb200656",
   "metadata": {},
   "outputs": [],
   "source": [
    "classical_component_author_average = []\n",
    "classical_component_modified_average = []\n",
    "\n",
    "for component in code_element_component:\n",
    "    \n",
    "    classical_rslt_df = classical_bug_dataframe[classical_bug_dataframe['Components'].str.contains(component, regex=False)]\n",
    "   \n",
    "    \n",
    "    classical_component_author_average.append(classical_rslt_df[\"Number of Authors\"].mean())\n",
    "    classical_component_modified_average.append(classical_rslt_df[\"Number of times modified\"].mean())"
   ]
  },
  {
   "cell_type": "code",
   "execution_count": null,
   "id": "0cde9987",
   "metadata": {},
   "outputs": [],
   "source": [
    "classical_component_author_average = [0 if math.isnan(x) else x for x in component_modified_average]"
   ]
  },
  {
   "cell_type": "code",
   "execution_count": null,
   "id": "b7f5023c",
   "metadata": {},
   "outputs": [],
   "source": [
    "classical_component_modified_average = [0 if math.isnan(x) else x for x in component_modified_average]"
   ]
  },
  {
   "cell_type": "code",
   "execution_count": null,
   "id": "82060be7",
   "metadata": {},
   "outputs": [],
   "source": [
    "print(classical_component_author_average)"
   ]
  },
  {
   "cell_type": "code",
   "execution_count": null,
   "id": "e1605f37",
   "metadata": {},
   "outputs": [],
   "source": [
    "print(classical_component_modified_average)"
   ]
  },
  {
   "cell_type": "code",
   "execution_count": null,
   "id": "7857b321",
   "metadata": {},
   "outputs": [],
   "source": [
    "# Figure Size\n",
    "fig, ax = plt.subplots(figsize =(16, 9))\n",
    " \n",
    "# Horizontal Bar Plot\n",
    "ax.barh(code_element_component, classical_component_author_average, color = 'green')\n",
    " \n",
    "# Remove axes splines\n",
    "for s in ['top', 'bottom', 'left', 'right']:\n",
    "    ax.spines[s].set_visible(False)\n",
    " \n",
    "# Remove x, y Ticks\n",
    "ax.xaxis.set_ticks_position('none')\n",
    "ax.yaxis.set_ticks_position('none')\n",
    " \n",
    "# Add padding between axes and labels\n",
    "ax.xaxis.set_tick_params(pad = 5)\n",
    "ax.yaxis.set_tick_params(pad = 10)\n",
    " \n",
    "# Add x, y gridlines\n",
    "ax.grid(b = True, color ='grey',\n",
    "        linestyle ='-.', linewidth = 0.5,\n",
    "        alpha = 0.2)\n",
    " \n",
    "# Show top values\n",
    "ax.invert_yaxis()\n",
    " \n",
    "# Add annotation to bars\n",
    "for i in ax.patches:\n",
    "    plt.text(i.get_width()+0.2, i.get_y()+0.5,\n",
    "             str(round((i.get_width()), 2)),\n",
    "             fontsize = 10, fontweight ='bold',\n",
    "             color ='grey')\n",
    " \n",
    "# Add Plot Title\n",
    "ax.set_title('Number of Authors on average for each component over Classical bugs ',\n",
    "             loc ='left', )\n",
    "# Show Plot\n",
    "plt.show()"
   ]
  },
  {
   "cell_type": "code",
   "execution_count": null,
   "id": "f2c56eeb",
   "metadata": {},
   "outputs": [],
   "source": [
    "# Figure Size\n",
    "fig, ax = plt.subplots(figsize =(16, 9))\n",
    " \n",
    "# Horizontal Bar Plot\n",
    "ax.barh(code_element_component, classical_component_modified_average, color = 'black')\n",
    " \n",
    "# Remove axes splines\n",
    "for s in ['top', 'bottom', 'left', 'right']:\n",
    "    ax.spines[s].set_visible(False)\n",
    " \n",
    "# Remove x, y Ticks\n",
    "ax.xaxis.set_ticks_position('none')\n",
    "ax.yaxis.set_ticks_position('none')\n",
    " \n",
    "# Add padding between axes and labels\n",
    "ax.xaxis.set_tick_params(pad = 5)\n",
    "ax.yaxis.set_tick_params(pad = 10)\n",
    " \n",
    "# Add x, y gridlines\n",
    "ax.grid(b = True, color ='grey',\n",
    "        linestyle ='-.', linewidth = 0.5,\n",
    "        alpha = 0.2)\n",
    " \n",
    "# Show top values\n",
    "ax.invert_yaxis()\n",
    " \n",
    "# Add annotation to bars\n",
    "for i in ax.patches:\n",
    "    plt.text(i.get_width()+0.2, i.get_y()+0.5,\n",
    "             str(round((i.get_width()), 2)),\n",
    "             fontsize = 10, fontweight ='bold',\n",
    "             color ='grey')\n",
    " \n",
    "# Add Plot Title\n",
    "ax.set_title('Number of times on average each component was modified over Classical bugs ',\n",
    "             loc ='left', )\n",
    "# Show Plot\n",
    "plt.show()"
   ]
  }
 ],
 "metadata": {
  "kernelspec": {
   "display_name": "Python 3",
   "language": "python",
   "name": "python3"
  },
  "language_info": {
   "codemirror_mode": {
    "name": "ipython",
    "version": 3
   },
   "file_extension": ".py",
   "mimetype": "text/x-python",
   "name": "python",
   "nbconvert_exporter": "python",
   "pygments_lexer": "ipython3",
   "version": "3.8.8"
  }
 },
 "nbformat": 4,
 "nbformat_minor": 5
}
