{
 "cells": [
  {
   "cell_type": "code",
   "execution_count": null,
   "id": "2594d937",
   "metadata": {},
   "outputs": [],
   "source": [
    "import matplotlib.pyplot as plt\n",
    "import pandas as pd\n",
    "import numpy as np\n",
    "import os\n",
    "import math"
   ]
  },
  {
   "cell_type": "code",
   "execution_count": null,
   "id": "c7452a8a",
   "metadata": {},
   "outputs": [],
   "source": [
    "buggy_elements = pd.read_csv('../data/RQ3_Data.csv')"
   ]
  },
  {
   "cell_type": "code",
   "execution_count": null,
   "id": "c87c95b0",
   "metadata": {},
   "outputs": [],
   "source": [
    "buggy_elements.head()"
   ]
  },
  {
   "cell_type": "markdown",
   "id": "3694c2b5",
   "metadata": {},
   "source": [
    "## Distribution Boxplot"
   ]
  },
  {
   "cell_type": "code",
   "execution_count": null,
   "id": "1e686ba7",
   "metadata": {},
   "outputs": [],
   "source": [
    "classical_boxplot_component_bugId_df = buggy_elements.loc[((buggy_elements['bug_type'] == 'Classical'))]\n",
    "quantum_boxplot_component_bugId_df = buggy_elements.loc[((buggy_elements['bug_type'] == 'Quantum'))]"
   ]
  },
  {
   "cell_type": "code",
   "execution_count": null,
   "id": "313f08d6",
   "metadata": {
    "scrolled": true
   },
   "outputs": [],
   "source": [
    "fig, (ax1, ax2) = plt.subplots(nrows=2, figsize = (25,25))\n",
    "\n",
    "classical_boxplot_component_bugId_df.boxplot(column=['Bug Probability'],by='buggy_component',vert=False, figsize=(25,25),ax = ax2)\n",
    "\n",
    "quantum_boxplot_component_bugId_df.boxplot(column=['Bug Probability'],by='buggy_component',vert=False, figsize=(25,25), ax = ax1)\n",
    "\n",
    "plt.title('')\n",
    "plt.suptitle('')\n",
    "ax1.set_title('Quantum');\n",
    "ax1.set_xlabel(\"\");\n",
    "ax1.set_ylabel(\"\");\n",
    "ax2.set_title('Classical');\n",
    "ax2.set_xlabel(\"\");\n",
    "ax2.set_ylabel(\"\");\n",
    "\n",
    "fig.savefig(\"RQ3_Average_PredictionScore_Distribution_Per_BugID_BuggyComponent.pdf\", bbox_inches='tight',)"
   ]
  },
  {
   "cell_type": "markdown",
   "id": "7395f950",
   "metadata": {},
   "source": [
    "## Bug predicition score - Mean Value"
   ]
  },
  {
   "cell_type": "code",
   "execution_count": null,
   "id": "17b035b2",
   "metadata": {},
   "outputs": [],
   "source": [
    "component_df = buggy_elements.groupby('buggy_component').aggregate({'Bug Probability': 'mean'})"
   ]
  },
  {
   "cell_type": "code",
   "execution_count": null,
   "id": "d6e07797",
   "metadata": {},
   "outputs": [],
   "source": [
    "classical_component_df = classical_boxplot_component_bugId_df.groupby('buggy_component').aggregate({'Bug Probability': 'mean'})"
   ]
  },
  {
   "cell_type": "code",
   "execution_count": null,
   "id": "9fa4fc4f",
   "metadata": {},
   "outputs": [],
   "source": [
    "quantum_component_df = quantum_boxplot_component_bugId_df.groupby('buggy_component').aggregate({'Bug Probability': 'mean'})"
   ]
  },
  {
   "cell_type": "code",
   "execution_count": null,
   "id": "8a8f30f4",
   "metadata": {},
   "outputs": [],
   "source": [
    "quantum_lifetime = quantum_component_df['Bug Probability'].to_numpy().tolist()\n",
    "classical_lifetime = classical_component_df['Bug Probability'].to_numpy()\n",
    "\n",
    "classical_lifetime = np.insert(classical_lifetime, 29, 0)\n",
    "quantum_lifetime = np.insert(np.insert(quantum_lifetime, 6, 0),39,0)\n",
    "\n",
    "quantum_round_to_tenths = [round(num, 1) for num in quantum_lifetime]\n",
    "classical_round_to_tenths = [round(num, 1) for num in classical_lifetime]\n",
    "\n",
    "index = component_df.index.tolist()\n",
    "\n",
    "df = pd.DataFrame({'Quantum':quantum_round_to_tenths ,\n",
    "                   'Classical':classical_round_to_tenths}, index=index )\n",
    "\n",
    "ax = df.plot.barh(figsize=(25,25), color = {'Quantum':'black', 'Classical':'gray'})\n",
    "\n",
    "for p in ax.patches:\n",
    "    \n",
    "    ax.annotate(str(p.get_width()), (p.get_x() + p.get_width(), p.get_y()), xytext=(2, 2), textcoords='offset points', size = 6, fontsize=9)\n",
    "    \n",
    "\n",
    "ax.figure.savefig(\"RQ3_Average_Prediction_Score.pdf\", bbox_inches='tight',)\n"
   ]
  },
  {
   "cell_type": "markdown",
   "id": "46adaee2",
   "metadata": {},
   "source": [
    "## Top 30 buggy code element prediction scores"
   ]
  },
  {
   "cell_type": "code",
   "execution_count": null,
   "id": "b252975d",
   "metadata": {},
   "outputs": [],
   "source": [
    "buggy_elements.sort_values(by=['Bug Probability'],ascending=False).iloc[[10000]]"
   ]
  },
  {
   "cell_type": "code",
   "execution_count": null,
   "id": "301be8a8",
   "metadata": {},
   "outputs": [],
   "source": [
    "top_30_df = buggy_elements.sort_values(by=['Bug Probability'],ascending=False).head(30)"
   ]
  },
  {
   "cell_type": "code",
   "execution_count": null,
   "id": "e06863ab",
   "metadata": {},
   "outputs": [],
   "source": [
    "top_30_df.head()"
   ]
  },
  {
   "cell_type": "code",
   "execution_count": null,
   "id": "17583925",
   "metadata": {},
   "outputs": [],
   "source": [
    "top_30_df = top_30_df[['buggy_component', 'Bug Probability']]"
   ]
  },
  {
   "cell_type": "code",
   "execution_count": null,
   "id": "ce85de09",
   "metadata": {},
   "outputs": [],
   "source": [
    "top_30_df.to_csv('..\\data\\RQ3.1_Data.csv', index=False, encoding=\"utf8\" )"
   ]
  },
  {
   "cell_type": "code",
   "execution_count": null,
   "id": "1f388c29",
   "metadata": {},
   "outputs": [],
   "source": []
  }
 ],
 "metadata": {
  "kernelspec": {
   "display_name": "Python 3",
   "language": "python",
   "name": "python3"
  },
  "language_info": {
   "codemirror_mode": {
    "name": "ipython",
    "version": 3
   },
   "file_extension": ".py",
   "mimetype": "text/x-python",
   "name": "python",
   "nbconvert_exporter": "python",
   "pygments_lexer": "ipython3",
   "version": "3.8.8"
  }
 },
 "nbformat": 4,
 "nbformat_minor": 5
}
