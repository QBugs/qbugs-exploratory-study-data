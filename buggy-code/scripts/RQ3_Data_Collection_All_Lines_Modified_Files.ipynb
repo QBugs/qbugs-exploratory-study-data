{
 "cells": [
  {
   "cell_type": "code",
   "execution_count": null,
   "id": "2c53afb7",
   "metadata": {},
   "outputs": [],
   "source": [
    "import subprocess\n",
    "from subprocess import Popen\n",
    "import pandas as pd\n",
    "import numpy as np\n",
    "import glob\n",
    "import sys\n",
    "from pathlib import Path"
   ]
  },
  {
   "cell_type": "code",
   "execution_count": null,
   "id": "64a3d56a",
   "metadata": {},
   "outputs": [],
   "source": [
    "bugs = pd.read_csv('../../subjects/data/generated/bugs-in-quantum-computing-platforms.csv', sep=',')"
   ]
  },
  {
   "cell_type": "code",
   "execution_count": null,
   "id": "7e535e51",
   "metadata": {},
   "outputs": [],
   "source": [
    "bugs.head()"
   ]
  },
  {
   "cell_type": "code",
   "execution_count": null,
   "id": "1f9d16e9",
   "metadata": {},
   "outputs": [],
   "source": [
    "from datetime import datetime\n",
    "\n",
    "buggy_elements_df = pd.DataFrame()\n",
    "\n",
    "length = bugs.shape[0]\n",
    "j = 0\n",
    "\n",
    "for i in range(1):\n",
    "    sha1 = (bugs['fix_commit_hash'].iloc[i])\n",
    "    bug_id = (bugs['bug_id'].iloc[i])\n",
    "    bug_type = bugs['bug_type'].iloc[i]\n",
    "    \n",
    "    if (sha1 == '1c07475ad9dbc30baedddf78fddafa96112ffcdc'):\n",
    "        continue\n",
    "    \n",
    "    repo_url = (bugs['project_repository_url'].iloc[i])\n",
    "    sub_repo_url = (repo_url.split('/')[-1]).split('.')[0]\n",
    "    #print(sub_repo_url)\n",
    "     ### Fazer checkout para a versão buggy do bug - fixed commit~1\n",
    "    \n",
    "    process2 = subprocess.Popen(['git','checkout',sha1],cwd = r'C:\\Users\\migue\\OneDrive\\Ambiente de Trabalho\\teste' + '\\\\' + str(sub_repo_url), stdout=subprocess.PIPE, stderr=subprocess.PIPE, universal_newlines=True, shell = True)\n",
    "    output, errors = process2.communicate()\n",
    "    \n",
    "    process3 = subprocess.Popen(['git','diff-tree','--no-commit-id','--name-only','-r',sha1],cwd = r'C:\\Users\\migue\\OneDrive\\Ambiente de Trabalho\\teste' + '\\\\' + str(sub_repo_url), stdout=subprocess.PIPE, stderr=subprocess.PIPE, universal_newlines=True, shell = True)\n",
    "    output3, errors = process3.communicate()\n",
    "    \n",
    "    for filepath in output3.splitlines():\n",
    "        #print('NOME DO FICHEIRO')\n",
    "        \n",
    "        filename = filepath.split('/')[-1]\n",
    "        #print(filename)\n",
    "        path = filepath.rsplit('/', 1)[0]\n",
    "        #print(path)\n",
    "        \n",
    "        if(filepath.endswith('.py')):\n",
    "            \n",
    "            print(filename)\n",
    "            print(filepath)\n",
    "            \n",
    "            num_lines = sum(1 for _ in open( r'C:\\Users\\migue\\OneDrive\\Ambiente de Trabalho\\teste' + '\\\\' + str(sub_repo_url) + '\\\\' + filepath))\n",
    "            #print(num_lines)\n",
    "            \n",
    "            try:\n",
    "            \n",
    "                for j in range(num_lines):\n",
    "                    process4 = subprocess.Popen(['git','log','--date=unix','-L', str(j) + ',' + str(j) + ':' + filename],cwd = r'C:\\Users\\migue\\OneDrive\\Ambiente de Trabalho\\teste' + '\\\\' + str(sub_repo_url) + '\\\\' + path, stdout=subprocess.PIPE, stderr=subprocess.PIPE, universal_newlines=True, shell = True)\n",
    "                    output4, errors = process4.communicate()\n",
    "\n",
    "                    commits = []\n",
    "                    authors = []\n",
    "                    dates = []\n",
    "\n",
    "                    for linha in output4.splitlines():\n",
    "\n",
    "                        #print(linha)\n",
    "\n",
    "                        if linha.startswith('commit'):\n",
    "\n",
    "                            commit = linha.split(\"commit\")[1].strip()\n",
    "                            #print(commit)\n",
    "                            commits.append(commit)\n",
    "\n",
    "                        if linha.startswith('Author:'):\n",
    "\n",
    "                            author = linha.split(\"Author:\")[1].strip().split('<',1)[0]\n",
    "                            #print(author)\n",
    "                            authors.append(author)\n",
    "\n",
    "                        if linha.startswith('Date:'):\n",
    "\n",
    "                            date = linha.split(\"Date:\")[1].strip()\n",
    "                            dates.append(date)\n",
    "\n",
    "                    row  = {'Bug ID': bug_id,'Hash': sha1,'Bug Type': bug_type ,'Repo' : str(sub_repo_url) ,'File': filename, 'Line': str(j),'Commits' : commits, 'Authors' : authors, 'Dates' : dates}\n",
    "                    buggy_elements_df = buggy_elements_df.append(row, ignore_index = True)\n",
    "                    \n",
    "            except:\n",
    "                print(\"Invalid Directory\")\n",
    "\n"
   ]
  },
  {
   "cell_type": "code",
   "execution_count": null,
   "id": "f15c89aa",
   "metadata": {},
   "outputs": [],
   "source": [
    "buggy_elements_df.head()"
   ]
  },
  {
   "cell_type": "code",
   "execution_count": null,
   "id": "184c7aba",
   "metadata": {},
   "outputs": [],
   "source": [
    "buggy_elements_df.shape"
   ]
  },
  {
   "cell_type": "code",
   "execution_count": null,
   "id": "5516f4bf",
   "metadata": {},
   "outputs": [],
   "source": [
    "buggy_elements_df['Fix commits'] = ''"
   ]
  },
  {
   "cell_type": "code",
   "execution_count": null,
   "id": "fb0fb18c",
   "metadata": {},
   "outputs": [],
   "source": [
    "import re\n",
    "length = buggy_elements_df.shape[0]\n",
    "\n",
    "for i in range(length):\n",
    "    \n",
    "    commits = (buggy_elements_df.loc[i,['Commits']])\n",
    "    fix_commits = []\n",
    "    for commit in commits:\n",
    "        \n",
    "        if not commit:\n",
    "            print(\"List is empty\")\n",
    "            \n",
    "        else:\n",
    "            \n",
    "            ## search for message\n",
    "            \n",
    "            process = subprocess.Popen(['git','log','--format=%B','-n','1',str(commit[0])],cwd = r'C:\\Users\\migue\\OneDrive\\Ambiente de Trabalho\\teste' + '\\\\' + str(sub_repo_url), stdout=subprocess.PIPE, stderr=subprocess.PIPE, universal_newlines=True, shell = True)\n",
    "            output, errors = process.communicate()\n",
    "            \n",
    "            for output_line in output.splitlines():\n",
    "                \n",
    "                pattern = re.search(\"fix(e[ds])?|bugs?|defects?|patch|corrigidos?|close([sd])?|resolve([sd])?\", output_line, re.I)\n",
    "                \n",
    "                if pattern is not None:\n",
    "                \n",
    "                    #print(pattern)\n",
    "                    fix_commits.append(str(commit[0]))\n",
    "                    break\n",
    "\n",
    "    buggy_elements_df.at[i,'Fix commits'] = fix_commits\n",
    "                \n",
    "                \n",
    "    \n",
    "   \n",
    "        "
   ]
  },
  {
   "cell_type": "code",
   "execution_count": null,
   "id": "b0155d12",
   "metadata": {},
   "outputs": [],
   "source": [
    "buggy_elements_df.head()"
   ]
  },
  {
   "cell_type": "markdown",
   "id": "5d9a2d06",
   "metadata": {},
   "source": [
    "## Converting hash commits to dates"
   ]
  },
  {
   "cell_type": "code",
   "execution_count": null,
   "id": "aee78e10",
   "metadata": {},
   "outputs": [],
   "source": [
    "buggy_elements_df['Bug Probability'] = ''"
   ]
  },
  {
   "cell_type": "code",
   "execution_count": null,
   "id": "9357a62a",
   "metadata": {},
   "outputs": [],
   "source": [
    "def date_normalized(x,y):\n",
    "    \n",
    "    dates = []\n",
    "    for commit in x:\n",
    "        \n",
    "        process = subprocess.Popen(['git','show','--no-patch','--no-notes','--pretty=' + r'%cd','--format=' + r\"%at\",commit],cwd = r'C:\\Users\\migue\\OneDrive\\Ambiente de Trabalho\\teste' + '\\\\' + y, stdout=subprocess.PIPE, stderr=subprocess.PIPE, universal_newlines=True, shell = True)\n",
    "        output, errors = process.communicate()\n",
    "        \n",
    "        print(str(output.splitlines()[0].rstrip()))\n",
    "        dates.append(int(output.splitlines()[0].rstrip()))\n",
    "       \n",
    "        \n",
    "    return dates\n",
    "            \n",
    "    \n",
    "    "
   ]
  },
  {
   "cell_type": "code",
   "execution_count": null,
   "id": "cb0a6f83",
   "metadata": {},
   "outputs": [],
   "source": [
    "import numpy as np\n",
    "\n",
    "def NormalizeData(data):\n",
    "    \n",
    "    data =  np.array(data)\n",
    "    \n",
    "    if len(data) == 1:\n",
    "        \n",
    "        return [1]\n",
    "    \n",
    "    else:\n",
    "        \n",
    "        return (data - np.min(data)) / (np.max(data) - np.min(data))\n"
   ]
  },
  {
   "cell_type": "code",
   "execution_count": null,
   "id": "9709f99e",
   "metadata": {},
   "outputs": [],
   "source": [
    "import math\n",
    "\n",
    "def TWRFunction(normal_data):\n",
    "    \n",
    "    twr = 0\n",
    "    for i in normal_data:\n",
    "        \n",
    "        twr = twr + 1/1 + math.e**(-12*i + 12)\n",
    "    \n",
    "    defect_probability = 1 -math.e**-twr\n",
    "    \n",
    "    return round(defect_probability,2)\n",
    "        "
   ]
  },
  {
   "cell_type": "code",
   "execution_count": null,
   "id": "6054f895",
   "metadata": {},
   "outputs": [],
   "source": [
    "length = buggy_elements_df.shape[0]\n",
    "\n",
    "for i in range(length):\n",
    "    \n",
    "    #print(buggy_elements_df['Commits'].iloc[i])\n",
    "    #print(buggy_elements_df['Repo'].iloc[i])\n",
    "    \n",
    "    if not buggy_elements_df['Fix commits'].iloc[i]:\n",
    "        \n",
    "        try:\n",
    "            buggy_elements_df.at[i,'Bug Probability'] = 0.3 * TWRFunction(NormalizeData(date_normalized(buggy_elements_df['Commits'].iloc[i],buggy_elements_df['Repo'].iloc[i])))\n",
    "        \n",
    "        except ValueError:\n",
    "             print('Commit List is Empty')\n",
    "            \n",
    "    else:    \n",
    "    \n",
    "        try:\n",
    "            buggy_elements_df.at[i,'Bug Probability'] = 0.7 * TWRFunction(NormalizeData(date_normalized(buggy_elements_df['Fix commits'].iloc[i],buggy_elements_df['Repo'].iloc[i]))) + 0.3 * TWRFunction(NormalizeData(date_normalized(buggy_elements_df['Commits'].iloc[i],buggy_elements_df['Repo'].iloc[i])))\n",
    "\n",
    "        except ValueError:\n",
    "            print('Commit List is Empty')"
   ]
  },
  {
   "cell_type": "code",
   "execution_count": null,
   "id": "1f64404d",
   "metadata": {},
   "outputs": [],
   "source": [
    "buggy_elements_df.to_csv('..\\data\\RQ3.0_Data.csv', index=False, encoding=\"utf8\" )"
   ]
  },
  {
   "cell_type": "code",
   "execution_count": null,
   "id": "886df1bd",
   "metadata": {},
   "outputs": [],
   "source": [
    "buggy_elements_df['Bug Probability'].unique()"
   ]
  },
  {
   "cell_type": "code",
   "execution_count": null,
   "id": "803bab09",
   "metadata": {},
   "outputs": [],
   "source": [
    "#final_df = buggy_elements_df[buggy_elements_df['Fix commits'].map(lambda d: len(d)) > 0]\n",
    "#git show --no-patch --no-notes --pretty='%cd' --format=\"%at\" ec1b4ce759f1fb8ba0242dd6c4a309fa1b586666"
   ]
  }
 ],
 "metadata": {
  "kernelspec": {
   "display_name": "Python 3",
   "language": "python",
   "name": "python3"
  },
  "language_info": {
   "codemirror_mode": {
    "name": "ipython",
    "version": 3
   },
   "file_extension": ".py",
   "mimetype": "text/x-python",
   "name": "python",
   "nbconvert_exporter": "python",
   "pygments_lexer": "ipython3",
   "version": "3.8.8"
  }
 },
 "nbformat": 4,
 "nbformat_minor": 5
}
