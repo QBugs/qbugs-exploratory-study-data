{
 "cells": [
  {
   "cell_type": "markdown",
   "id": "07b3f6fd",
   "metadata": {},
   "source": [
    "##  This notebook aggregates all code elements and edit_actions by bug_id and file, producing association rules through pattern mining.\n",
    "## This notebook outputs 2 csv files, 1 containing the association rules for bugs labelled as 'Quantum' and the other one containing the association rules for bugs labelled as 'Classical'"
   ]
  },
  {
   "cell_type": "code",
   "execution_count": null,
   "id": "36f7e384",
   "metadata": {},
   "outputs": [],
   "source": [
    "import pandas as pd\n",
    "import numpy as np\n",
    "import matplotlib as plt\n",
    "from mlxtend.preprocessing import TransactionEncoder\n",
    "from mlxtend.frequent_patterns import apriori\n",
    "from mlxtend.frequent_patterns import association_rules\n",
    "from mlxtend.frequent_patterns import fpmax\n",
    "from mlxtend.frequent_patterns import fpgrowth\n",
    "import datetime\n",
    "import warnings\n",
    "warnings.filterwarnings(\"ignore\")"
   ]
  },
  {
   "cell_type": "markdown",
   "id": "38342ab7",
   "metadata": {},
   "source": [
    "### Data cleaning and merging"
   ]
  },
  {
   "cell_type": "code",
   "execution_count": null,
   "id": "52996e47",
   "metadata": {},
   "outputs": [],
   "source": [
    "fixElements = pd.read_csv(r'..\\data\\generated\\fixed-code-data.csv',header=None, sep=',')"
   ]
  },
  {
   "cell_type": "code",
   "execution_count": null,
   "id": "f2c04a79",
   "metadata": {},
   "outputs": [],
   "source": [
    "BuggyElements = pd.read_csv(r'..\\..\\buggy-code\\data\\generated\\buggy-code-data.csv',header=None, sep=',')"
   ]
  },
  {
   "cell_type": "code",
   "execution_count": null,
   "id": "fd6125e9",
   "metadata": {},
   "outputs": [],
   "source": [
    "fixElements.head()"
   ]
  },
  {
   "cell_type": "code",
   "execution_count": null,
   "id": "a3536ef3",
   "metadata": {},
   "outputs": [],
   "source": [
    "fixElements.columns = [\"project_full_name\", \"fix_commit_hash\", \"buggy_commit_hash\", \"bug_id\", \"bug_type\", \"file_path\",\"line_number\",\"component\",\"edit_action\"]\n",
    "fixElements.drop(index=fixElements.index[0], axis=0, inplace=True)\n",
    "fixElements = fixElements.drop(columns=['project_full_name', 'fix_commit_hash','buggy_commit_hash','line_number'])\n"
   ]
  },
  {
   "cell_type": "code",
   "execution_count": null,
   "id": "20968802",
   "metadata": {},
   "outputs": [],
   "source": [
    "fixElements.head()"
   ]
  },
  {
   "cell_type": "code",
   "execution_count": null,
   "id": "e6afdebd",
   "metadata": {},
   "outputs": [],
   "source": [
    "fixElements = fixElements.sort_values(by=['bug_id', 'file_path'])\n",
    "fixElements = fixElements.reset_index(drop=True)"
   ]
  },
  {
   "cell_type": "code",
   "execution_count": null,
   "id": "76098593",
   "metadata": {},
   "outputs": [],
   "source": [
    "fixElements.shape"
   ]
  },
  {
   "cell_type": "code",
   "execution_count": null,
   "id": "1f665d46",
   "metadata": {},
   "outputs": [],
   "source": [
    "BuggyElements.head()"
   ]
  },
  {
   "cell_type": "code",
   "execution_count": null,
   "id": "cc88fae1",
   "metadata": {},
   "outputs": [],
   "source": [
    "BuggyElements.columns = [\"project_full_name\", \"fix_commit_hash\", \"buggy_commit_hash\", \"bug_id\", \"bug_type\", \"file_path\",\"line_number\",\"component\",\"edit_action\"]\n",
    "BuggyElements.drop(index=fixElements.index[0], axis=0, inplace=True)\n",
    "BuggyElements = BuggyElements.drop(columns=['project_full_name', 'fix_commit_hash','buggy_commit_hash','line_number'])"
   ]
  },
  {
   "cell_type": "code",
   "execution_count": null,
   "id": "a59dbbb5",
   "metadata": {},
   "outputs": [],
   "source": [
    "BuggyElements.head()"
   ]
  },
  {
   "cell_type": "code",
   "execution_count": null,
   "id": "fdc95314",
   "metadata": {},
   "outputs": [],
   "source": [
    "BuggyElements = BuggyElements.sort_values(by=['bug_id', 'file_path'])\n",
    "BuggyElements = BuggyElements.reset_index(drop=True)"
   ]
  },
  {
   "cell_type": "code",
   "execution_count": null,
   "id": "1e01a52e",
   "metadata": {},
   "outputs": [],
   "source": [
    "BuggyElements.shape"
   ]
  },
  {
   "cell_type": "code",
   "execution_count": null,
   "id": "36ba3b37",
   "metadata": {},
   "outputs": [],
   "source": [
    "Elements = BuggyElements.append(fixElements)"
   ]
  },
  {
   "cell_type": "code",
   "execution_count": null,
   "id": "161223d9",
   "metadata": {},
   "outputs": [],
   "source": [
    "Elements.head()"
   ]
  },
  {
   "cell_type": "code",
   "execution_count": null,
   "id": "ba37d878",
   "metadata": {},
   "outputs": [],
   "source": [
    "Elements.shape"
   ]
  },
  {
   "cell_type": "markdown",
   "id": "4542a909",
   "metadata": {},
   "source": [
    "### Replacing M and U edit actions by E edit action and merging component with edit action to ease mining algorithm"
   ]
  },
  {
   "cell_type": "code",
   "execution_count": null,
   "id": "b130b6ef",
   "metadata": {},
   "outputs": [],
   "source": [
    "Elements[\"edit_action\"].replace({\"M\": \"E\", \"U\": \"E\"}, inplace=True)\n",
    "Elements[\"component-edit_action\"] = Elements['component'].astype(str) +\"-\"+ Elements[\"edit_action\"]\n",
    "Elements = Elements.drop(columns=['component', 'edit_action'])"
   ]
  },
  {
   "cell_type": "code",
   "execution_count": null,
   "id": "c062f9c6",
   "metadata": {},
   "outputs": [],
   "source": [
    "Elements.head()"
   ]
  },
  {
   "cell_type": "markdown",
   "id": "77ffcca4",
   "metadata": {},
   "source": [
    "### Splitting dataframe into bug_type == Quantum and bug_type == Classical"
   ]
  },
  {
   "cell_type": "code",
   "execution_count": null,
   "id": "c50de960",
   "metadata": {},
   "outputs": [],
   "source": [
    "quantum_elements = Elements[Elements['bug_type'] == 'Quantum']\n",
    "quantum_elements = quantum_elements.reset_index(drop=True)"
   ]
  },
  {
   "cell_type": "code",
   "execution_count": null,
   "id": "ef6db6bb",
   "metadata": {},
   "outputs": [],
   "source": [
    "classical_elements = Elements[Elements['bug_type'] == 'Classical'] \n",
    "classical_elements = classical_elements.reset_index(drop=True)"
   ]
  },
  {
   "cell_type": "markdown",
   "id": "512db6db",
   "metadata": {},
   "source": [
    "### Creating list of transactions to feed to mining algorithm"
   ]
  },
  {
   "cell_type": "code",
   "execution_count": null,
   "id": "46b9a487",
   "metadata": {},
   "outputs": [],
   "source": [
    "quantum_elements['id'] = quantum_elements.groupby(['bug_id','file_path']).ngroup()"
   ]
  },
  {
   "cell_type": "code",
   "execution_count": null,
   "id": "9a3fab37",
   "metadata": {},
   "outputs": [],
   "source": [
    "classical_elements['id'] = classical_elements.groupby(['bug_id','file_path']).ngroup()"
   ]
  },
  {
   "cell_type": "code",
   "execution_count": null,
   "id": "d623fcf2",
   "metadata": {},
   "outputs": [],
   "source": [
    "quantum_elements.head()"
   ]
  },
  {
   "cell_type": "code",
   "execution_count": null,
   "id": "dc4ecc12",
   "metadata": {},
   "outputs": [],
   "source": [
    "seen = set()\n",
    "quantum_transactions = []\n",
    "i = 0\n",
    "\n",
    "while i < len(quantum_elements['id']):\n",
    "    if quantum_elements['id'][i] not in seen:\n",
    "        seen.add(quantum_elements['id'][i])\n",
    "        quantum_transactions.append([quantum_elements['component-edit_action'][i]])\n",
    "    else:\n",
    "        quantum_transactions[-1].append(quantum_elements['component-edit_action'][i])\n",
    "    i += 1"
   ]
  },
  {
   "cell_type": "code",
   "execution_count": null,
   "id": "1511b138",
   "metadata": {},
   "outputs": [],
   "source": [
    "seen = set()\n",
    "classical_transactions = []\n",
    "i = 0\n",
    "\n",
    "while i < len(classical_elements['id']):\n",
    "    if classical_elements['id'][i] not in seen:\n",
    "        seen.add(classical_elements['id'][i])\n",
    "        classical_transactions.append([classical_elements['component-edit_action'][i]])\n",
    "    else:\n",
    "        classical_transactions[-1].append(classical_elements['component-edit_action'][i])\n",
    "    i += 1"
   ]
  },
  {
   "cell_type": "code",
   "execution_count": null,
   "id": "f740ba1a",
   "metadata": {},
   "outputs": [],
   "source": [
    "#Compute binary database for the quantum transactions\n",
    "tr_enc = TransactionEncoder()\n",
    "trans_array = tr_enc.fit(quantum_transactions).transform(quantum_transactions)\n",
    "binary_database_quantum = pd.DataFrame(trans_array, columns=tr_enc.columns_)\n",
    "binary_database_quantum"
   ]
  },
  {
   "cell_type": "code",
   "execution_count": null,
   "id": "c7e5bc0b",
   "metadata": {
    "scrolled": true
   },
   "outputs": [],
   "source": [
    "#Compute binary database for the classical transactions\n",
    "tr_enc = TransactionEncoder()\n",
    "trans_array = tr_enc.fit(classical_transactions).transform(classical_transactions)\n",
    "binary_database_classical = pd.DataFrame(trans_array, columns=tr_enc.columns_)\n",
    "binary_database_classical"
   ]
  },
  {
   "cell_type": "markdown",
   "id": "b23826ac",
   "metadata": {},
   "source": [
    "### Metrics for association rules and/or frequent itemsets"
   ]
  },
  {
   "cell_type": "markdown",
   "id": "a6df1ca8",
   "metadata": {},
   "source": [
    "#### Support:\n",
    "Probability of item A occurring, i.e, how many transactions contain item A - P(A)\n",
    "#### Confidence:\n",
    "Likeliness of occurrence of a consequent B given the antecedents A - p(A and B) / p(A)\n",
    "#### Lift:\n",
    "Confidence/Support\n",
    "\n",
    "Lift is the strongest metric to assess associations betwen consequent and antecedent: Lift > 1"
   ]
  },
  {
   "cell_type": "markdown",
   "id": "c68eb0df",
   "metadata": {},
   "source": [
    "### Create list of frequent itemsets for quantum and classical binary databases"
   ]
  },
  {
   "cell_type": "code",
   "execution_count": null,
   "id": "c0fdf535",
   "metadata": {},
   "outputs": [],
   "source": [
    "frequent_itemsets_quantum = fpgrowth(binary_database_quantum, min_support=0.2, use_colnames=True)\n",
    "frequent_itemsets_quantum.sort_values('2')"
   ]
  },
  {
   "cell_type": "code",
   "execution_count": null,
   "id": "a678a6ed",
   "metadata": {},
   "outputs": [],
   "source": [
    "frequent_itemsets_classical= fpgrowth(binary_database_classical, min_support=0.2, use_colnames=True)\n",
    "frequent_itemsets_classical"
   ]
  },
  {
   "cell_type": "markdown",
   "id": "83512297",
   "metadata": {},
   "source": [
    "### Computing Association rules using lift metric"
   ]
  },
  {
   "cell_type": "code",
   "execution_count": null,
   "id": "dcaca444",
   "metadata": {
    "scrolled": true
   },
   "outputs": [],
   "source": [
    "quantum_association_rules = association_rules(frequent_itemsets_quantum, metric=\"lift\", min_threshold=1.2)\n",
    "quantum_association_rules.sort_values(by=['lift'], ascending=True)"
   ]
  },
  {
   "cell_type": "code",
   "execution_count": null,
   "id": "6b82ce56",
   "metadata": {},
   "outputs": [],
   "source": [
    "classical_association_rules = association_rules(frequent_itemsets_classical, metric=\"lift\", min_threshold=1.2)\n",
    "classical_association_rules.sort_values(by=['lift'], ascending=True)"
   ]
  },
  {
   "cell_type": "markdown",
   "id": "faee9f60",
   "metadata": {},
   "source": [
    "## Sending dataframes to csv files"
   ]
  },
  {
   "cell_type": "code",
   "execution_count": null,
   "id": "c6b8a12e",
   "metadata": {},
   "outputs": [],
   "source": [
    "classical_association_rules.sort_values(by=['lift'], ascending=False).to_csv('classical-patterns.csv', index=False)\n",
    "quantum_association_rules.sort_values(by=['lift'], ascending=False).to_csv('quantum-patterns.csv', index=False) "
   ]
  }
 ],
 "metadata": {
  "kernelspec": {
   "display_name": "Python 3 (ipykernel)",
   "language": "python",
   "name": "python3"
  },
  "language_info": {
   "codemirror_mode": {
    "name": "ipython",
    "version": 3
   },
   "file_extension": ".py",
   "mimetype": "text/x-python",
   "name": "python",
   "nbconvert_exporter": "python",
   "pygments_lexer": "ipython3",
   "version": "3.8.8"
  }
 },
 "nbformat": 4,
 "nbformat_minor": 5
}
