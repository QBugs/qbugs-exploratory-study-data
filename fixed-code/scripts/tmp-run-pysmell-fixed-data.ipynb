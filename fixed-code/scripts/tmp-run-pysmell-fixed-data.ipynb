{
 "cells": [
  {
   "cell_type": "markdown",
   "id": "f41043a4",
   "metadata": {},
   "source": [
    "This script generates code smells using an adapted version of the Pysmell software tool over the fixed data\n"
   ]
  },
  {
   "cell_type": "code",
   "execution_count": null,
   "id": "cf556415",
   "metadata": {},
   "outputs": [],
   "source": [
    "import os\n",
    "import subprocess\n",
    "from subprocess import Popen\n",
    "import pandas as pd\n",
    "import numpy as np\n",
    "import glob\n",
    "import sys\n",
    "from pathlib import Path\n",
    "#getting full path to import adapted version of the Pysmell software tool\n",
    "cwd = os.getcwd()\n",
    "path = Path(cwd).parent.parent\n",
    "toolpath = str(path) + r'\\tools\\tmpPysmell'\n",
    "astpath = str(path) + r'\\tools\\tmpPysmell\\ast'\n",
    "sys.path.append(toolpath)\n",
    "sys.path.append(astpath)\n",
    "from pysmell import *\n",
    "\n",
    "\n"
   ]
  },
  {
   "cell_type": "markdown",
   "id": "1a87e957",
   "metadata": {},
   "source": [
    "Creates the dataframe where all code smells will be stored, dataframe will be converted to a CSV file later on"
   ]
  },
  {
   "cell_type": "code",
   "execution_count": null,
   "id": "f2467ca6",
   "metadata": {},
   "outputs": [],
   "source": [
    "bug_smells = pd.DataFrame(columns =['bug_id','bug_type','project_full_name','file_name','function_name','code_smell_metric','code_smell_metric_value'])"
   ]
  },
  {
   "cell_type": "code",
   "execution_count": null,
   "id": "df7aa82e",
   "metadata": {},
   "outputs": [],
   "source": [
    "bug_smells.head()\n"
   ]
  },
  {
   "cell_type": "markdown",
   "id": "c656c2f7",
   "metadata": {},
   "source": [
    "Code_smells_to_csv function - Returns a dataframe with a row having bug_id,bug_type,file_name and smells to be added to bug_smells CSV"
   ]
  },
  {
   "cell_type": "code",
   "execution_count": null,
   "id": "47c44e4a",
   "metadata": {},
   "outputs": [],
   "source": [
    "bugs = pd.read_csv(r'..\\..\\subjects\\data\\generated\\bugs-in-quantum-computing-platforms.csv', sep=',')"
   ]
  },
  {
   "cell_type": "code",
   "execution_count": null,
   "id": "34fe19c1",
   "metadata": {},
   "outputs": [],
   "source": [
    "bugs.shape"
   ]
  },
  {
   "cell_type": "code",
   "execution_count": null,
   "id": "1c30f026",
   "metadata": {},
   "outputs": [],
   "source": [
    "bugs.head()"
   ]
  },
  {
   "cell_type": "code",
   "execution_count": null,
   "id": "3f0cd8d6",
   "metadata": {},
   "outputs": [],
   "source": [
    "# Converting series to String\n",
    "\n",
    "bugs['fix_commit_hash']= pd.Series(bugs['fix_commit_hash'], dtype=\"string\")\n",
    "bugs['bug_id']= pd.Series(bugs['bug_id'], dtype=\"string\")\n",
    "bugs['bug_type']= pd.Series(bugs['bug_type'], dtype=\"string\")\n",
    "bugs['project_full_name']= pd.Series(bugs['project_full_name'], dtype=\"string\")"
   ]
  },
  {
   "cell_type": "code",
   "execution_count": null,
   "id": "1cb50fd1",
   "metadata": {
    "scrolled": true
   },
   "outputs": [],
   "source": [
    "length = bugs.shape[0]\n",
    "j = 0\n",
    "\n",
    "for i in range(length):\n",
    "    sha1 = (bugs['fix_commit_hash'].iloc[i])\n",
    "    repo_url = 'https://github.com/' + bugs['project_full_name'].iloc[i] +'.git'\n",
    "    sub_repo_url = bugs['project_full_name'].iloc[i].split('/')\n",
    "    print(sha1)\n",
    "    print(repo_url)\n",
    "    print(sub_repo_url[1])\n",
    "    \n",
    "    ### Clone Repository\n",
    "    process = subprocess.Popen(['git','clone',repo_url],cwd = r'..\\..\\subjects\\tmp-repositories', stdout=subprocess.PIPE, stderr=subprocess.PIPE, universal_newlines=True, shell = True)\n",
    "    output, errors = process.communicate()\n",
    "\n",
    "    ### Checkout to the fixed version\n",
    "    process2 = subprocess.Popen(['git','checkout',sha1],cwd = r'..\\..\\subjects\\tmp-repositories' + '\\\\' + str(sub_repo_url[1]), stdout=subprocess.PIPE, stderr=subprocess.PIPE, universal_newlines=True, shell = True)\n",
    "    output2, errors = process2.communicate()\n",
    "    \n",
    "    ### Obtain only the modified files\n",
    "    \n",
    "    process3 = subprocess.Popen(['git','diff-tree','--no-commit-id','--name-only','-r',sha1],cwd = r'..\\..\\subjects\\tmp-repositories' + '\\\\' + str(sub_repo_url[1]), stdout=subprocess.PIPE, stderr=subprocess.PIPE, universal_newlines=True, shell = True)\n",
    "    output3, errors = process3.communicate()\n",
    "    #print(output3.splitlines())\n",
    "    \n",
    "    ### todos os ficheiros python de um dado repo\n",
    "    pyPath = r'..\\..\\subjects\\tmp-repositories' + '\\\\' + sub_repo_url[1]\n",
    "    #ficheiros = glob.glob(pyPath + '/**/*.py',recursive=True)\n",
    "    \n",
    "    print('Hash = ' + sha1)\n",
    "    \n",
    "    for ficheiro in output3.splitlines():\n",
    "        \n",
    "        #print(ficheiro)\n",
    "        idd = str(bugs['bug_id'].iloc[i])\n",
    "        tipo = bugs['bug_type'].iloc[i]\n",
    "        ficheiro_final = pyPath + '\\\\' + ficheiro\n",
    "        print(ficheiro_final)\n",
    "                \n",
    "        try:\n",
    "            bug_smells = bug_smells.append(Code_smells_to_csv(idd,tipo,ficheiro_final,sub_repo_url[1]),ignore_index = True)\n",
    "          \n",
    "           \n",
    "        except:\n",
    "            print(\"An exception occurred. The file is not a python file\")\n",
    "        "
   ]
  },
  {
   "cell_type": "code",
   "execution_count": null,
   "id": "af83c892",
   "metadata": {},
   "outputs": [],
   "source": [
    "bug_smells.head()"
   ]
  },
  {
   "cell_type": "code",
   "execution_count": null,
   "id": "fd7d19a1",
   "metadata": {},
   "outputs": [],
   "source": [
    "bug_smells.shape"
   ]
  },
  {
   "cell_type": "code",
   "execution_count": null,
   "id": "a57262b9",
   "metadata": {},
   "outputs": [],
   "source": [
    "bug_smells.to_csv(r'..\\data\\generated\\code-smell-metrics-for-fixed-data.csv', index=False)"
   ]
  },
  {
   "cell_type": "code",
   "execution_count": null,
   "id": "aca708f2",
   "metadata": {},
   "outputs": [],
   "source": [
    "bug_smells.describe()"
   ]
  },
  {
   "cell_type": "code",
   "execution_count": null,
   "id": "eaf202b2",
   "metadata": {},
   "outputs": [],
   "source": [
    "print(bug_smells['project_full_name'].unique())"
   ]
  },
  {
   "cell_type": "code",
   "execution_count": null,
   "id": "9c6eec1c",
   "metadata": {},
   "outputs": [],
   "source": []
  }
 ],
 "metadata": {
  "kernelspec": {
   "display_name": "Python 3 (ipykernel)",
   "language": "python",
   "name": "python3"
  },
  "language_info": {
   "codemirror_mode": {
    "name": "ipython",
    "version": 3
   },
   "file_extension": ".py",
   "mimetype": "text/x-python",
   "name": "python",
   "nbconvert_exporter": "python",
   "pygments_lexer": "ipython3",
   "version": "3.8.8"
  }
 },
 "nbformat": 4,
 "nbformat_minor": 5
}
