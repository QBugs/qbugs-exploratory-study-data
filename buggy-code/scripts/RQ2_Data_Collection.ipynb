{
 "cells": [
  {
   "cell_type": "markdown",
   "id": "48725d9c",
   "metadata": {},
   "source": [
    "## RQ2 - Coleção dos autores com respetivos commits e datas a um dada linha"
   ]
  },
  {
   "cell_type": "code",
   "execution_count": null,
   "id": "0b921c43",
   "metadata": {},
   "outputs": [],
   "source": [
    "import subprocess\n",
    "from subprocess import Popen\n",
    "import pandas as pd\n",
    "import numpy as np\n",
    "import glob\n",
    "import sys\n",
    "from pathlib import Path\n",
    "import ast\n",
    "import astpretty\n",
    "import astor\n"
   ]
  },
  {
   "cell_type": "code",
   "execution_count": null,
   "id": "e2810ca7",
   "metadata": {},
   "outputs": [],
   "source": [
    "buggy_elements = pd.read_csv('../data/RQ1_Data_Processed.csv', sep=',')"
   ]
  },
  {
   "cell_type": "code",
   "execution_count": null,
   "id": "42decdc6",
   "metadata": {},
   "outputs": [],
   "source": [
    "buggy_elements.head()"
   ]
  },
  {
   "cell_type": "code",
   "execution_count": null,
   "id": "36cfa7e0",
   "metadata": {
    "scrolled": false
   },
   "outputs": [],
   "source": [
    "from datetime import datetime\n",
    "\n",
    "buggy_elements_df = pd.DataFrame()\n",
    "\n",
    "length = buggy_elements.shape[0]\n",
    "\n",
    "\n",
    "for i in range(10000):\n",
    "    sha1 = (buggy_elements['Hash'].iloc[i])\n",
    "    bug_id = (buggy_elements['Bug ID'].iloc[i])\n",
    "    bug_type = (buggy_elements['Bug Type'].iloc[i])\n",
    "    bug_repo = (buggy_elements['Repo'].iloc[i])\n",
    "    bug_file = (buggy_elements['File'].iloc[i])\n",
    "    bug_line = (buggy_elements['Line'].iloc[i])\n",
    "    bug_component = (buggy_elements['Component'].iloc[i])\n",
    "    split_repo = (buggy_elements['File'].iloc[i]).rsplit('/', 1)\n",
    "    #print(split_repo[0])\n",
    "    #print(split_repo[1])\n",
    "    #print(bug_repo)\n",
    "\n",
    "\n",
    "### Fazer checkout para a versão pretendida\n",
    "    try:\n",
    "        process = subprocess.Popen(['git','checkout',sha1],cwd = r'C:\\Users\\migue\\OneDrive\\Ambiente de Trabalho\\teste' + '\\\\' + bug_repo, stdout=subprocess.PIPE, stderr=subprocess.PIPE, universal_newlines=True, shell = True)\n",
    "        output, errors = process.communicate()\n",
    "\n",
    "\n",
    "    ### Fazer git log para a linha \n",
    "\n",
    "        process2 = subprocess.Popen(['git','log','--date=unix','-L', str(bug_line) + ',' + str(bug_line)+ ':' +str(split_repo[1])],cwd = r'C:\\Users\\migue\\OneDrive\\Ambiente de Trabalho\\teste' + '\\\\' + str(bug_repo) + '\\\\' + str(split_repo[0]), stdout=subprocess.PIPE, stderr=subprocess.PIPE, universal_newlines=True, shell = True)\n",
    "        output2, errors = process2.communicate()\n",
    "        #print(output2.splitlines())\n",
    "\n",
    "        commits = []\n",
    "        authors = []\n",
    "        dates = []\n",
    "\n",
    "        for linha in output2.splitlines():\n",
    "\n",
    "\n",
    "\n",
    "            if linha.startswith('commit'):\n",
    "\n",
    "                commit = linha.split(\"commit\")[1].strip()\n",
    "                print(commit)\n",
    "                commits.append(commit)\n",
    "\n",
    "            if linha.startswith('Author:'):\n",
    "\n",
    "                author = linha.split(\"Author:\")[1].strip().split('<',1)[0]\n",
    "                print(author)\n",
    "                authors.append(author)\n",
    "\n",
    "            if linha.startswith('Date:'):\n",
    "                \n",
    "                date = linha.split(\"Date:\")[1].strip()\n",
    "                dates.append(date)\n",
    "\n",
    "        row  = {'Bug ID': bug_id,'Hash': sha1,'Bug Type': bug_type ,'Repo' : bug_repo ,'File': bug_file, 'Line': bug_line, 'Components': bug_component, 'Commits' : commits, 'Authors' : authors, 'Dates' : dates}\n",
    "        buggy_elements_df = buggy_elements_df.append(row, ignore_index = True)\n",
    "        \n",
    "        print ('i')\n",
    "        print(i)\n",
    "        \n",
    "    except:\n",
    "        \n",
    "        print(' An error occured')\n",
    "\n",
    "        \n",
    "\n",
    "\n",
    "\n"
   ]
  },
  {
   "cell_type": "code",
   "execution_count": null,
   "id": "91fc215e",
   "metadata": {},
   "outputs": [],
   "source": [
    "buggy_elements_df.shape"
   ]
  },
  {
   "cell_type": "code",
   "execution_count": null,
   "id": "8edb71db",
   "metadata": {
    "scrolled": false
   },
   "outputs": [],
   "source": [
    "buggy_elements_df.head()"
   ]
  },
  {
   "cell_type": "markdown",
   "id": "12335c2d",
   "metadata": {},
   "source": [
    "## Data processing"
   ]
  },
  {
   "cell_type": "code",
   "execution_count": null,
   "id": "067322b1",
   "metadata": {},
   "outputs": [],
   "source": [
    "buggy_elements_df['Lifetime']= \" \""
   ]
  },
  {
   "cell_type": "code",
   "execution_count": null,
   "id": "44f0e1d7",
   "metadata": {},
   "outputs": [],
   "source": [
    "buggy_elements_df['Number of Authors']= \" \""
   ]
  },
  {
   "cell_type": "code",
   "execution_count": null,
   "id": "c9ed6a4b",
   "metadata": {},
   "outputs": [],
   "source": [
    "buggy_elements_df['Number of times modified'] = \" \""
   ]
  },
  {
   "cell_type": "code",
   "execution_count": null,
   "id": "f4bbd9a9",
   "metadata": {},
   "outputs": [],
   "source": [
    "from datetime import datetime\n",
    "from datetime import timedelta\n",
    "\n",
    "length = buggy_elements_df.shape[0]\n",
    "\n",
    "for i in range(10000):\n",
    "    \n",
    "    print('i')\n",
    "    print(i)\n",
    "    \n",
    "    try:\n",
    "        commit_hash = (buggy_elements_df.iloc[i]['Hash'])\n",
    "\n",
    "        counter = 0\n",
    "\n",
    "        for j in buggy_elements_df.iloc[i]['Commits']:\n",
    "\n",
    "            if j == commit_hash:\n",
    "\n",
    "                break\n",
    "\n",
    "            else:\n",
    "\n",
    "                counter = counter + 1\n",
    "\n",
    "        second_counter = 0\n",
    "\n",
    "        for date in buggy_elements_df.iloc[i]['Dates']:\n",
    "\n",
    "            if second_counter == counter:\n",
    "\n",
    "                commit_recent_date = date\n",
    "\n",
    "                break\n",
    "\n",
    "            else:\n",
    "\n",
    "                second_counter = second_counter + 1\n",
    "\n",
    "        print(commit_recent_date)\n",
    "        \n",
    "        #recent_date = datetime.fromtimestamp(int(commit_recent_date))\n",
    "        \n",
    "        #print(recent_date)\n",
    "\n",
    "        highest_diff = 0\n",
    "        \n",
    "        highest_diff2 = datetime.fromtimestamp(0)\n",
    "\n",
    "        for date in buggy_elements_df.iloc[i]['Dates']:\n",
    "\n",
    "            if int(commit_recent_date) - int(date) > highest_diff :\n",
    "\n",
    "                highest_diff = int(commit_recent_date) - int(date)\n",
    "\n",
    "            else:\n",
    "\n",
    "                continue\n",
    "\n",
    "        highest_diff = datetime.fromtimestamp(highest_diff) - highest_diff2\n",
    "        (buggy_elements_df.loc[i,['Lifetime']]) =  str(highest_diff)\n",
    "        (buggy_elements_df.loc[i,['Number of Authors']]) =  str(len(np.unique(buggy_elements_df.iloc[i]['Authors'])))\n",
    "        (buggy_elements_df.loc[i,['Number of times modified']]) =  str(len(buggy_elements_df.iloc[i]['Commits']))\n",
    "        \n",
    "    except IndexError:\n",
    "        \n",
    "        print(\"single positional indexer is out-of-bounds\")\n",
    "\n",
    "        \n",
    "        \n",
    "            \n",
    "    print(highest_diff)        \n",
    "    print(commit_hash)\n",
    "    print(counter)"
   ]
  },
  {
   "cell_type": "code",
   "execution_count": null,
   "id": "b3dc9733",
   "metadata": {
    "scrolled": true
   },
   "outputs": [],
   "source": [
    "buggy_elements_df.head()"
   ]
  },
  {
   "cell_type": "markdown",
   "id": "59b3d495",
   "metadata": {},
   "source": [
    "## Eliminar linhas em branco"
   ]
  },
  {
   "cell_type": "code",
   "execution_count": null,
   "id": "5df04412",
   "metadata": {},
   "outputs": [],
   "source": [
    "buggy_elements_filtered = buggy_elements_df[(buggy_elements_df['Lifetime'] != '0:00:00')]"
   ]
  },
  {
   "cell_type": "code",
   "execution_count": null,
   "id": "6bd30e5e",
   "metadata": {},
   "outputs": [],
   "source": [
    "buggy_elements_filtered.head()"
   ]
  },
  {
   "cell_type": "code",
   "execution_count": null,
   "id": "76692487",
   "metadata": {},
   "outputs": [],
   "source": [
    "buggy_elements_filtered.shape"
   ]
  },
  {
   "cell_type": "markdown",
   "id": "2ea2a2a9",
   "metadata": {},
   "source": [
    "## Escrita dos dados para um CSV "
   ]
  },
  {
   "cell_type": "code",
   "execution_count": null,
   "id": "ed473ef2",
   "metadata": {},
   "outputs": [],
   "source": [
    "buggy_elements_filtered.to_csv('..\\data\\RQ2_Data.csv', index=False, encoding=\"utf8\" )\n"
   ]
  },
  {
   "cell_type": "code",
   "execution_count": null,
   "id": "d353ab62",
   "metadata": {
    "scrolled": true
   },
   "outputs": [],
   "source": []
  }
 ],
 "metadata": {
  "kernelspec": {
   "display_name": "Python 3",
   "language": "python",
   "name": "python3"
  },
  "language_info": {
   "codemirror_mode": {
    "name": "ipython",
    "version": 3
   },
   "file_extension": ".py",
   "mimetype": "text/x-python",
   "name": "python",
   "nbconvert_exporter": "python",
   "pygments_lexer": "ipython3",
   "version": "3.8.8"
  }
 },
 "nbformat": 4,
 "nbformat_minor": 5
}
