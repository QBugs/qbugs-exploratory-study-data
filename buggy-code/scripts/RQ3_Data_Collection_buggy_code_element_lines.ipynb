{
 "cells": [
  {
   "cell_type": "code",
   "execution_count": null,
   "id": "0481d559",
   "metadata": {},
   "outputs": [],
   "source": [
    "import subprocess\n",
    "from subprocess import Popen\n",
    "import pandas as pd\n",
    "import numpy as np\n",
    "import glob\n",
    "import sys\n",
    "from pathlib import Path"
   ]
  },
  {
   "cell_type": "code",
   "execution_count": null,
   "id": "a17b5362",
   "metadata": {},
   "outputs": [],
   "source": [
    "bugs = pd.read_csv('../data/generated/buggy-code-data.csv', sep=',')"
   ]
  },
  {
   "cell_type": "code",
   "execution_count": null,
   "id": "6a2a8284",
   "metadata": {},
   "outputs": [],
   "source": [
    "bugs.head()"
   ]
  },
  {
   "cell_type": "code",
   "execution_count": null,
   "id": "7c1698a1",
   "metadata": {},
   "outputs": [],
   "source": [
    "bugs['Authors'] = ''\n",
    "bugs['Number of Revisions'] = ''\n",
    "bugs['Dates'] = ''"
   ]
  },
  {
   "cell_type": "code",
   "execution_count": null,
   "id": "11432657",
   "metadata": {},
   "outputs": [],
   "source": [
    "length = bugs.shape[0]\n",
    "j = 0\n",
    "\n",
    "for i in range(length):\n",
    "    \n",
    "    sha1 = (bugs['fix_commit_hash'].iloc[i])\n",
    "    bug_id = (bugs['bug_id'].iloc[i])\n",
    "    bug_type = bugs['bug_type'].iloc[i]\n",
    "    sub_repo_url = bugs['project_full_name'].iloc[i].split('/')[1]\n",
    "    bug_line = bugs['buggy_line_number'].iloc[i]\n",
    "    filename = bugs['buggy_file_path'].iloc[i].split('/')[-1]\n",
    "    path = bugs['buggy_file_path'].iloc[i].rsplit('/', 1)[0]\n",
    "    \n",
    "    print(filename)\n",
    "    print(path)\n",
    "\n",
    "    process = subprocess.Popen(['git','checkout',sha1],cwd = r'C:\\Users\\migue\\OneDrive\\Ambiente de Trabalho\\teste' + '\\\\' + str(sub_repo_url), stdout=subprocess.PIPE, stderr=subprocess.PIPE, universal_newlines=True, shell = True)\n",
    "    output, errors = process.communicate()\n",
    "    \n",
    "    try:\n",
    "        process2 = subprocess.Popen(['git','log','--date=unix','-L', str(bug_line) + ',' + str(bug_line) + ':' + str(filename)],cwd = r'C:\\Users\\migue\\OneDrive\\Ambiente de Trabalho\\teste' + '\\\\' + str(sub_repo_url) + '\\\\' + path, stdout=subprocess.PIPE, stderr=subprocess.PIPE, universal_newlines=True, shell = True)\n",
    "        output2, errors = process2.communicate()\n",
    "\n",
    "        commits = []\n",
    "        authors = []\n",
    "        dates = []\n",
    "\n",
    "        for linha in output2.splitlines():\n",
    "\n",
    "            #print(linha)\n",
    "\n",
    "            if linha.startswith('commit'):\n",
    "\n",
    "                commit = linha.split(\"commit\")[1].strip()\n",
    "                #print(commit)\n",
    "                commits.append(commit)\n",
    "\n",
    "            if linha.startswith('Author:'):\n",
    "\n",
    "                author = linha.split(\"Author:\")[1].strip().split('<',1)[0]\n",
    "                #print(author)\n",
    "                authors.append(author)\n",
    "\n",
    "            if linha.startswith('Date:'):\n",
    "\n",
    "                date = linha.split(\"Date:\")[1].strip()\n",
    "                dates.append(date)\n",
    "\n",
    "        bugs.at[i,'Authors'] = authors\n",
    "        bugs.at[i,'Number of Revisions'] = commits\n",
    "        bugs.at[i,'Dates'] = dates\n",
    "\n",
    "    except:\n",
    "        \n",
    "        print('Invalid Directory')"
   ]
  },
  {
   "cell_type": "code",
   "execution_count": null,
   "id": "44d145bd",
   "metadata": {},
   "outputs": [],
   "source": [
    "bugs['Fix commits'] = ''"
   ]
  },
  {
   "cell_type": "code",
   "execution_count": null,
   "id": "e967d2e0",
   "metadata": {},
   "outputs": [],
   "source": [
    "import re\n",
    "length = bugs.shape[0]\n",
    "\n",
    "for i in range(length):\n",
    "    \n",
    "    commits = (bugs.loc[i,['Number of Revisions']])\n",
    "    fix_commits = []\n",
    "    for commit in commits:\n",
    "        \n",
    "        if not commit:\n",
    "            print(\"List is empty\")\n",
    "            \n",
    "        else:\n",
    "            \n",
    "            ## search for message\n",
    "            \n",
    "            process = subprocess.Popen(['git','log','--format=%B','-n','1',str(commit[0])],cwd = r'C:\\Users\\migue\\OneDrive\\Ambiente de Trabalho\\teste' + '\\\\' + str(sub_repo_url), stdout=subprocess.PIPE, stderr=subprocess.PIPE, universal_newlines=True, shell = True)\n",
    "            output, errors = process.communicate()\n",
    "            \n",
    "            for output_line in output.splitlines():\n",
    "                \n",
    "                pattern = re.search(\"fix(e[ds])?|bugs?|defects?|patch|corrigidos?|close([sd])?|resolve([sd])?\", output_line, re.I)\n",
    "                \n",
    "                if pattern is not None:\n",
    "                \n",
    "                    #print(pattern)\n",
    "                    fix_commits.append(str(commit[0]))\n",
    "                    break\n",
    "\n",
    "    bugs.at[i,'Fix commits'] = fix_commits\n",
    "                "
   ]
  },
  {
   "cell_type": "code",
   "execution_count": null,
   "id": "dfcf3f3a",
   "metadata": {},
   "outputs": [],
   "source": [
    "bugs['Bug Probability'] = ''"
   ]
  },
  {
   "cell_type": "code",
   "execution_count": null,
   "id": "a65a64e6",
   "metadata": {},
   "outputs": [],
   "source": [
    "import numpy as np\n",
    "import math\n",
    "\n",
    "def date_normalized(x,y):\n",
    "    \n",
    "    dates = []\n",
    "    for commit in x:\n",
    "        \n",
    "        process = subprocess.Popen(['git','show','--no-patch','--no-notes','--pretty=' + r'%cd','--format=' + r\"%at\",commit],cwd = r'C:\\Users\\migue\\OneDrive\\Ambiente de Trabalho\\teste' + '\\\\' + y, stdout=subprocess.PIPE, stderr=subprocess.PIPE, universal_newlines=True, shell = True)\n",
    "        output, errors = process.communicate()\n",
    "        \n",
    "        print(str(output.splitlines()[0].rstrip()))\n",
    "        dates.append(int(output.splitlines()[0].rstrip()))\n",
    "       \n",
    "        \n",
    "    return dates\n",
    "\n",
    "\n",
    "\n",
    "def NormalizeData(data):\n",
    "    \n",
    "    data =  np.array(data)\n",
    "    \n",
    "    if len(data) == 1:\n",
    "        \n",
    "        return [1]\n",
    "    \n",
    "    else:\n",
    "        \n",
    "        return (data - np.min(data)) / (np.max(data) - np.min(data))\n",
    "    \n",
    "\n",
    "\n",
    "def TWRFunction(normal_data):\n",
    "    \n",
    "    twr = 0\n",
    "    for i in normal_data:\n",
    "        \n",
    "        twr = twr + 1/1 + math.e**(-12*i + 12)\n",
    "    \n",
    "    defect_probability = 1 -math.e**-twr\n",
    "    \n",
    "    return defect_probability\n",
    "        "
   ]
  },
  {
   "cell_type": "code",
   "execution_count": null,
   "id": "3e99602b",
   "metadata": {},
   "outputs": [],
   "source": [
    "length = bugs.shape[0]\n",
    "\n",
    "for i in range(length):\n",
    "    \n",
    "    #print(buggy_elements_df['Commits'].iloc[i])\n",
    "    #print(buggy_elements_df['Repo'].iloc[i])\n",
    "    \n",
    "    if not bugs['Fix commits'].iloc[i]:\n",
    "        \n",
    "        try:\n",
    "            bugs.at[i,'Bug Probability'] = 0.3 * TWRFunction(NormalizeData(date_normalized(bugs['Number of Revisions'].iloc[i],bugs['project_full_name'].iloc[i].split('/')[1]))) \n",
    "        \n",
    "        except ValueError:\n",
    "             print('Commit List is Empty')\n",
    "            \n",
    "    else:    \n",
    "    \n",
    "        try:\n",
    "            bugs.at[i,'Bug Probability'] = 0.7 * TWRFunction(NormalizeData(date_normalized(bugs['Fix commits'].iloc[i],bugs['project_full_name'].iloc[i].split('/')[1]))) + 0.3 * TWRFunction(NormalizeData(date_normalized(bugs['Number of Revisions'].iloc[i],bugs['project_full_name'].iloc[i].split('/')[1])))\n",
    "\n",
    "        except ValueError:\n",
    "            print('Commit List is Empty')"
   ]
  },
  {
   "cell_type": "code",
   "execution_count": null,
   "id": "d8a1d859",
   "metadata": {},
   "outputs": [],
   "source": [
    "bugs['Bug Probability'].unique()"
   ]
  },
  {
   "cell_type": "code",
   "execution_count": null,
   "id": "546f6e9b",
   "metadata": {},
   "outputs": [],
   "source": [
    "#bugs.to_csv('..\\data\\RQ3_Data.csv', index=False, encoding=\"utf8\" )"
   ]
  },
  {
   "cell_type": "code",
   "execution_count": null,
   "id": "46692f86",
   "metadata": {},
   "outputs": [],
   "source": []
  }
 ],
 "metadata": {
  "kernelspec": {
   "display_name": "Python 3",
   "language": "python",
   "name": "python3"
  },
  "language_info": {
   "codemirror_mode": {
    "name": "ipython",
    "version": 3
   },
   "file_extension": ".py",
   "mimetype": "text/x-python",
   "name": "python",
   "nbconvert_exporter": "python",
   "pygments_lexer": "ipython3",
   "version": "3.8.8"
  }
 },
 "nbformat": 4,
 "nbformat_minor": 5
}
