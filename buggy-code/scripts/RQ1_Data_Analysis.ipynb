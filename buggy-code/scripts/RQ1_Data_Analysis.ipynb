{
 "cells": [
  {
   "cell_type": "code",
   "execution_count": null,
   "id": "0c0ff38a",
   "metadata": {},
   "outputs": [],
   "source": [
    "import matplotlib.pyplot as plt\n",
    "import pandas as pd\n",
    "import numpy as np\n",
    "import os\n",
    "import math"
   ]
  },
  {
   "cell_type": "code",
   "execution_count": null,
   "id": "cbfc96a1",
   "metadata": {},
   "outputs": [],
   "source": [
    "buggy_elements = pd.read_csv('../data/RQ1_Data_Processed.csv')"
   ]
  },
  {
   "cell_type": "code",
   "execution_count": null,
   "id": "78d0c299",
   "metadata": {},
   "outputs": [],
   "source": [
    "bugs = pd.read_csv('../data/generated/buggy-code-data.csv', sep=',')"
   ]
  },
  {
   "cell_type": "code",
   "execution_count": null,
   "id": "aad716b1",
   "metadata": {},
   "outputs": [],
   "source": [
    "bugs.head()"
   ]
  },
  {
   "cell_type": "code",
   "execution_count": null,
   "id": "43750382",
   "metadata": {},
   "outputs": [],
   "source": [
    "buggy_elements.head()"
   ]
  },
  {
   "cell_type": "markdown",
   "id": "3b4ec2ed",
   "metadata": {},
   "source": [
    "## Total amount of buggy code elements spread through the quantum projects"
   ]
  },
  {
   "cell_type": "code",
   "execution_count": null,
   "id": "a6630f2c",
   "metadata": {},
   "outputs": [],
   "source": [
    "code_elements = ['<class \\'_ast.Return\\'>','<class \\'_ast.Call\\'>','<class \\'_ast.Delete\\'>','<class \\'_ast.Assign\\'>','<class \\'_ast.AugAssign\\'>','<class \\'_ast.AnnAssign\\'>','<class \\'_ast.For\\'>','<class \\'_ast.AsyncFor\\'>','<class \\'_ast.While\\'>','<class \\'_ast.If\\'>','<class \\'_ast.With\\'>','<class \\'_ast.AsyncWith\\'>','<class \\'_ast.Match\\'>','<class \\'_ast.Raise\\'>','<class \\'_ast.Try\\'>','<class \\'_ast.Assert\\'>','<class \\'_ast.Import\\'>','<class \\'_ast.ImportFrom\\'>','<class \\'_ast.Global\\'>','<class \\'_ast.NonLocal\\'>','<class \\'_ast.Break\\'>','<class \\'_ast.Continue\\'>','<class \\'_ast.Pass\\'>','<class \\'_ast.BoolOp\\'>','<class \\'_ast.NamedExpr\\'>','<class \\'_ast.BinOp\\'>','<class \\'_ast.UnaryOp\\'>','<class \\'_ast.Lambda\\'>','<class \\'_ast.IfExp\\'>','<class \\'_ast.ListComp\\'>','<class \\'_ast.SetComp\\'>','<class \\'_ast.DictComp\\'>','<class \\'_ast.GeneratorExp\\'>','<class \\'_ast.Await\\'>','<class \\'_ast.Yield\\'>','<class \\'_ast.YieldFrom\\'>','<class \\'_ast.Compare\\'>','<class \\'_ast.Constant\\'>','<class \\'_ast.Tuple\\'>','<class \\'_ast.List\\'>','<class \\'_ast.Attribute\\'>' ]"
   ]
  },
  {
   "cell_type": "code",
   "execution_count": null,
   "id": "ae946576",
   "metadata": {},
   "outputs": [],
   "source": [
    "code_element_count = []\n",
    "\n",
    "for code_element in code_elements:\n",
    "    counter = 0\n",
    "    for values in buggy_elements['Values']:\n",
    "       \n",
    "        if code_element in values:\n",
    "            counter = counter +1\n",
    "            \n",
    "    code_element_count.append(counter)"
   ]
  },
  {
   "cell_type": "code",
   "execution_count": null,
   "id": "6ecfc800",
   "metadata": {},
   "outputs": [],
   "source": [
    "print(code_element_count)"
   ]
  },
  {
   "cell_type": "code",
   "execution_count": null,
   "id": "b114ac6e",
   "metadata": {},
   "outputs": [],
   "source": [
    "code_element_description = ['Return','Function call','Del keyword','Assignment','Augmented Assignment','Annotated assignment','For Loop','Async For Loop','While Loop','If statement','With keyword','Async With keyword','Match keyword','Raise Exception','Try exception','Assertion','Import Keyword','ImportFrom Keyword','Global Variable','Non Local Variable','Break','Continue','Pass','Boolean operator','Named expression','Binary operator','Unitary Operator','Lambda','Conditional Expression','List comprehension','Set Comprehension','Dictionary Comprehension','Object Generator','Await expression','Yield expression','YieldFrom expression','Comparison Expression','Constant','Tuple','List','Attribute']"
   ]
  },
  {
   "cell_type": "code",
   "execution_count": null,
   "id": "248993e4",
   "metadata": {},
   "outputs": [],
   "source": [
    "print(len(code_element_description))\n",
    "print(len(code_element_count))"
   ]
  },
  {
   "cell_type": "code",
   "execution_count": null,
   "id": "1ec2aeeb",
   "metadata": {
    "scrolled": true
   },
   "outputs": [],
   "source": [
    "# Figure Size\n",
    "fig, ax = plt.subplots(figsize =(16, 9))\n",
    " \n",
    "# Horizontal Bar Plot\n",
    "ax.barh(code_element_description, code_element_count, color = 'black')\n",
    " \n",
    "# Remove axes splines\n",
    "for s in ['top', 'bottom', 'left', 'right']:\n",
    "    ax.spines[s].set_visible(False)\n",
    " \n",
    "# Remove x, y Ticks\n",
    "ax.xaxis.set_ticks_position('none')\n",
    "ax.yaxis.set_ticks_position('none')\n",
    " \n",
    "# Add padding between axes and labels\n",
    "ax.xaxis.set_tick_params(pad = 5)\n",
    "ax.yaxis.set_tick_params(pad = 10)\n",
    " \n",
    "# Add x, y gridlines\n",
    "ax.grid(b = True, color ='grey',\n",
    "        linestyle ='-.', linewidth = 0.5,\n",
    "        alpha = 0.2)\n",
    " \n",
    "# Show top values\n",
    "ax.invert_yaxis()\n",
    " \n",
    "# Add annotation to bars\n",
    "for i in ax.patches:\n",
    "    plt.text(i.get_width()+0.2, i.get_y()+0.5,\n",
    "             str(round((i.get_width()), 2)),\n",
    "             fontsize = 10, fontweight ='bold',\n",
    "             color ='grey')\n",
    " \n",
    "# Add Plot Title\n",
    "#ax.set_title('Buggy Code Element Distribution ',loc ='left', )\n",
    "# Show Plot\n",
    "plt.show()"
   ]
  },
  {
   "cell_type": "code",
   "execution_count": null,
   "id": "68f99cea",
   "metadata": {},
   "outputs": [],
   "source": [
    "fig.savefig(\"RQ1_Code_Element_Without_Outlier_Distribution.pdf\", bbox_inches='tight',)"
   ]
  },
  {
   "cell_type": "markdown",
   "id": "c61a68ea",
   "metadata": {},
   "source": [
    "## Average buggy code element distribution"
   ]
  },
  {
   "cell_type": "code",
   "execution_count": null,
   "id": "815142de",
   "metadata": {},
   "outputs": [],
   "source": [
    "average_code_element_count = []\n",
    "\n",
    "for counter in code_element_count:\n",
    "    average_code_element_count.append(round(counter/14))\n",
    "    \n",
    "print(len(average_code_element_count))\n",
    "    "
   ]
  },
  {
   "cell_type": "code",
   "execution_count": null,
   "id": "ff097011",
   "metadata": {},
   "outputs": [],
   "source": [
    "# Figure Size\n",
    "fig, ax = plt.subplots(figsize =(16, 9))\n",
    " \n",
    "# Horizontal Bar Plot\n",
    "ax.barh(code_element_description,average_code_element_count, color = 'gray')\n",
    " \n",
    "# Remove axes splines\n",
    "for s in ['top', 'bottom', 'left', 'right']:\n",
    "    ax.spines[s].set_visible(False)\n",
    " \n",
    "# Remove x, y Ticks\n",
    "ax.xaxis.set_ticks_position('none')\n",
    "ax.yaxis.set_ticks_position('none')\n",
    " \n",
    "# Add padding between axes and labels\n",
    "ax.xaxis.set_tick_params(pad = 5)\n",
    "ax.yaxis.set_tick_params(pad = 10)\n",
    " \n",
    "# Add x, y gridlines\n",
    "ax.grid(b = True, color ='grey',\n",
    "        linestyle ='-.', linewidth = 0.5,\n",
    "        alpha = 0.2)\n",
    " \n",
    "# Show top values\n",
    "ax.invert_yaxis()\n",
    " \n",
    "# Add annotation to bars\n",
    "for i in ax.patches:\n",
    "    plt.text(i.get_width()+0.2, i.get_y()+0.5,\n",
    "             str(round((i.get_width()), 2)),\n",
    "             fontsize = 10, fontweight ='bold',\n",
    "             color ='grey')\n",
    " \n",
    "# Add Plot Title\n",
    "#ax.set_title('Average Code Element Distribution',loc ='left', )\n",
    "# Show Plot\n",
    "plt.show()"
   ]
  },
  {
   "cell_type": "code",
   "execution_count": null,
   "id": "10ca687f",
   "metadata": {},
   "outputs": [],
   "source": [
    "fig.savefig(\"RQ1_Average_Code_Element_Without_Outlier_Distribution.pdf\", bbox_inches='tight',)"
   ]
  },
  {
   "cell_type": "markdown",
   "id": "5e50e3d4",
   "metadata": {},
   "source": [
    "## Total amount of buggy code elements in quantum bugs"
   ]
  },
  {
   "cell_type": "code",
   "execution_count": null,
   "id": "6e3ff038",
   "metadata": {},
   "outputs": [],
   "source": [
    "quantum_bug_dataframe = buggy_elements.loc[((buggy_elements['Bug Type'] == 'Quantum'))]"
   ]
  },
  {
   "cell_type": "code",
   "execution_count": null,
   "id": "ab9af378",
   "metadata": {},
   "outputs": [],
   "source": [
    "code_element_count_quantum = []\n",
    "\n",
    "for code_element in code_elements:\n",
    "    counter = 0\n",
    "    for values in quantum_bug_dataframe['Values']:\n",
    "       \n",
    "        if code_element in values:\n",
    "            counter = counter +1\n",
    "            \n",
    "    code_element_count_quantum.append(counter)"
   ]
  },
  {
   "cell_type": "code",
   "execution_count": null,
   "id": "da4b78a8",
   "metadata": {},
   "outputs": [],
   "source": [
    "# Figure Size\n",
    "fig, ax = plt.subplots(figsize =(16, 9))\n",
    " \n",
    "# Horizontal Bar Plot\n",
    "ax.barh(code_element_description, code_element_count_quantum, color = 'gray')\n",
    " \n",
    "# Remove axes splines\n",
    "for s in ['top', 'bottom', 'left', 'right']:\n",
    "    ax.spines[s].set_visible(False)\n",
    " \n",
    "# Remove x, y Ticks\n",
    "ax.xaxis.set_ticks_position('none')\n",
    "ax.yaxis.set_ticks_position('none')\n",
    " \n",
    "# Add padding between axes and labels\n",
    "ax.xaxis.set_tick_params(pad = 5)\n",
    "ax.yaxis.set_tick_params(pad = 10)\n",
    " \n",
    "# Add x, y gridlines\n",
    "ax.grid(b = True, color ='grey',\n",
    "        linestyle ='-.', linewidth = 0.5,\n",
    "        alpha = 0.2)\n",
    " \n",
    "# Show top values\n",
    "ax.invert_yaxis()\n",
    " \n",
    "# Add annotation to bars\n",
    "for i in ax.patches:\n",
    "    plt.text(i.get_width()+0.2, i.get_y()+0.5,\n",
    "             str(round((i.get_width()), 2)),\n",
    "             fontsize = 10, fontweight ='bold',\n",
    "             color ='grey')\n",
    " \n",
    "# Add Plot Title\n",
    "#ax.set_title('Buggy Code Element Distribution Over Quantum bugs ',loc ='left', )\n",
    "# Show Plot\n",
    "plt.show()"
   ]
  },
  {
   "cell_type": "code",
   "execution_count": null,
   "id": "b9b3d562",
   "metadata": {},
   "outputs": [],
   "source": [
    "fig.savefig(\"RQ1_Quantum_Code_Element_Without_Outlier_Distribution.pdf\", bbox_inches='tight',)"
   ]
  },
  {
   "cell_type": "markdown",
   "id": "454076e0",
   "metadata": {},
   "source": [
    "## Total amount of buggy code elements in classical bugs"
   ]
  },
  {
   "cell_type": "code",
   "execution_count": null,
   "id": "b6f70e92",
   "metadata": {},
   "outputs": [],
   "source": [
    "classical_bug_dataframe = buggy_elements.loc[((buggy_elements['Bug Type'] == 'Classical'))]"
   ]
  },
  {
   "cell_type": "code",
   "execution_count": null,
   "id": "8ea07aca",
   "metadata": {},
   "outputs": [],
   "source": [
    "code_element_count_classical = []\n",
    "\n",
    "for code_element in code_elements:\n",
    "    counter = 0\n",
    "    for values in classical_bug_dataframe['Values']:\n",
    "       \n",
    "        if code_element in values:\n",
    "            counter = counter +1\n",
    "            \n",
    "    code_element_count_classical.append(counter)"
   ]
  },
  {
   "cell_type": "code",
   "execution_count": null,
   "id": "cc02178a",
   "metadata": {},
   "outputs": [],
   "source": [
    "# Figure Size\n",
    "fig, ax = plt.subplots(figsize =(16, 9))\n",
    " \n",
    "# Horizontal Bar Plot\n",
    "ax.barh(code_element_description, code_element_count_classical, color = 'lightgray')\n",
    " \n",
    "# Remove axes splines\n",
    "for s in ['top', 'bottom', 'left', 'right']:\n",
    "    ax.spines[s].set_visible(False)\n",
    " \n",
    "# Remove x, y Ticks\n",
    "ax.xaxis.set_ticks_position('none')\n",
    "ax.yaxis.set_ticks_position('none')\n",
    " \n",
    "# Add padding between axes and labels\n",
    "ax.xaxis.set_tick_params(pad = 5)\n",
    "ax.yaxis.set_tick_params(pad = 10)\n",
    " \n",
    "# Add x, y gridlines\n",
    "ax.grid(b = True, color ='grey',\n",
    "        linestyle ='-.', linewidth = 0.5,\n",
    "        alpha = 0.2)\n",
    " \n",
    "# Show top values\n",
    "ax.invert_yaxis()\n",
    " \n",
    "# Add annotation to bars\n",
    "for i in ax.patches:\n",
    "    plt.text(i.get_width()+0.2, i.get_y()+0.5,\n",
    "             str(round((i.get_width()), 2)),\n",
    "             fontsize = 10, fontweight ='bold',\n",
    "             color ='grey')\n",
    " \n",
    "# Add Plot Title\n",
    "#ax.set_title('Buggy Code Element Distribution Over Classical bugs ',loc ='left', )\n",
    "# Show Plot\n",
    "plt.show()"
   ]
  },
  {
   "cell_type": "code",
   "execution_count": null,
   "id": "107f70d3",
   "metadata": {},
   "outputs": [],
   "source": [
    "fig.savefig(\"RQ1_Classic_Code_Element_Without_Outlier_Distribution.pdf\", bbox_inches='tight',)"
   ]
  },
  {
   "cell_type": "markdown",
   "id": "e5fda81e",
   "metadata": {},
   "source": [
    "Answer: Unlike the quantum bugs, classical bugs hold way less buggy code elements, even though these quantum projects have more classical bugs than quantum bugs. That being said, the most buggy code elements still remain the same, i.e ( function calls, assigns, importFrom, and if statements). However, it's in classical bugs that we have the highest distribution of ' for' statement assignments."
   ]
  },
  {
   "cell_type": "markdown",
   "id": "cc1af201",
   "metadata": {},
   "source": [
    "## Buggy code elements per project "
   ]
  },
  {
   "cell_type": "code",
   "execution_count": null,
   "id": "44b54303",
   "metadata": {},
   "outputs": [],
   "source": [
    "def buggy_code_element_project(project):\n",
    "    project_bug_dataframe = buggy_elements.loc[((buggy_elements['Repo'] == project))]\n",
    "                                                \n",
    "    return project_bug_dataframe\n",
    "    "
   ]
  },
  {
   "cell_type": "code",
   "execution_count": null,
   "id": "cbeaa9b3",
   "metadata": {},
   "outputs": [],
   "source": [
    "def BugDistributionPerRepo(project_name,values):\n",
    "        # Figure Size\n",
    "    fig, ax = plt.subplots(figsize =(16, 9))\n",
    "\n",
    "    # Horizontal Bar Plot\n",
    "    ax.barh(code_element_description, values, color = 'gray')\n",
    "\n",
    "    # Remove axes splines\n",
    "    for s in ['top', 'bottom', 'left', 'right']:\n",
    "        ax.spines[s].set_visible(False)\n",
    "\n",
    "    # Remove x, y Ticks\n",
    "    ax.xaxis.set_ticks_position('none')\n",
    "    ax.yaxis.set_ticks_position('none')\n",
    "\n",
    "    # Add padding between axes and labels\n",
    "    ax.xaxis.set_tick_params(pad = 5)\n",
    "    ax.yaxis.set_tick_params(pad = 10)\n",
    "\n",
    "    # Add x, y gridlines\n",
    "    ax.grid(b = True, color ='grey',\n",
    "            linestyle ='-.', linewidth = 0.5,\n",
    "            alpha = 0.2)\n",
    "\n",
    "    # Show top values\n",
    "    ax.invert_yaxis()\n",
    "\n",
    "    # Add annotation to bars\n",
    "    for i in ax.patches:\n",
    "        plt.text(i.get_width()+0.2, i.get_y()+0.5,\n",
    "                 str(round((i.get_width()), 2)),\n",
    "                 fontsize = 10, fontweight ='bold',\n",
    "                 color ='grey')\n",
    "\n",
    "    # Add Plot Title\n",
    "    #ax.set_title('Threshold distribution per project - ' + project_name,loc ='left', )\n",
    "    # Show Plot\n",
    "    plt.show()\n",
    "    \n",
    "    fig.savefig(\"RQ1_\" + project_name + \"_Without_Outlier_Code_Element_Distribution.pdf\", bbox_inches='tight',)\n",
    "    "
   ]
  },
  {
   "cell_type": "code",
   "execution_count": null,
   "id": "ffd4d60f",
   "metadata": {},
   "outputs": [],
   "source": [
    "uniqueRepo = buggy_elements['Repo'].unique()\n",
    "print(uniqueRepo)"
   ]
  },
  {
   "cell_type": "code",
   "execution_count": null,
   "id": "90fc38ea",
   "metadata": {},
   "outputs": [],
   "source": [
    "for repo in uniqueRepo:\n",
    "    \n",
    "    code_element_count_repo = []\n",
    "\n",
    "    for code_element in code_elements:\n",
    "        counter = 0\n",
    "        repo_df = buggy_code_element_project(repo)\n",
    "        for values in repo_df['Values']:\n",
    "\n",
    "            if code_element in values:\n",
    "                counter = counter +1\n",
    "\n",
    "        code_element_count_repo.append(counter)\n",
    "        \n",
    "    BugDistributionPerRepo(repo,code_element_count_repo)\n",
    "\n",
    "        \n",
    "    \n",
    "    \n",
    "    \n",
    "    "
   ]
  },
  {
   "cell_type": "markdown",
   "id": "0f5a4d84",
   "metadata": {},
   "source": [
    "## Box Plot"
   ]
  },
  {
   "cell_type": "code",
   "execution_count": null,
   "id": "a91d1331",
   "metadata": {},
   "outputs": [],
   "source": [
    "buggy_elements['Number of Changes']= \" \""
   ]
  },
  {
   "cell_type": "code",
   "execution_count": null,
   "id": "63ce8d3d",
   "metadata": {},
   "outputs": [],
   "source": [
    "\n",
    "buggy_elements['Component'] = buggy_elements['Component'].astype('string')"
   ]
  },
  {
   "cell_type": "code",
   "execution_count": null,
   "id": "5420886f",
   "metadata": {},
   "outputs": [],
   "source": [
    "length = buggy_elements.shape[0]\n",
    "\n",
    "counter = 0\n",
    "for i in range(length):\n",
    "\n",
    "\n",
    "    buggy_elements.loc[i,['Number of Changes']] = int(buggy_elements.loc[i,['Component']].str.count('#') + 0)\n",
    "    \n",
    "  \n",
    "\n",
    "    counter = counter +1\n",
    "    print(counter)\n",
    "    \n"
   ]
  },
  {
   "cell_type": "code",
   "execution_count": null,
   "id": "0141b526",
   "metadata": {},
   "outputs": [],
   "source": [
    "buggy_elements.head()"
   ]
  },
  {
   "cell_type": "code",
   "execution_count": null,
   "id": "77e35478",
   "metadata": {},
   "outputs": [],
   "source": [
    "bug_ids = buggy_elements['Bug ID'].unique()"
   ]
  },
  {
   "cell_type": "code",
   "execution_count": null,
   "id": "455ddfb1",
   "metadata": {},
   "outputs": [],
   "source": [
    "print(len(bug_ids))"
   ]
  },
  {
   "cell_type": "code",
   "execution_count": null,
   "id": "be8f86d5",
   "metadata": {},
   "outputs": [],
   "source": [
    "soma5 = 0\n",
    "\n",
    "for j in range(22):\n",
    "    \n",
    " \n",
    "    sub_df = buggy_elements.loc[((buggy_elements['Bug ID'] == bug_ids[soma5]) | (buggy_elements['Bug ID'] == bug_ids[soma5+1]) | (buggy_elements['Bug ID'] == bug_ids[soma5+2]) | (buggy_elements['Bug ID'] == bug_ids[soma5+3]) | (buggy_elements['Bug ID'] == bug_ids[soma5+4]))]\n",
    "    soma5 = soma5 +5\n",
    "    print(soma5)\n",
    "    bp = sub_df.boxplot(by ='Bug ID', column =['Number of Changes'], grid = False)\n",
    "    plt.suptitle('')\n",
    "    myFig = plt.figure(1, [20, 8]);\n",
    "    #myFig.savefig(\"Patch_Code_\" + str(j) + \"_Element_Distribution.pdf\")\n",
    "    plt.close(myFig)\n",
    "    sub_df = pd.DataFrame()"
   ]
  },
  {
   "cell_type": "code",
   "execution_count": null,
   "id": "180a37bc",
   "metadata": {},
   "outputs": [],
   "source": [
    "teste_df = buggy_elements.loc[((buggy_elements['Bug ID'] == bug_ids[110]))]"
   ]
  },
  {
   "cell_type": "code",
   "execution_count": null,
   "id": "838040ac",
   "metadata": {
    "scrolled": false
   },
   "outputs": [],
   "source": [
    "bp = teste_df.boxplot(by ='Bug ID', column =['Number of Changes'], grid = False, fontsize=12)\n",
    "\n",
    "plt.suptitle('')\n",
    "myFig = plt.figure(1, [20, 8]);\n",
    "myFig.savefig(\"Patch_Code_\" + str(22) + \"_Element_Distribution.pdf\")\n"
   ]
  },
  {
   "cell_type": "markdown",
   "id": "fc187240",
   "metadata": {},
   "source": [
    "## GroupBy Plot Bar"
   ]
  },
  {
   "cell_type": "code",
   "execution_count": null,
   "id": "12d28544",
   "metadata": {},
   "outputs": [],
   "source": [
    "groupBycomponent_df = bugs.groupby(['buggy_component','bug_id']).size().groupby(level=0).mean().reset_index().rename(columns={0: 'avg_buggy_component_distribution'})"
   ]
  },
  {
   "cell_type": "code",
   "execution_count": null,
   "id": "668fcf79",
   "metadata": {},
   "outputs": [],
   "source": [
    "groupBycomponent_df.head()"
   ]
  },
  {
   "cell_type": "code",
   "execution_count": null,
   "id": "e5c698cd",
   "metadata": {},
   "outputs": [],
   "source": [
    "groupBycomponent_df['avg_buggy_component_distribution'] = np.round(groupBycomponent_df['avg_buggy_component_distribution'], decimals = 1)\n",
    "print(groupBycomponent_df)"
   ]
  },
  {
   "cell_type": "code",
   "execution_count": null,
   "id": "28e8c137",
   "metadata": {},
   "outputs": [],
   "source": [
    "ax = groupBycomponent_df.plot.barh(x='buggy_component', y='avg_buggy_component_distribution', color = 'black', figsize = (25,25))\n",
    "\n",
    "for p in ax.patches:\n",
    "    \n",
    "    ax.annotate(str(p.get_width()), (p.get_x() + p.get_width(), p.get_y()), xytext=(2, 2), textcoords='offset points', size = 6, fontsize=9)\n",
    "\n",
    "ax.figure.savefig(\"RQ1_Average_Buggy_Code_Element_Distribution.pdf\", bbox_inches='tight',)"
   ]
  },
  {
   "cell_type": "markdown",
   "id": "fc717f54",
   "metadata": {},
   "source": [
    "## Boxplot Grouped By Component"
   ]
  },
  {
   "cell_type": "code",
   "execution_count": null,
   "id": "ecf90ead",
   "metadata": {},
   "outputs": [],
   "source": [
    "bycomponent_df = buggy_elements.loc[((buggy_elements['Bug ID'] == bug_ids[110]))]\n"
   ]
  },
  {
   "cell_type": "code",
   "execution_count": null,
   "id": "7920c53b",
   "metadata": {},
   "outputs": [],
   "source": [
    "grouped_multiple = bycomponent_df.groupby(['Bug ID,Component']).agg({'Number of Occurences': ['mean', 'min', 'max','sum','count']})"
   ]
  },
  {
   "cell_type": "code",
   "execution_count": null,
   "id": "43570d4b",
   "metadata": {},
   "outputs": [],
   "source": [
    "bp_by_component = bycomponent_df.boxplot(by ='Component', column =['Number of Occurences'], grid = False, fontsize=12)\n",
    "\n",
    "plt.suptitle('')\n",
    "myFig = plt.figure(1, [20, 8]);\n",
    "myFig.savefig(\"By_Component_Element_Distribution.pdf\")"
   ]
  }
 ],
 "metadata": {
  "kernelspec": {
   "display_name": "Python 3",
   "language": "python",
   "name": "python3"
  },
  "language_info": {
   "codemirror_mode": {
    "name": "ipython",
    "version": 3
   },
   "file_extension": ".py",
   "mimetype": "text/x-python",
   "name": "python",
   "nbconvert_exporter": "python",
   "pygments_lexer": "ipython3",
   "version": "3.8.8"
  }
 },
 "nbformat": 4,
 "nbformat_minor": 5
}
