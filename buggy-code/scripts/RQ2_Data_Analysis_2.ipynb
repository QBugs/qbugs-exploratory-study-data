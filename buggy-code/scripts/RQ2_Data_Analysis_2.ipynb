{
 "cells": [
  {
   "cell_type": "markdown",
   "id": "12335c2d",
   "metadata": {},
   "source": [
    "## Data processing and Analysis"
   ]
  },
  {
   "cell_type": "code",
   "execution_count": null,
   "id": "f0d74d65",
   "metadata": {},
   "outputs": [],
   "source": [
    "import matplotlib.pyplot as plt\n",
    "import pandas as pd\n",
    "import numpy as np\n",
    "import os\n",
    "import math"
   ]
  },
  {
   "cell_type": "code",
   "execution_count": null,
   "id": "6b5772a9",
   "metadata": {},
   "outputs": [],
   "source": [
    "buggy_elements_df = pd.read_csv('../data/generated/buggy-code-lifetime-data.csv', sep=',')"
   ]
  },
  {
   "cell_type": "code",
   "execution_count": null,
   "id": "c7ad4f8a",
   "metadata": {
    "scrolled": true
   },
   "outputs": [],
   "source": [
    "buggy_elements_df.head()"
   ]
  },
  {
   "cell_type": "code",
   "execution_count": null,
   "id": "efe3c37c",
   "metadata": {},
   "outputs": [],
   "source": [
    "#quantum = buggy_elements_df.loc[((buggy_elements_df['bug_type'] == 'Classical'))]\n",
    "\n",
    "#test_list = quantum['bug_id'].unique().tolist()\n",
    "\n",
    "\n",
    "#test_list = list(map(int, test_list))\n",
    "\n",
    "#print(len(test_list))"
   ]
  },
  {
   "cell_type": "markdown",
   "id": "a45dc47f",
   "metadata": {},
   "source": [
    "## Collecting lifetime grouping by bug_id,buggy_line and buggy_component"
   ]
  },
  {
   "cell_type": "code",
   "execution_count": null,
   "id": "97bd0e59",
   "metadata": {},
   "outputs": [],
   "source": [
    "groupby_author_commit_date_dict =  buggy_elements_df.groupby(['bug_id','buggy_line_number','buggy_component','bug_type','fix_commit_hash'])['author_commit_date'].apply(list).to_dict()"
   ]
  },
  {
   "cell_type": "code",
   "execution_count": null,
   "id": "bdb0ea16",
   "metadata": {
    "scrolled": true
   },
   "outputs": [],
   "source": [
    "print(groupby_author_commit_date_dict)"
   ]
  },
  {
   "cell_type": "code",
   "execution_count": null,
   "id": "a9bd5ca8",
   "metadata": {},
   "outputs": [],
   "source": [
    "for k, v in groupby_author_commit_date_dict.items():\n",
    "    \n",
    "    v.sort()\n",
    "    lifetime = v[-1] - v[-2]\n",
    "    groupby_author_commit_date_dict[k] = lifetime"
   ]
  },
  {
   "cell_type": "code",
   "execution_count": null,
   "id": "e86ce941",
   "metadata": {
    "scrolled": true
   },
   "outputs": [],
   "source": [
    "print(groupby_author_commit_date_dict)"
   ]
  },
  {
   "cell_type": "markdown",
   "id": "ed4bb97d",
   "metadata": {},
   "source": [
    "## Parsing dict to obtain lifetime per component into a dataframe"
   ]
  },
  {
   "cell_type": "code",
   "execution_count": null,
   "id": "45bdcd64",
   "metadata": {},
   "outputs": [],
   "source": [
    "data_items = groupby_author_commit_date_dict.items()\n",
    "data_list = list(data_items)\n",
    "\n",
    "lifetime_per_component_df = pd.DataFrame(data_list)"
   ]
  },
  {
   "cell_type": "code",
   "execution_count": null,
   "id": "43b4d5d3",
   "metadata": {},
   "outputs": [],
   "source": [
    "lifetime_per_component_df.head()"
   ]
  },
  {
   "cell_type": "code",
   "execution_count": null,
   "id": "a3521e49",
   "metadata": {},
   "outputs": [],
   "source": []
  },
  {
   "cell_type": "code",
   "execution_count": null,
   "id": "50faface",
   "metadata": {},
   "outputs": [],
   "source": [
    "def obtain_fifth_element(x):\n",
    "\n",
    "    return x[4]"
   ]
  },
  {
   "cell_type": "code",
   "execution_count": null,
   "id": "8bbe2186",
   "metadata": {},
   "outputs": [],
   "source": [
    "def obtain_fourth_element(x):\n",
    "\n",
    "    return x[3]"
   ]
  },
  {
   "cell_type": "code",
   "execution_count": null,
   "id": "0fc3d22e",
   "metadata": {},
   "outputs": [],
   "source": [
    "def obtain_third_element(x):\n",
    "\n",
    "    return x[2]"
   ]
  },
  {
   "cell_type": "code",
   "execution_count": null,
   "id": "72700c21",
   "metadata": {},
   "outputs": [],
   "source": [
    "def obtain_second_element(x):\n",
    "\n",
    "    return x[1]"
   ]
  },
  {
   "cell_type": "code",
   "execution_count": null,
   "id": "834f417d",
   "metadata": {},
   "outputs": [],
   "source": [
    "def obtain_first_element(x):\n",
    "\n",
    "    return x[0]"
   ]
  },
  {
   "cell_type": "code",
   "execution_count": null,
   "id": "ff893afa",
   "metadata": {},
   "outputs": [],
   "source": [
    "lifetime_per_component_df['Fix_Commit_Hash'] = lifetime_per_component_df[0].apply(obtain_fifth_element)"
   ]
  },
  {
   "cell_type": "code",
   "execution_count": null,
   "id": "9fa0af1b",
   "metadata": {},
   "outputs": [],
   "source": [
    "lifetime_per_component_df['Bug Type'] = lifetime_per_component_df[0].apply(obtain_fourth_element)"
   ]
  },
  {
   "cell_type": "code",
   "execution_count": null,
   "id": "65cbf6df",
   "metadata": {},
   "outputs": [],
   "source": [
    "lifetime_per_component_df['Buggy Line'] = lifetime_per_component_df[0].apply(obtain_second_element)"
   ]
  },
  {
   "cell_type": "code",
   "execution_count": null,
   "id": "3d5ee8b3",
   "metadata": {},
   "outputs": [],
   "source": [
    "lifetime_per_component_df['Bug ID'] = lifetime_per_component_df[0].apply(obtain_first_element)"
   ]
  },
  {
   "cell_type": "code",
   "execution_count": null,
   "id": "5b63ed9d",
   "metadata": {},
   "outputs": [],
   "source": [
    "lifetime_per_component_df[0] = lifetime_per_component_df[0].apply(obtain_third_element)"
   ]
  },
  {
   "cell_type": "code",
   "execution_count": null,
   "id": "fa99ce78",
   "metadata": {},
   "outputs": [],
   "source": [
    "lifetime_per_component_df.rename(columns = { 0 : 'Buggy Component', 1 : 'Lifetime'}, inplace = True)"
   ]
  },
  {
   "cell_type": "code",
   "execution_count": null,
   "id": "48b4aaf5",
   "metadata": {
    "scrolled": true
   },
   "outputs": [],
   "source": [
    "lifetime_per_component_df.head()"
   ]
  },
  {
   "cell_type": "markdown",
   "id": "8d2cd736",
   "metadata": {},
   "source": [
    "## Collecting Number of Authors and Number of times modified grouping by bug_id,buggy_line and buggy_component"
   ]
  },
  {
   "cell_type": "code",
   "execution_count": null,
   "id": "4569a74f",
   "metadata": {},
   "outputs": [],
   "source": [
    "groupby_author_dict =  buggy_elements_df.groupby(['bug_id','buggy_line_number','buggy_component','bug_type','fix_commit_hash'])['author_name'].apply(list).to_dict()"
   ]
  },
  {
   "cell_type": "code",
   "execution_count": null,
   "id": "a8ebb9fe",
   "metadata": {},
   "outputs": [],
   "source": [
    "print(groupby_author_dict)"
   ]
  },
  {
   "cell_type": "code",
   "execution_count": null,
   "id": "e43ec14c",
   "metadata": {},
   "outputs": [],
   "source": [
    "Number_Authors = []\n",
    "Number_Modified = []"
   ]
  },
  {
   "cell_type": "code",
   "execution_count": null,
   "id": "ba373895",
   "metadata": {},
   "outputs": [],
   "source": [
    "for k, v in groupby_author_dict.items():\n",
    "    \n",
    "    x = np.array(v)\n",
    "    Number_Modified.append(len(x))\n",
    "    Number_Authors.append(len(np.unique(x)))\n",
    "    "
   ]
  },
  {
   "cell_type": "markdown",
   "id": "e05abce6",
   "metadata": {},
   "source": [
    "# Adding number of authors to dataframe"
   ]
  },
  {
   "cell_type": "code",
   "execution_count": null,
   "id": "4d7ca463",
   "metadata": {},
   "outputs": [],
   "source": [
    "lifetime_per_component_df['Number of Authors'] = Number_Authors"
   ]
  },
  {
   "cell_type": "markdown",
   "id": "148b675d",
   "metadata": {},
   "source": [
    "# Adding number of times modified to dataframe"
   ]
  },
  {
   "cell_type": "code",
   "execution_count": null,
   "id": "05b422ea",
   "metadata": {},
   "outputs": [],
   "source": [
    "lifetime_per_component_df['Number of Times Modified'] = Number_Modified"
   ]
  },
  {
   "cell_type": "code",
   "execution_count": null,
   "id": "25d0827d",
   "metadata": {},
   "outputs": [],
   "source": [
    "lifetime_per_component_df.head()"
   ]
  },
  {
   "cell_type": "code",
   "execution_count": null,
   "id": "95e4fbdd",
   "metadata": {},
   "outputs": [],
   "source": [
    "lifetime_per_component_df.shape"
   ]
  },
  {
   "cell_type": "code",
   "execution_count": null,
   "id": "24bca20d",
   "metadata": {},
   "outputs": [],
   "source": [
    "lifetime_per_component_df = lifetime_per_component_df.sort_index(axis=1)"
   ]
  },
  {
   "cell_type": "markdown",
   "id": "47c1335d",
   "metadata": {},
   "source": [
    "# GroupBy buggy component and aggregation for Lifetime, Number of Authors and Number of times modified using the mean as metric"
   ]
  },
  {
   "cell_type": "code",
   "execution_count": null,
   "id": "42963397",
   "metadata": {
    "scrolled": true
   },
   "outputs": [],
   "source": [
    "component_df = lifetime_per_component_df.groupby('Buggy Component').aggregate({'Lifetime': 'mean',\n",
    "                             'Number of Authors': 'mean','Number of Times Modified' : 'mean'})\n"
   ]
  },
  {
   "cell_type": "markdown",
   "id": "289a3b00",
   "metadata": {},
   "source": [
    "# Converting seconds to days "
   ]
  },
  {
   "cell_type": "code",
   "execution_count": null,
   "id": "39599ca5",
   "metadata": {},
   "outputs": [],
   "source": [
    "def second_to_days(x):\n",
    "    \n",
    "    return x/60/60/24"
   ]
  },
  {
   "cell_type": "code",
   "execution_count": null,
   "id": "54d0b0c0",
   "metadata": {},
   "outputs": [],
   "source": [
    "## Testing function\n",
    "## input : 14322352 seconds\n",
    "## expected output : ~165.76796296 days\n",
    "\n",
    "print(second_to_days(14322352))\n"
   ]
  },
  {
   "cell_type": "code",
   "execution_count": null,
   "id": "699d042a",
   "metadata": {},
   "outputs": [],
   "source": [
    "component_df['Lifetime'] = component_df['Lifetime'].apply(second_to_days)"
   ]
  },
  {
   "cell_type": "code",
   "execution_count": null,
   "id": "2f0fc654",
   "metadata": {
    "scrolled": false
   },
   "outputs": [],
   "source": [
    "component_df.head()"
   ]
  },
  {
   "cell_type": "markdown",
   "id": "587418f4",
   "metadata": {},
   "source": [
    "## Quantum Number of Author, Number of Times modified, Lifetime buggy code element "
   ]
  },
  {
   "cell_type": "code",
   "execution_count": null,
   "id": "46e829cd",
   "metadata": {},
   "outputs": [],
   "source": [
    "quantum_bug_dataframe = lifetime_per_component_df.loc[((lifetime_per_component_df['Bug Type'] == 'Quantum'))]"
   ]
  },
  {
   "cell_type": "code",
   "execution_count": null,
   "id": "6274b62c",
   "metadata": {},
   "outputs": [],
   "source": [
    "quantum_component_df = quantum_bug_dataframe.groupby('Buggy Component').aggregate({'Lifetime': 'mean',\n",
    "                             'Number of Authors': 'mean','Number of Times Modified' : 'mean'})"
   ]
  },
  {
   "cell_type": "code",
   "execution_count": null,
   "id": "98623706",
   "metadata": {},
   "outputs": [],
   "source": [
    "quantum_component_df['Lifetime'] = quantum_component_df['Lifetime'].apply(second_to_days)"
   ]
  },
  {
   "cell_type": "markdown",
   "id": "19bfdf1c",
   "metadata": {},
   "source": [
    "## Classical Number of Author, Number of Times modified, Lifetime buggy code element "
   ]
  },
  {
   "cell_type": "code",
   "execution_count": null,
   "id": "3b5531ba",
   "metadata": {},
   "outputs": [],
   "source": [
    "classical_bug_dataframe = lifetime_per_component_df.loc[((lifetime_per_component_df['Bug Type'] == 'Classical'))]"
   ]
  },
  {
   "cell_type": "code",
   "execution_count": null,
   "id": "fd4049a0",
   "metadata": {},
   "outputs": [],
   "source": [
    "classical_component_df = classical_bug_dataframe.groupby('Buggy Component').aggregate({'Lifetime': 'mean',\n",
    "                             'Number of Authors': 'mean','Number of Times Modified' : 'mean'})"
   ]
  },
  {
   "cell_type": "code",
   "execution_count": null,
   "id": "8d3dc89a",
   "metadata": {},
   "outputs": [],
   "source": [
    "classical_component_df['Lifetime'] = classical_component_df['Lifetime'].apply(second_to_days)"
   ]
  },
  {
   "cell_type": "markdown",
   "id": "0cdc3a74",
   "metadata": {},
   "source": [
    "# Barplot generator for each feature "
   ]
  },
  {
   "cell_type": "markdown",
   "id": "4eb9969b",
   "metadata": {},
   "source": [
    "## Lifetime"
   ]
  },
  {
   "cell_type": "code",
   "execution_count": null,
   "id": "5c917d68",
   "metadata": {},
   "outputs": [],
   "source": [
    "quantum_lifetime = quantum_component_df['Lifetime'].to_numpy().tolist()\n",
    "classical_lifetime = classical_component_df['Lifetime'].to_numpy()\n",
    "\n",
    "classical_lifetime = np.insert(classical_lifetime, 29, 0)\n",
    "quantum_lifetime = np.insert(np.insert(quantum_lifetime, 6, 0),39,0)\n",
    "\n",
    "quantum_round_to_tenths = [round(num, 1) for num in quantum_lifetime]\n",
    "classical_round_to_tenths = [round(num, 1) for num in classical_lifetime]\n",
    "\n",
    "index = component_df.index.tolist()\n",
    "\n",
    "df = pd.DataFrame({'Quantum':quantum_round_to_tenths ,\n",
    "                   'Classical':classical_round_to_tenths}, index=index )\n",
    "\n",
    "ax = df.plot.barh(figsize=(25,25), color = {'Quantum':'black', 'Classical':'gray'})\n",
    "\n",
    "for p in ax.patches:\n",
    "    \n",
    "    ax.annotate(str(p.get_width()), (p.get_x() + p.get_width(), p.get_y()), xytext=(2, 2), textcoords='offset points', size = 6, fontsize=9)\n",
    "    \n",
    "\n",
    "ax.figure.savefig(\"RQ2_Lifetime.pdf\", bbox_inches='tight',)\n"
   ]
  },
  {
   "cell_type": "markdown",
   "id": "748b9e8e",
   "metadata": {},
   "source": [
    "## Number of Authors"
   ]
  },
  {
   "cell_type": "code",
   "execution_count": null,
   "id": "8017b4a9",
   "metadata": {},
   "outputs": [],
   "source": [
    "quantum_author = quantum_component_df['Number of Authors'].to_numpy().tolist()\n",
    "classical_author = classical_component_df['Number of Authors'].to_numpy()\n",
    "\n",
    "classical_author = np.insert(classical_author, 29, 0)\n",
    "quantum_author = np.insert(np.insert(quantum_author, 6, 0),39,0)\n",
    "\n",
    "quantum_round_to_tenths = [round(num, 1) for num in quantum_author]\n",
    "classical_round_to_tenths = [round(num, 1) for num in classical_author]\n",
    "\n",
    "index = component_df.index.tolist()\n",
    "\n",
    "df = pd.DataFrame({'Quantum':quantum_round_to_tenths ,\n",
    "                   'Classical':classical_round_to_tenths}, index=index )\n",
    "\n",
    "ax = df.plot.barh(figsize=(25,25), color = {'Quantum':'black', 'Classical':'gray'})\n",
    "\n",
    "for p in ax.patches:\n",
    "    \n",
    "    ax.annotate(str(p.get_width()), (p.get_x() + p.get_width(), p.get_y()), xytext=(2, 2), textcoords='offset points', size = 6, fontsize=9)\n",
    "\n",
    "ax.figure.savefig(\"RQ2_Author.pdf\", bbox_inches='tight',)"
   ]
  },
  {
   "cell_type": "markdown",
   "id": "85d860da",
   "metadata": {},
   "source": [
    "## Number of Times Modified"
   ]
  },
  {
   "cell_type": "code",
   "execution_count": null,
   "id": "046388a9",
   "metadata": {},
   "outputs": [],
   "source": [
    "quantum_modified = quantum_component_df['Number of Times Modified'].to_numpy().tolist()\n",
    "classical_modified = classical_component_df['Number of Times Modified'].to_numpy()\n",
    "\n",
    "classical_modified = np.insert(classical_modified, 29, 0)\n",
    "quantum_modified = np.insert(np.insert(quantum_modified, 6, 0),39,0)\n",
    "\n",
    "quantum_round_to_tenths = [round(num, 1) for num in quantum_modified]\n",
    "classical_round_to_tenths = [round(num, 1) for num in classical_modified]\n",
    "\n",
    "index = component_df.index.tolist()\n",
    "\n",
    "df = pd.DataFrame({'Quantum':quantum_round_to_tenths ,\n",
    "                   'Classical':classical_round_to_tenths}, index=index )\n",
    "\n",
    "ax = df.plot.barh(figsize=(25,25), color = {'Quantum':'black', 'Classical':'gray'})\n",
    "\n",
    "for p in ax.patches:\n",
    "    \n",
    "    ax.annotate(str(p.get_width()), (p.get_x() + p.get_width(), p.get_y()), xytext=(2, 2), textcoords='offset points', size = 6, fontsize=9)\n",
    "\n",
    "    \n",
    "ax.figure.savefig(\"RQ2_Modifications.pdf\", bbox_inches='tight',)"
   ]
  },
  {
   "cell_type": "markdown",
   "id": "933ae4c1",
   "metadata": {},
   "source": [
    "## Boxplot"
   ]
  },
  {
   "cell_type": "code",
   "execution_count": null,
   "id": "92707122",
   "metadata": {},
   "outputs": [],
   "source": [
    "classical_boxplot_component_bugId_df = classical_bug_dataframe.groupby(['Buggy Component', 'Bug ID']).aggregate({'Lifetime': 'mean',\n",
    "                             'Number of Authors': 'mean','Number of Times Modified' : 'mean'})"
   ]
  },
  {
   "cell_type": "code",
   "execution_count": null,
   "id": "2dabdec6",
   "metadata": {},
   "outputs": [],
   "source": [
    "classical_boxplot_component_bugId_df['Lifetime'] = classical_boxplot_component_bugId_df['Lifetime'].apply(second_to_days)"
   ]
  },
  {
   "cell_type": "code",
   "execution_count": null,
   "id": "2d011c05",
   "metadata": {},
   "outputs": [],
   "source": [
    "classical_boxplot_component_bugId_df.head()"
   ]
  },
  {
   "cell_type": "code",
   "execution_count": null,
   "id": "1451b91e",
   "metadata": {},
   "outputs": [],
   "source": [
    "quantum_boxplot_component_bugId_df =  quantum_bug_dataframe.groupby(['Buggy Component', 'Bug ID']).aggregate({'Lifetime': 'mean',\n",
    "                             'Number of Authors': 'mean','Number of Times Modified' : 'mean'})"
   ]
  },
  {
   "cell_type": "code",
   "execution_count": null,
   "id": "ee451e14",
   "metadata": {},
   "outputs": [],
   "source": [
    "quantum_boxplot_component_bugId_df['Lifetime'] = quantum_boxplot_component_bugId_df['Lifetime'].apply(second_to_days)"
   ]
  },
  {
   "cell_type": "code",
   "execution_count": null,
   "id": "7a8868b1",
   "metadata": {},
   "outputs": [],
   "source": [
    "quantum_boxplot_component_bugId_df.head()"
   ]
  },
  {
   "cell_type": "code",
   "execution_count": null,
   "id": "62bd53bf",
   "metadata": {},
   "outputs": [],
   "source": [
    "fig, (ax1, ax2) = plt.subplots(nrows=2, figsize = (25,25))\n",
    "\n",
    "classical_boxplot_component_bugId_df.boxplot(column=['Lifetime'],by='Buggy Component',vert=False, figsize=(25,25),ax = ax2)\n",
    "\n",
    "quantum_boxplot_component_bugId_df.boxplot(column=['Lifetime'],by='Buggy Component',vert=False, figsize=(25,25), ax = ax1)\n",
    "\n",
    "plt.title('')\n",
    "plt.suptitle('')\n",
    "ax1.set_title('Quantum');\n",
    "ax1.set_xlabel(\"\");\n",
    "ax1.set_ylabel(\"\");\n",
    "ax2.set_title('Classical');\n",
    "ax2.set_xlabel(\"\");\n",
    "ax2.set_ylabel(\"\");\n",
    "\n",
    "fig.savefig(\"Average_Lifetime_Distribution_Per_BugID_BuggyComponent.pdf\", bbox_inches='tight',)\n",
    "\n",
    "\n"
   ]
  },
  {
   "cell_type": "code",
   "execution_count": null,
   "id": "1376cc4a",
   "metadata": {},
   "outputs": [],
   "source": [
    "fig, (ax1, ax2) = plt.subplots(nrows=2, figsize = (25,25))\n",
    "\n",
    "classical_boxplot_component_bugId_df.boxplot(column=['Number of Times Modified'],by='Buggy Component',vert=False, figsize=(25,25),ax = ax2)\n",
    "\n",
    "quantum_boxplot_component_bugId_df.boxplot(column=['Number of Times Modified'],by='Buggy Component',vert=False, figsize=(25,25), ax = ax1)\n",
    "\n",
    "plt.title('')\n",
    "plt.suptitle('')\n",
    "ax1.set_title('Quantum');\n",
    "ax1.set_xlabel(\"\");\n",
    "ax1.set_ylabel(\"\");\n",
    "ax2.set_title('Classical');\n",
    "ax2.set_xlabel(\"\");\n",
    "ax2.set_ylabel(\"\");\n",
    "\n",
    "\n",
    "fig.savefig(\"Average_NumberOfTimesModified_Distribution_Per_BugID_BuggyComponent.pdf\", bbox_inches='tight',)"
   ]
  },
  {
   "cell_type": "code",
   "execution_count": null,
   "id": "7d610c8c",
   "metadata": {},
   "outputs": [],
   "source": [
    "fig, (ax1, ax2) = plt.subplots(nrows=2, figsize = (25,25))\n",
    "\n",
    "classical_boxplot_component_bugId_df.boxplot(column=['Number of Authors'],by='Buggy Component',vert=False, figsize=(25,25),ax = ax2)\n",
    "\n",
    "quantum_boxplot_component_bugId_df.boxplot(column=['Number of Authors'],by='Buggy Component',vert=False, figsize=(25,25), ax = ax1)\n",
    "\n",
    "plt.title('')\n",
    "plt.suptitle('')\n",
    "ax1.set_title('Quantum');\n",
    "ax1.set_xlabel(\"\");\n",
    "ax1.set_ylabel(\"\");\n",
    "ax2.set_title('Classical');\n",
    "ax2.set_xlabel(\"\");\n",
    "ax2.set_ylabel(\"\");\n",
    "\n",
    "\n",
    "\n",
    "fig.savefig(\"Average_NumberOfAuthors_Distribution_Per_BugID_BuggyComponent.pdf\", bbox_inches='tight',)"
   ]
  },
  {
   "cell_type": "code",
   "execution_count": null,
   "id": "624c77ed",
   "metadata": {},
   "outputs": [],
   "source": []
  }
 ],
 "metadata": {
  "kernelspec": {
   "display_name": "Python 3",
   "language": "python",
   "name": "python3"
  },
  "language_info": {
   "codemirror_mode": {
    "name": "ipython",
    "version": 3
   },
   "file_extension": ".py",
   "mimetype": "text/x-python",
   "name": "python",
   "nbconvert_exporter": "python",
   "pygments_lexer": "ipython3",
   "version": "3.8.8"
  }
 },
 "nbformat": 4,
 "nbformat_minor": 5
}
